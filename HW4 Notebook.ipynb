{
 "cells": [
  {
   "cell_type": "markdown",
   "metadata": {},
   "source": [
    "### Problem 1"
   ]
  },
  {
   "cell_type": "code",
   "execution_count": 2,
   "metadata": {},
   "outputs": [],
   "source": [
    "# import handy libraries;\n",
    "import numpy as np\n",
    "import pandas as pd"
   ]
  },
  {
   "cell_type": "code",
   "execution_count": 276,
   "metadata": {},
   "outputs": [
    {
     "name": "stdout",
     "output_type": "stream",
     "text": [
      "total number of unique records is: 14\n",
      "['Masters' 'HS-grad' 'Bachelors' 'Some-college' 'Assoc-acdm' '11th']\n",
      "6\n",
      "['Married-civ-spouse' 'Widowed' 'Divorced' 'Married-spouse-absent'\n",
      " 'Never-married']\n",
      "5\n"
     ]
    },
    {
     "data": {
      "text/html": [
       "<div>\n",
       "<style scoped>\n",
       "    .dataframe tbody tr th:only-of-type {\n",
       "        vertical-align: middle;\n",
       "    }\n",
       "\n",
       "    .dataframe tbody tr th {\n",
       "        vertical-align: top;\n",
       "    }\n",
       "\n",
       "    .dataframe thead th {\n",
       "        text-align: right;\n",
       "    }\n",
       "</style>\n",
       "<table border=\"1\" class=\"dataframe\">\n",
       "  <thead>\n",
       "    <tr style=\"text-align: right;\">\n",
       "      <th></th>\n",
       "      <th>age</th>\n",
       "      <th>occupation</th>\n",
       "      <th>education</th>\n",
       "      <th>education-num</th>\n",
       "      <th>marital-status</th>\n",
       "      <th>race</th>\n",
       "      <th>sex</th>\n",
       "    </tr>\n",
       "  </thead>\n",
       "  <tbody>\n",
       "    <tr>\n",
       "      <th>920</th>\n",
       "      <td>59</td>\n",
       "      <td>Craft-repair</td>\n",
       "      <td>Masters</td>\n",
       "      <td>14</td>\n",
       "      <td>Married-civ-spouse</td>\n",
       "      <td>Asian-Pac-Islander</td>\n",
       "      <td>Female</td>\n",
       "    </tr>\n",
       "    <tr>\n",
       "      <th>4804</th>\n",
       "      <td>49</td>\n",
       "      <td>Craft-repair</td>\n",
       "      <td>HS-grad</td>\n",
       "      <td>9</td>\n",
       "      <td>Widowed</td>\n",
       "      <td>Asian-Pac-Islander</td>\n",
       "      <td>Female</td>\n",
       "    </tr>\n",
       "    <tr>\n",
       "      <th>9600</th>\n",
       "      <td>33</td>\n",
       "      <td>Craft-repair</td>\n",
       "      <td>HS-grad</td>\n",
       "      <td>9</td>\n",
       "      <td>Divorced</td>\n",
       "      <td>Asian-Pac-Islander</td>\n",
       "      <td>Female</td>\n",
       "    </tr>\n",
       "    <tr>\n",
       "      <th>10084</th>\n",
       "      <td>28</td>\n",
       "      <td>Craft-repair</td>\n",
       "      <td>Bachelors</td>\n",
       "      <td>13</td>\n",
       "      <td>Married-spouse-absent</td>\n",
       "      <td>Asian-Pac-Islander</td>\n",
       "      <td>Female</td>\n",
       "    </tr>\n",
       "    <tr>\n",
       "      <th>10476</th>\n",
       "      <td>22</td>\n",
       "      <td>Craft-repair</td>\n",
       "      <td>Some-college</td>\n",
       "      <td>10</td>\n",
       "      <td>Never-married</td>\n",
       "      <td>Asian-Pac-Islander</td>\n",
       "      <td>Female</td>\n",
       "    </tr>\n",
       "    <tr>\n",
       "      <th>11961</th>\n",
       "      <td>25</td>\n",
       "      <td>Craft-repair</td>\n",
       "      <td>Some-college</td>\n",
       "      <td>10</td>\n",
       "      <td>Never-married</td>\n",
       "      <td>Asian-Pac-Islander</td>\n",
       "      <td>Female</td>\n",
       "    </tr>\n",
       "    <tr>\n",
       "      <th>12627</th>\n",
       "      <td>26</td>\n",
       "      <td>Craft-repair</td>\n",
       "      <td>Assoc-acdm</td>\n",
       "      <td>12</td>\n",
       "      <td>Married-spouse-absent</td>\n",
       "      <td>Asian-Pac-Islander</td>\n",
       "      <td>Female</td>\n",
       "    </tr>\n",
       "    <tr>\n",
       "      <th>14697</th>\n",
       "      <td>20</td>\n",
       "      <td>Craft-repair</td>\n",
       "      <td>11th</td>\n",
       "      <td>7</td>\n",
       "      <td>Married-spouse-absent</td>\n",
       "      <td>Asian-Pac-Islander</td>\n",
       "      <td>Female</td>\n",
       "    </tr>\n",
       "    <tr>\n",
       "      <th>16440</th>\n",
       "      <td>37</td>\n",
       "      <td>Craft-repair</td>\n",
       "      <td>HS-grad</td>\n",
       "      <td>9</td>\n",
       "      <td>Divorced</td>\n",
       "      <td>Asian-Pac-Islander</td>\n",
       "      <td>Female</td>\n",
       "    </tr>\n",
       "    <tr>\n",
       "      <th>16742</th>\n",
       "      <td>22</td>\n",
       "      <td>Craft-repair</td>\n",
       "      <td>Some-college</td>\n",
       "      <td>10</td>\n",
       "      <td>Never-married</td>\n",
       "      <td>Asian-Pac-Islander</td>\n",
       "      <td>Female</td>\n",
       "    </tr>\n",
       "    <tr>\n",
       "      <th>19175</th>\n",
       "      <td>21</td>\n",
       "      <td>Craft-repair</td>\n",
       "      <td>HS-grad</td>\n",
       "      <td>9</td>\n",
       "      <td>Never-married</td>\n",
       "      <td>Asian-Pac-Islander</td>\n",
       "      <td>Female</td>\n",
       "    </tr>\n",
       "    <tr>\n",
       "      <th>20140</th>\n",
       "      <td>40</td>\n",
       "      <td>Craft-repair</td>\n",
       "      <td>HS-grad</td>\n",
       "      <td>9</td>\n",
       "      <td>Divorced</td>\n",
       "      <td>Asian-Pac-Islander</td>\n",
       "      <td>Female</td>\n",
       "    </tr>\n",
       "    <tr>\n",
       "      <th>25122</th>\n",
       "      <td>65</td>\n",
       "      <td>Craft-repair</td>\n",
       "      <td>Some-college</td>\n",
       "      <td>10</td>\n",
       "      <td>Widowed</td>\n",
       "      <td>Asian-Pac-Islander</td>\n",
       "      <td>Female</td>\n",
       "    </tr>\n",
       "    <tr>\n",
       "      <th>31602</th>\n",
       "      <td>18</td>\n",
       "      <td>Craft-repair</td>\n",
       "      <td>HS-grad</td>\n",
       "      <td>9</td>\n",
       "      <td>Never-married</td>\n",
       "      <td>Asian-Pac-Islander</td>\n",
       "      <td>Female</td>\n",
       "    </tr>\n",
       "  </tbody>\n",
       "</table>\n",
       "</div>"
      ],
      "text/plain": [
       "       age    occupation     education  education-num         marital-status  \\\n",
       "920     59  Craft-repair       Masters             14     Married-civ-spouse   \n",
       "4804    49  Craft-repair       HS-grad              9                Widowed   \n",
       "9600    33  Craft-repair       HS-grad              9               Divorced   \n",
       "10084   28  Craft-repair     Bachelors             13  Married-spouse-absent   \n",
       "10476   22  Craft-repair  Some-college             10          Never-married   \n",
       "11961   25  Craft-repair  Some-college             10          Never-married   \n",
       "12627   26  Craft-repair    Assoc-acdm             12  Married-spouse-absent   \n",
       "14697   20  Craft-repair          11th              7  Married-spouse-absent   \n",
       "16440   37  Craft-repair       HS-grad              9               Divorced   \n",
       "16742   22  Craft-repair  Some-college             10          Never-married   \n",
       "19175   21  Craft-repair       HS-grad              9          Never-married   \n",
       "20140   40  Craft-repair       HS-grad              9               Divorced   \n",
       "25122   65  Craft-repair  Some-college             10                Widowed   \n",
       "31602   18  Craft-repair       HS-grad              9          Never-married   \n",
       "\n",
       "                     race     sex  \n",
       "920    Asian-Pac-Islander  Female  \n",
       "4804   Asian-Pac-Islander  Female  \n",
       "9600   Asian-Pac-Islander  Female  \n",
       "10084  Asian-Pac-Islander  Female  \n",
       "10476  Asian-Pac-Islander  Female  \n",
       "11961  Asian-Pac-Islander  Female  \n",
       "12627  Asian-Pac-Islander  Female  \n",
       "14697  Asian-Pac-Islander  Female  \n",
       "16440  Asian-Pac-Islander  Female  \n",
       "16742  Asian-Pac-Islander  Female  \n",
       "19175  Asian-Pac-Islander  Female  \n",
       "20140  Asian-Pac-Islander  Female  \n",
       "25122  Asian-Pac-Islander  Female  \n",
       "31602  Asian-Pac-Islander  Female  "
      ]
     },
     "execution_count": 276,
     "metadata": {},
     "output_type": "execute_result"
    }
   ],
   "source": [
    "# finding informatino from solely a single table, table 1. \n",
    "\n",
    "table1 = pd.read_csv(\"table1.csv\")\n",
    "\n",
    "selection1 = (table1[(table1[\"occupation\"] == \"Craft-repair\") & (table1[\"sex\"] == \"Female\") &\n",
    "             (table1[\"race\"] == \"Asian-Pac-Islander\")])\n",
    "\n",
    "print(\"total number of unique records is: \" +str(len(selection1)))\n",
    "print(selection1['education'].unique())\n",
    "print(len(selection1['education'].unique()))\n",
    "print(selection1['marital-status'].unique())\n",
    "print(len(selection1['marital-status'].unique()))\n",
    "selection1"
   ]
  },
  {
   "cell_type": "markdown",
   "metadata": {},
   "source": [
    "By using only tale 1, the user is able to narrow the search down to 14 seperate individuals. These individuals are part of 6 unique education levels and 5 unique marital statuses. "
   ]
  },
  {
   "cell_type": "code",
   "execution_count": 274,
   "metadata": {},
   "outputs": [
    {
     "data": {
      "text/html": [
       "<div>\n",
       "<style scoped>\n",
       "    .dataframe tbody tr th:only-of-type {\n",
       "        vertical-align: middle;\n",
       "    }\n",
       "\n",
       "    .dataframe tbody tr th {\n",
       "        vertical-align: top;\n",
       "    }\n",
       "\n",
       "    .dataframe thead th {\n",
       "        text-align: right;\n",
       "    }\n",
       "</style>\n",
       "<table border=\"1\" class=\"dataframe\">\n",
       "  <thead>\n",
       "    <tr style=\"text-align: right;\">\n",
       "      <th></th>\n",
       "      <th>age</th>\n",
       "      <th>occupation</th>\n",
       "      <th>race</th>\n",
       "      <th>sex</th>\n",
       "      <th>capital-gain</th>\n",
       "      <th>capital-loss</th>\n",
       "      <th>hours-per-week</th>\n",
       "      <th>native-country</th>\n",
       "      <th>income</th>\n",
       "    </tr>\n",
       "  </thead>\n",
       "  <tbody>\n",
       "    <tr>\n",
       "      <th>29431</th>\n",
       "      <td>59</td>\n",
       "      <td>Craft-repair</td>\n",
       "      <td>Asian-Pac-Islander</td>\n",
       "      <td>Female</td>\n",
       "      <td>0</td>\n",
       "      <td>0</td>\n",
       "      <td>35</td>\n",
       "      <td>Philippines</td>\n",
       "      <td>&lt;=50K</td>\n",
       "    </tr>\n",
       "  </tbody>\n",
       "</table>\n",
       "</div>"
      ],
      "text/plain": [
       "       age    occupation                race     sex  capital-gain  \\\n",
       "29431   59  Craft-repair  Asian-Pac-Islander  Female             0   \n",
       "\n",
       "       capital-loss  hours-per-week native-country income  \n",
       "29431             0              35    Philippines  <=50K  "
      ]
     },
     "execution_count": 274,
     "metadata": {},
     "output_type": "execute_result"
    }
   ],
   "source": [
    "# combining the primary table to the second table \n",
    "\n",
    "table2 = pd.read_csv(\"table2.csv\")\n",
    "\n",
    "selection2 = (table2[(table2[\"occupation\"] == \"Craft-repair\") & (table2[\"sex\"] == \"Female\") &\n",
    "             (table2[\"race\"] == \"Asian-Pac-Islander\") & (table2['native-country'] == 'Philippines')])\n",
    "selection2\n",
    "#table2"
   ]
  },
  {
   "cell_type": "markdown",
   "metadata": {},
   "source": [
    "Alone, table 2 doesnt provide the analyst with any useful information about this person, however, it does provide theri age, which can be corss referenced with table 1 to return a single unique individual who obtained a masters degree and has a Married-civ-spouse marital status. On their own, neighter of the tables allowed this person to be found, however, together they allowed a user to isolate this one person. "
   ]
  },
  {
   "cell_type": "markdown",
   "metadata": {
    "id": "cHSaycfVdHRJ"
   },
   "source": [
    "### Problem 2\n",
    "\n",
    "Experimenting with **k-anomity, i-diversity, and t-closeness**. \n",
    "\n",
    "Consider a dataset, for example, with 3 ordinary attributes and 1 sensitive attribute. Let the 3 ordinary attributes be Age, Sex, and Education and the sensitive attribute be Income, each row in this dataset is of the form:\n",
    "\n",
    "$$\n",
    "    [Age, Sex, Education, Income]\n",
    "$$\n",
    "\n",
    "A hacker is interested in knowing the sensitive attribute Income. When the dataset is designed so that if complies with either **k-anomity**, **i-diversity**, and/or **t-closeness**, even if he or she somehow figures out the values of the three, the hacker may not retrive the sensitive information accurately. In general, **k-anomity** is weaker than **i-diversity**, which, in turn, is weaker than **t-closeness**.\n",
    "\n",
    "By definition, **k-anomity** means that there is at least **k** different rows in the table of which ordinary values are a particular combination of Age, Sex, and Education. For example, the hacker knows the information of the person of interest is Age = 31, Sex = Female, and Education = BS. He or she looks into the data table and found that there are 3 rows with that combination:\n",
    "\n",
    "$$\n",
    "    [Age=31, Sex=Female, Education=BS, Income=300k]\n",
    "$$\n",
    "$$\n",
    "    [Age=31, Sex=Female, Education=BS, Income=70k]\n",
    "$$\n",
    "$$\n",
    "    [Age=31, Sex=Female, Education=BS, Income=20k]\n",
    "$$\n",
    "\n",
    "The hacker cannot tell accurately what the income of the person is because it can be one of the 3 values shown. This particular combination of information has 3-anomity. If every combination corresponds to at least 3 rows, then the dataset has 3-anomity.\n",
    "\n",
    "a) Let's look at the dataset **\"table3.csv\"**, a simplified version of **\"table1.csv\"** from problem 1. Let the sensitive attribute be **education** and others be ordinary attributes. Calculate the anomity of the dataset (the value **k**). First, find all the posible combinations of the ordinary attributes that exists in the dataset. After that, determine the anomity for each combination. The anomity of the dataset is the smallest anomity among the combinations."
   ]
  },
  {
   "cell_type": "code",
   "execution_count": 107,
   "metadata": {
    "id": "Qrm7S5y5dHRJ"
   },
   "outputs": [
    {
     "name": "stdout",
     "output_type": "stream",
     "text": [
      "# of unique values : 73\n",
      "each unique value : [39, 50, 38, 53, 28, 37, 49, 52, 31, 42, 30, 23, 32, 40, 34, 25, 43, 54, 35, 59, 56, 19, 20, 45, 22, 48, 21, 24, 57, 44, 41, 29, 18, 47, 46, 36, 79, 27, 67, 33, 76, 17, 55, 61, 70, 64, 71, 68, 66, 51, 58, 26, 60, 90, 75, 65, 77, 62, 63, 80, 72, 74, 69, 73, 81, 78, 88, 82, 83, 84, 85, 86, 87]\n",
      "None\n",
      "# of unique values : 16\n",
      "each unique value : ['Bachelors', 'HS-grad', '11th', 'Masters', '9th', 'Some-college', 'Assoc-acdm', 'Assoc-voc', '7th-8th', 'Doctorate', 'Prof-school', '5th-6th', '10th', '1st-4th', 'Preschool', '12th']\n",
      "None\n",
      "# of unique values : 5\n",
      "each unique value : ['White', 'Black', 'Asian-Pac-Islander', 'Amer-Indian-Eskimo', 'Other']\n",
      "None\n",
      "# of unique values : 2\n",
      "each unique value : ['Male', 'Female']\n",
      "None\n"
     ]
    }
   ],
   "source": [
    "table3 = pd.read_csv(\"table3.csv\")\n",
    "\n",
    "table3 = table3.drop(['Unnamed: 0'], axis=1)\n",
    "\n",
    "#finding all unique vlaues. \n",
    "def uniquec(attribute):\n",
    "    cnt = 0\n",
    "    lst = []\n",
    "    \n",
    "    for i in range(0, len (attribute)):\n",
    "        if attribute [i] not in lst:\n",
    "            lst.append(attribute[i])\n",
    "            cnt +=1\n",
    "    print(\"# of unique values :\", cnt)\n",
    "    print(\"each unique value :\", lst)\n",
    "    \n",
    "print(uniquec(table3['age']))\n",
    "print(uniquec(table3['education']))\n",
    "print(uniquec(table3['race']))\n",
    "print(uniquec(table3['sex']))"
   ]
  },
  {
   "cell_type": "code",
   "execution_count": 104,
   "metadata": {},
   "outputs": [
    {
     "data": {
      "text/plain": [
       "age  race                sex   \n",
       "17   Amer-Indian-Eskimo  Female     2\n",
       "                         Male       1\n",
       "     Asian-Pac-Islander  Female     2\n",
       "     Black               Female    15\n",
       "                         Male      19\n",
       "                                   ..\n",
       "90   Asian-Pac-Islander  Male       5\n",
       "     Black               Female     2\n",
       "                         Male       2\n",
       "     White               Female    12\n",
       "                         Male      22\n",
       "Length: 546, dtype: int64"
      ]
     },
     "execution_count": 104,
     "metadata": {},
     "output_type": "execute_result"
    }
   ],
   "source": [
    "# conducting unique vlaue EDA\n",
    "mytale = table3.groupby(['age', 'race', 'sex']).size()\n",
    "mytale # we know there are 546 unique values "
   ]
  },
  {
   "cell_type": "code",
   "execution_count": 220,
   "metadata": {},
   "outputs": [
    {
     "name": "stdout",
     "output_type": "stream",
     "text": [
      "Minimum key value for k is:  1\n",
      "this means that the total anomity for the datset is 1.\n"
     ]
    }
   ],
   "source": [
    "# agrregating the data, \n",
    "tale2 = table3.groupby(['age', 'race', 'sex']).size().reset_index().rename(columns={0:'count'})\n",
    "\n",
    "tale2['age'] = tale2['age'].apply(str)\n",
    "# turn tale2 into a dictionary\n",
    "\n",
    "# begin by reshaping dataframe\n",
    "tale2['key'] = tale2['race'] +  tale2[\"sex\"] + tale2['age']\n",
    "tale2new = tale2.drop(['race', 'sex', 'age'], axis =1)\n",
    "\n",
    "# cast this into a dictionary!\n",
    "kdict = tale2new.set_index('key')['count'].to_dict()\n",
    "keyMin = min(kdict.keys(), key = (lambda k: kdict[k]))\n",
    "# find the min value in the dictionary:\n",
    "print('Minimum key value for k is: ' , kdict[keyMin])\n",
    "print('this means that the total anomity for the datset is 1.') "
   ]
  },
  {
   "cell_type": "markdown",
   "metadata": {
    "id": "ixGLowBjdHRK"
   },
   "source": [
    "We can improve the **k-anomity** of the dataset by \"suppressing\" the ordinary attributes. Suppressing means reducing the resolution of the attribute's value. For this problem, let's suppress Age by replacing the exact age with an age range. For example, instead of leaving age = 32, replace it with age = 30-40. Apply this to **\"table3.csv\"** with the ranges {<20, 20-30, 30-50, >50}. Check if the anomity improves. "
   ]
  },
  {
   "cell_type": "code",
   "execution_count": 246,
   "metadata": {
    "id": "AGqI5mltdHRK"
   },
   "outputs": [
    {
     "name": "stdout",
     "output_type": "stream",
     "text": [
      "<class 'dict'>\n",
      "Minimum key value for k is:  1\n",
      "this means that the total anomity for the datset is 1.\n",
      "OtherFemale60s\n",
      "despite best efforts, the k-anonimity of the dataset couldnt be imporved because there is still only one lady lady who identifies as other ethnicity in the 60s age bracket which makes her still identifiable and entire  anomity of the dataset still =1\n"
     ]
    }
   ],
   "source": [
    "#will abstract this data building off the dataframe \"tale2\"\n",
    "age = table3[\"age\"].unique()\n",
    "#print(sorted(age)) # here we get that the min is 17 and the max is 90\n",
    "\n",
    "# we will bin the ages in the column 'age', by 10-20, 20-30, 30-40 etc:\n",
    "bins = [-np.inf, 11, 19, 29, 39, 49, 59, 69, 79, 89, np.inf]\n",
    "agebins = [0, '10s', '20s', '30s', '40s', '50s', '60s', '70s', '80s', '90s']\n",
    "table3['ageRange'] = pd.cut(table3['age'], bins=bins, labels=agebins)\n",
    "\n",
    "\n",
    "# agrregating the data, \n",
    "suppresedTable = table3.groupby(['ageRange', 'race', 'sex']).size().reset_index().rename(columns={0:'count'})\n",
    "\n",
    "suppresedTable['ageRange'] = suppresedTable['ageRange'].astype(str)\n",
    "# turn tale2 into a dictionary\n",
    "\n",
    "# begin by reshaping dataframe\n",
    "suppresedTable['key'] = suppresedTable['race'] +  suppresedTable[\"sex\"] + suppresedTable['ageRange']\n",
    "tale3new = suppresedTable.drop(['race', 'sex', 'ageRange'], axis =1)\n",
    "\n",
    "# cast this into a dictionary!\n",
    "kdictsuppressed = tale3new.set_index('key')['count'].to_dict()\n",
    "print(type(kdictsuppressed))\n",
    "# remove keys that have valeus == to 0. \n",
    "kdict2 = {k:v for k,v in kdictsuppressed.items() if v != 0}\n",
    "keyMin = min(kdict2.keys(), key = (lambda k: kdict2[k]))\n",
    "# find the min value in the dictionary:\n",
    "print('Minimum key value for k is: ' , kdict2[keyMin])\n",
    "print('this means that the total anomity for the datset is 1.') \n",
    "\n",
    "print(min(kdict2, key=kdict2.get))\n",
    "\n",
    "print('despite best efforts, the k-anonimity of the dataset couldnt be imporved because there is still only one lady lady who identifies as other ethnicity in the 60s age bracket which makes her still identifiable and entire  anomity of the dataset still =1')"
   ]
  },
  {
   "cell_type": "markdown",
   "metadata": {
    "id": "Pv-RmXqCdHRK"
   },
   "source": [
    "**K-anomity** is nice, however, it fails in many cases. If the rows which share a combination of ordinary attributes have only a few values for the sensitive attribute, then it is not much better than having no anomity at all. For example, consider:\n",
    "\n",
    "$$\n",
    "    [Age=31, Sex=Female, Education=BS, Income=300k]\n",
    "$$\n",
    "$$\n",
    "    [Age=31, Sex=Female, Education=BS, Income=20k]\n",
    "$$\n",
    "$$\n",
    "    [Age=31, Sex=Female, Education=BS, Income=20k]\n",
    "$$\n",
    "$$\n",
    "    [Age=31, Sex=Female, Education=BS, Income=20k]\n",
    "$$\n",
    "\n",
    "When **k-anomity** fails in the second case, **i-diversity** comes to the rescue. **I-diversity** states that the rows of a particular combination of information must have at least i different values for the sensitive attribute. The above example has 2-diversity, which is not good. \n",
    "\n",
    "b) Calculate the diversity of the dataset **\"table3.csv\"**. Follow similar steps as in part a. "
   ]
  },
  {
   "cell_type": "code",
   "execution_count": 219,
   "metadata": {
    "id": "eZYCvcukdHRK"
   },
   "outputs": [
    {
     "name": "stdout",
     "output_type": "stream",
     "text": [
      "Minimum key value for k is:  1\n",
      "Maximum key value for k is:  16\n",
      "this means that the total anomity for the datset is 1.\n"
     ]
    }
   ],
   "source": [
    "# instead of counting, the number of unique education values is given. \n",
    "grouped = table3.groupby(['age', 'race', 'sex']).nunique().reset_index().drop(['ageRange'], axis=1)#.rename(columns={0:'count'})\n",
    "\n",
    "# cast age to str\n",
    "grouped['age'] = grouped['age'].apply(str)\n",
    "\n",
    "# begin by reshaping dataframe\n",
    "grouped['key'] = grouped['race'] +  grouped[\"sex\"] + grouped['age']\n",
    "groupednew = grouped.drop(['race', 'sex', 'age'], axis =1)\n",
    "\n",
    "# creating dictionary\n",
    "idict = groupednew.set_index('key')['education'].to_dict()\n",
    "ikeyMin = min(idict.keys(), key = (lambda k: idict[k]))\n",
    "ikeyMax = max(idict.keys(), key = lambda k: idict[k])\n",
    "# find the min value in the dictionary:\n",
    "print('Minimum key value for k is: ' , idict[ikeyMin])\n",
    "print('Maximum key value for k is: ' , idict[ikeyMax])\n",
    "print('this means that the total anomity for the datset is 1.') \n",
    "\n",
    "# we can tell that the unique values were searched correctly becuase the max number of unique values for education is returned as 16. "
   ]
  },
  {
   "cell_type": "markdown",
   "metadata": {
    "id": "6qWt9JvTdHRK"
   },
   "source": [
    "Suppressing an attribute can also improve the **i-diversity** of the dataset. Repeat the suppression as in **part a** and check if the diversity improves. If it does not, consider further suppress age by using the range {<20, 20-50, >50}."
   ]
  },
  {
   "cell_type": "code",
   "execution_count": 252,
   "metadata": {
    "id": "FFVPKWrodHRK"
   },
   "outputs": [
    {
     "name": "stdout",
     "output_type": "stream",
     "text": [
      "Minimum key value for k is:  1\n",
      "Maximum key value for k is:  16\n",
      "this means that the total anomity for the datset is 1.\n",
      "the smallest i diverse value here is still one because there are multiple age ranges where only one type of education exists. \n"
     ]
    }
   ],
   "source": [
    "# repeating suppression to see if diversity improves (it won't)\n",
    "# agrregating the data, \n",
    "idsupress = table3.groupby(['ageRange', 'race', 'sex']).nunique().reset_index().drop(['age'], axis=1)#.rename(columns={0:'count'})\n",
    "# cast ageRange to str type\n",
    "idsupress['ageRange'] = idsupress['ageRange'].astype(str)\n",
    "\n",
    "# begin by reshaping dataframe\n",
    "idsupress['key'] = idsupress['race'] +  idsupress[\"sex\"] + idsupress['ageRange']\n",
    "idnew = idsupress.drop(['race', 'sex', 'ageRange'], axis =1)\n",
    "\n",
    "# cast this into a dictionary!\n",
    "id2 = idnew.set_index('key')['education'].to_dict()\n",
    "\n",
    "idict2 = {k:v for k,v in id2.items() if v != 0}\n",
    "ikeyMin = min(idict2.keys(), key =(lambda k: idict2[k]))\n",
    "ikeyMax = max(idict2.keys(), key = lambda k: idict2[k])\n",
    "# find the min value in the dictionary:\n",
    "print('Minimum key value for k is: ' , idict2[ikeyMin])\n",
    "print('Maximum key value for k is: ' , idict2[ikeyMax])\n",
    "print('this means that the total anomity for the datset is 1.')\n",
    "print('the smallest i diverse value here is still one because there are multiple age ranges where only one type of education exists. ')"
   ]
  },
  {
   "cell_type": "markdown",
   "metadata": {
    "id": "TX1lsm8ydHRK"
   },
   "source": [
    "**T-closeness** is even better than **i-diversity**. **T-closeness** requires that for every combination of information, the distribution of the sensitive attribute's value among the corresponding rows must be close to the overall distribution of the sensitive attribute's value for the whole dataset. Distance between distribution is calculated using the Earth Mover Distance (EMD). The dataset has **t-closeness** if no distance exceeds **t**. \n",
    "\n",
    "c) Calculate the overall distribution of **education**. Find the **t-closeness** of the dataset (largest distance between any combination's distribution of marital-status and the overall distribution).\n",
    "\n",
    "You can use **scipy.stats.wasserstein_distance** to calculate the EMD."
   ]
  },
  {
   "cell_type": "code",
   "execution_count": 339,
   "metadata": {
    "id": "BjR4iG2bdHRK"
   },
   "outputs": [
    {
     "data": {
      "text/plain": [
       "5.231617647058823"
      ]
     },
     "execution_count": 339,
     "metadata": {},
     "output_type": "execute_result"
    }
   ],
   "source": [
    "# google what wasserstein distance is\n",
    "# t-closeness:\n",
    "from scipy.stats import wasserstein_distance\n",
    "\n",
    "comparison = table3['education'].value_counts(normalize = True)\n",
    "\n",
    "tid = table3.groupby(['ageRange', 'race', 'sex']).nunique()#'])#.nunique().reset_index().drop(['age'], axis=1)\n",
    "tid = tid.iloc[10:]\n",
    "tclose= tid['education'].value_counts()\n",
    "wasserstein_distance(comparison, tclose)"
   ]
  },
  {
   "cell_type": "markdown",
   "metadata": {},
   "source": [
    "### Problem 3:\n",
    "\n",
    "consult attached images to this piece for problem #3. ."
   ]
  },
  {
   "cell_type": "markdown",
   "metadata": {
    "id": "W5LHcufCdHRK"
   },
   "source": [
    "### Problem 4 \n",
    "\n",
    "There are 2 regression datasets given to you: \"group1.csv\" and \"group2.csv\". Both have 2 attributes and no label. Load them and store them in $X_1$ and $X_2$, respectively. "
   ]
  },
  {
   "cell_type": "code",
   "execution_count": 279,
   "metadata": {
    "id": "zpMsZXkPdHRK"
   },
   "outputs": [],
   "source": [
    "X1 = pd.read_csv(\"group1.csv\", header = None)\n",
    "X2 = pd.read_csv(\"group2.csv\", header = None)"
   ]
  },
  {
   "cell_type": "markdown",
   "metadata": {
    "id": "AiDGJzt-dHRK"
   },
   "source": [
    "a) Run Linear Regression on each of the datasets. Are the coefficients positive or negative? Provide a plot for each dataset. "
   ]
  },
  {
   "cell_type": "code",
   "execution_count": 280,
   "metadata": {
    "id": "C4AhAsWxdHRK"
   },
   "outputs": [],
   "source": [
    "from matplotlib import pyplot as plt\n",
    "from sklearn.linear_model import LinearRegression\n",
    "\n",
    "def yAxBline(A, B):\n",
    "    '''draws a line over the scatterplot that takes\n",
    "    the line's slope and intercept as arguments'''\n",
    "    getaxis = plt.gca()\n",
    "    x = np.array(getaxis.get_xlim())\n",
    "    y = B + A * x\n",
    "    plt.plot(x, y, '--')"
   ]
  },
  {
   "cell_type": "code",
   "execution_count": 284,
   "metadata": {},
   "outputs": [
    {
     "name": "stdout",
     "output_type": "stream",
     "text": [
      "[[0.89717851]] [3.22957338]\n",
      "[[1.15339068]] [-4.95991444]\n"
     ]
    }
   ],
   "source": [
    "# running the linear regression\n",
    "X1_ = np.array(X1)\n",
    "X2_ = np.array(X2)\n",
    "####\n",
    "X1x = X1_[:,0].reshape(-1, 1)\n",
    "X1y = X1_[:,-1].reshape(-1, 1)\n",
    "####\n",
    "\n",
    "X2x = X2_[:,0].reshape(-1, 1)\n",
    "X2y = X2_[:,-1].reshape(-1, 1)\n",
    "\n",
    "\n",
    "lin1 = LinearRegression()\n",
    "lin2 = LinearRegression()\n",
    "lin1 = lin1.fit(X1x, X1y)\n",
    "lin2 = lin2.fit(X2x, X2y)\n",
    "# first linear regression:\n",
    "a,b = lin1.coef_, lin1.intercept_\n",
    "m,y = lin2.coef_, lin2.intercept_\n",
    "print(lin1.coef_, lin1.intercept_)\n",
    "print(lin2.coef_, lin2.intercept_)"
   ]
  },
  {
   "cell_type": "code",
   "execution_count": 291,
   "metadata": {},
   "outputs": [
    {
     "data": {
      "text/plain": [
       "Text(0.5, 1.0, 'group1 plotted with regression line')"
      ]
     },
     "execution_count": 291,
     "metadata": {},
     "output_type": "execute_result"
    },
    {
     "data": {
      "image/png": "[encoded data removed]",
      "text/plain": [
       "<Figure size 432x288 with 1 Axes>"
      ]
     },
     "metadata": {
      "needs_background": "light"
     },
     "output_type": "display_data"
    }
   ],
   "source": [
    "# plotting the first group\n",
    "plt.scatter(X1x, X1y)\n",
    "yAxBline(0.89717851, 3.22957338)\n",
    "plt.title('group1 plotted with regression line')"
   ]
  },
  {
   "cell_type": "code",
   "execution_count": 292,
   "metadata": {},
   "outputs": [
    {
     "data": {
      "text/plain": [
       "Text(0.5, 1.0, 'group2 plotted with regression line')"
      ]
     },
     "execution_count": 292,
     "metadata": {},
     "output_type": "execute_result"
    },
    {
     "data": {
      "image/png": "[encoded data removed]",
      "text/plain": [
       "<Figure size 432x288 with 1 Axes>"
      ]
     },
     "metadata": {
      "needs_background": "light"
     },
     "output_type": "display_data"
    }
   ],
   "source": [
    "# plotting the second group\n",
    "plt.scatter(X2x, X2y)\n",
    "yAxBline(1.15339068, -4.95991444)\n",
    "plt.title('group2 plotted with regression line')"
   ]
  },
  {
   "cell_type": "markdown",
   "metadata": {
    "id": "j1PyBaU1dHRL"
   },
   "source": [
    "b) Now combine both datasets into a single large dataset. Call this dataset $X$ ($X=X_1 \\cup X_2$). Again, run Linear Regression on the combined dataset $X$. Is the coefficient positive or negative? Provide a plot. "
   ]
  },
  {
   "cell_type": "code",
   "execution_count": 96,
   "metadata": {
    "id": "9BjTQh9BdHRL"
   },
   "outputs": [
    {
     "name": "stdout",
     "output_type": "stream",
     "text": [
      "[[-1.38439504]] [11.52877464]\n",
      "the slope of the coefficient of the union is negative.\n"
     ]
    }
   ],
   "source": [
    "frames = [X1, X2]\n",
    "X  = pd.concat(frames)\n",
    "X\n",
    "###\n",
    "X = np.array(X)\n",
    "###\n",
    "Xx = X[:,0].reshape(-1, 1)\n",
    "Xy = X[:,-1].reshape(-1, 1)\n",
    "###\n",
    "linX = LinearRegression()\n",
    "linX = linX.fit(Xx, Xy)\n",
    "print(linX.coef_, linX.intercept_)\n",
    "print(\"the slope of the coefficient of the union is negative.\")"
   ]
  },
  {
   "cell_type": "code",
   "execution_count": 293,
   "metadata": {},
   "outputs": [
    {
     "data": {
      "text/plain": [
       "Text(0.5, 1.0, 'plotting the two datasets together to illustrate Simpsons paradox')"
      ]
     },
     "execution_count": 293,
     "metadata": {},
     "output_type": "execute_result"
    },
    {
     "data": {
      "image/png": "[encoded data removed]",
      "text/plain": [
       "<Figure size 432x288 with 1 Axes>"
      ]
     },
     "metadata": {
      "needs_background": "light"
     },
     "output_type": "display_data"
    }
   ],
   "source": [
    "plt.scatter(Xx, Xy)\n",
    "yAxBline(-1.38439504, 11.52877464)\n",
    "plt.title('plotting the two datasets together to illustrate Simpsons paradox')"
   ]
  },
  {
   "cell_type": "markdown",
   "metadata": {
    "id": "RTV1WfcWdHRL"
   },
   "source": [
    "c) What is the name of this illustrated paradox? What do the above results tell us about modeling the relationship between two variables in the presence of a missing attribute? To give you some intuition, imagine there is a third unobserved attribute $Z$ that has different values depending on which group an example belongs to. In other words, every data point in $X_1$ has $Z=1$ and every data point in $X_2$ has $Z=2$. Attribute $Z$ essentially partitions the whole dataset $X$ into 2 subsets $X_1$ and $X_2$.  "
   ]
  },
  {
   "cell_type": "markdown",
   "metadata": {
    "id": "8VvUS2pXdHRL"
   },
   "source": [
    "Question 4 Part C Answers:\n",
    "\n",
    "The illustrated paradox is called Simpson's paradox. The Simpson's paradox either reverses or makes trends from different datasets with similar trends disappear when those datasets are combined. This has occured here in problem #4. \n",
    "\n",
    "These results indicate that without the key attribute Z, it will impossible to model the relationship between the variables in the seperate datasets. This is becuase the hypothetical attribute Z partitions dataset X into X1 and X2. In Simpson's paradox, a model can contrive an equation for the missing attribute which would help resolve the paradox, resolving the paradox can be done wither through intervention in the real world, through the front door method which creates a third attribute that describes the casual relationship, or through the back door method which would meet the criterai that Z blocks the casual apths between X1 and X2. "
   ]
  },
  {
   "cell_type": "markdown",
   "metadata": {},
   "source": [
    "### Problem 5:\n",
    "\n",
    "consult attached images to this piece for problem #5. ."
   ]
  }
 ],
 "metadata": {
  "colab": {
   "name": "HW4.ipynb",
   "provenance": []
  },
  "kernelspec": {
   "display_name": "Python 3",
   "language": "python",
   "name": "python3"
  },
  "language_info": {
   "codemirror_mode": {
    "name": "ipython",
    "version": 3
   },
   "file_extension": ".py",
   "mimetype": "text/x-python",
   "name": "python",
   "nbconvert_exporter": "python",
   "pygments_lexer": "ipython3",
   "version": "3.6.9"
  }
 },
 "nbformat": 4,
 "nbformat_minor": 1
}

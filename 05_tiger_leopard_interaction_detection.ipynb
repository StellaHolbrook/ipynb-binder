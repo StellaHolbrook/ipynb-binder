{
 "cells": [
  {
   "cell_type": "markdown",
   "metadata": {
    "id": "JTMqxCyh3uh8"
   },
   "source": [
    "# This code is desgined only for tiger/leopard interaction detection"
   ]
  },
  {
   "cell_type": "markdown",
   "metadata": {
    "id": "H16kNfmr3y0N"
   },
   "source": [
    "This code can only detect interaction between two animals at a time.\n",
    "\n",
    "Somayeh Dodge\n",
    "\n",
    "Jasper Johnson\n",
    "\n",
    "Rongxiang Su"
   ]
  },
  {
   "cell_type": "code",
   "execution_count": 1,
   "metadata": {},
   "outputs": [],
   "source": [
    "#import sys\n",
    "#!{sys.executable} -m pip install <shapley>"
   ]
  },
  {
   "cell_type": "code",
   "execution_count": 5,
   "metadata": {},
   "outputs": [
    {
     "name": "stdout",
     "output_type": "stream",
     "text": [
      "Collecting folium\n",
      "  Downloading https://files.pythonhosted.org/packages/a4/f0/44e69d50519880287cc41e7c8a6acc58daa9a9acf5f6afc52bcc70f69a6d/folium-0.11.0-py2.py3-none-any.whl (93kB)\n",
      "Requirement already satisfied: requests in c:\\program files\\arcgis\\pro\\bin\\python\\envs\\arcgispro-py3\\lib\\site-packages (from folium) (2.21.0)\n",
      "Requirement already satisfied: numpy in c:\\program files\\arcgis\\pro\\bin\\python\\envs\\arcgispro-py3\\lib\\site-packages (from folium) (1.16.2)\n",
      "Requirement already satisfied: jinja2>=2.9 in c:\\program files\\arcgis\\pro\\bin\\python\\envs\\arcgispro-py3\\lib\\site-packages (from folium) (2.10.1)\n",
      "Collecting branca>=0.3.0 (from folium)\n",
      "  Downloading https://files.pythonhosted.org/packages/13/fb/9eacc24ba3216510c6b59a4ea1cd53d87f25ba76237d7f4393abeaf4c94e/branca-0.4.1-py3-none-any.whl\n",
      "Requirement already satisfied: urllib3<1.25,>=1.21.1 in c:\\program files\\arcgis\\pro\\bin\\python\\envs\\arcgispro-py3\\lib\\site-packages (from requests->folium) (1.24.1)\n",
      "Requirement already satisfied: certifi>=2017.4.17 in c:\\program files\\arcgis\\pro\\bin\\python\\envs\\arcgispro-py3\\lib\\site-packages (from requests->folium) (2019.3.9)\n",
      "Requirement already satisfied: idna<2.9,>=2.5 in c:\\program files\\arcgis\\pro\\bin\\python\\envs\\arcgispro-py3\\lib\\site-packages (from requests->folium) (2.8)\n",
      "Requirement already satisfied: chardet<3.1.0,>=3.0.2 in c:\\program files\\arcgis\\pro\\bin\\python\\envs\\arcgispro-py3\\lib\\site-packages (from requests->folium) (3.0.4)\n",
      "Requirement already satisfied: MarkupSafe>=0.23 in c:\\program files\\arcgis\\pro\\bin\\python\\envs\\arcgispro-py3\\lib\\site-packages (from jinja2>=2.9->folium) (1.1.1)\n",
      "Installing collected packages: branca, folium\n",
      "Successfully installed branca-0.4.1 folium-0.11.0\n",
      "Collecting seaborn\n",
      "  Downloading https://files.pythonhosted.org/packages/bc/45/5118a05b0d61173e6eb12bc5804f0fbb6f196adb0a20e0b16efc2b8e98be/seaborn-0.11.0-py3-none-any.whl (283kB)\n",
      "Requirement already satisfied: matplotlib>=2.2 in c:\\program files\\arcgis\\pro\\bin\\python\\envs\\arcgispro-py3\\lib\\site-packages (from seaborn) (3.0.3)\n",
      "Requirement already satisfied: pandas>=0.23 in c:\\program files\\arcgis\\pro\\bin\\python\\envs\\arcgispro-py3\\lib\\site-packages (from seaborn) (0.24.2)\n",
      "Requirement already satisfied: numpy>=1.15 in c:\\program files\\arcgis\\pro\\bin\\python\\envs\\arcgispro-py3\\lib\\site-packages (from seaborn) (1.16.2)\n",
      "Requirement already satisfied: scipy>=1.0 in c:\\program files\\arcgis\\pro\\bin\\python\\envs\\arcgispro-py3\\lib\\site-packages (from seaborn) (1.2.1)\n",
      "Requirement already satisfied: cycler>=0.10 in c:\\program files\\arcgis\\pro\\bin\\python\\envs\\arcgispro-py3\\lib\\site-packages (from matplotlib>=2.2->seaborn) (0.10.0)\n",
      "Requirement already satisfied: kiwisolver>=1.0.1 in c:\\program files\\arcgis\\pro\\bin\\python\\envs\\arcgispro-py3\\lib\\site-packages (from matplotlib>=2.2->seaborn) (1.0.1)\n",
      "Requirement already satisfied: pyparsing!=2.0.4,!=2.1.2,!=2.1.6,>=2.0.1 in c:\\program files\\arcgis\\pro\\bin\\python\\envs\\arcgispro-py3\\lib\\site-packages (from matplotlib>=2.2->seaborn) (2.4.0)\n",
      "Requirement already satisfied: python-dateutil>=2.1 in c:\\program files\\arcgis\\pro\\bin\\python\\envs\\arcgispro-py3\\lib\\site-packages (from matplotlib>=2.2->seaborn) (2.8.0)\n",
      "Requirement already satisfied: pytz>=2011k in c:\\program files\\arcgis\\pro\\bin\\python\\envs\\arcgispro-py3\\lib\\site-packages\\pytz-2018.9-py3.6.egg (from pandas>=0.23->seaborn) (2018.9)\n",
      "Requirement already satisfied: six in c:\\program files\\arcgis\\pro\\bin\\python\\envs\\arcgispro-py3\\lib\\site-packages (from cycler>=0.10->matplotlib>=2.2->seaborn) (1.12.0)\n",
      "Requirement already satisfied: setuptools in c:\\program files\\arcgis\\pro\\bin\\python\\envs\\arcgispro-py3\\lib\\site-packages (from kiwisolver>=1.0.1->matplotlib>=2.2->seaborn) (41.0.0)\n",
      "Installing collected packages: seaborn\n",
      "Successfully installed seaborn-0.11.0\n",
      "Collecting geopandas\n",
      "  Downloading https://files.pythonhosted.org/packages/f7/a4/e66aafbefcbb717813bf3a355c8c4fc3ed04ea1dd7feb2920f2f4f868921/geopandas-0.8.1-py2.py3-none-any.whl (962kB)\n",
      "Collecting fiona (from geopandas)\n",
      "  Downloading https://files.pythonhosted.org/packages/88/62/69347ba2c41b526e1953c4cb66d51170b2869808863c03af202ba0121670/Fiona-1.8.17.tar.gz (1.3MB)\n",
      "    Complete output from command python setup.py egg_info:\n",
      "    A GDAL API version must be specified. Provide a path to gdal-config using a GDAL_CONFIG environment variable or use a GDAL_VERSION environment variable.\n",
      "    \n",
      "    ----------------------------------------\n"
     ]
    },
    {
     "name": "stderr",
     "output_type": "stream",
     "text": [
      "Command \"python setup.py egg_info\" failed with error code 1 in C:\\Users\\jrhol\\AppData\\Local\\Temp\\pip-install-z2tdkgni\\fiona\\\n"
     ]
    },
    {
     "name": "stdout",
     "output_type": "stream",
     "text": [
      "Collecting datetime\n",
      "  Downloading https://files.pythonhosted.org/packages/73/22/a5297f3a1f92468cc737f8ce7ba6e5f245fcfafeae810ba37bd1039ea01c/DateTime-4.3-py2.py3-none-any.whl (60kB)\n",
      "Collecting zope.interface (from datetime)\n",
      "  Downloading https://files.pythonhosted.org/packages/06/44/98a91d64793490c46528caa403e5a091a892cbab389836c167a15687c920/zope.interface-5.1.2-cp36-cp36m-win_amd64.whl (195kB)\n",
      "Requirement already satisfied: pytz in c:\\program files\\arcgis\\pro\\bin\\python\\envs\\arcgispro-py3\\lib\\site-packages\\pytz-2018.9-py3.6.egg (from datetime) (2018.9)\n",
      "Requirement already satisfied: setuptools in c:\\program files\\arcgis\\pro\\bin\\python\\envs\\arcgispro-py3\\lib\\site-packages (from zope.interface->datetime) (41.0.0)\n",
      "Installing collected packages: zope.interface, datetime\n",
      "Successfully installed datetime-4.3 zope.interface-5.1.2\n"
     ]
    }
   ],
   "source": [
    "!pip install folium --user\n",
    "!pip install seaborn --user\n",
    "!pip install geopandas --user\n",
    "! pip install datetime --user"
   ]
  },
  {
   "cell_type": "markdown",
   "metadata": {
    "id": "XhjMv3Jx32EY"
   },
   "source": [
    "# Dependencies and important functions"
   ]
  },
  {
   "cell_type": "code",
   "execution_count": null,
   "metadata": {
    "id": "7b-3bVXN6G5x"
   },
   "outputs": [],
   "source": [
    "import shapely.geometry as geometry\n",
    "import geopandas as geopandas\n",
    "import folium\n",
    "from folium import plugins\n",
    "import pandas as pd\n",
    "import matplotlib.pyplot as plt\n",
    "import seaborn as sns\n",
    "from datetime import datetime as datetime\n",
    "from datetime import timedelta\n",
    "\n",
    "import warnings\n",
    "warnings.filterwarnings(\"ignore\")\n",
    "pd.set_option('display.max_rows', 2000)\n",
    "pd.set_option('display.max_columns', 500)\n",
    "pd.set_option('display.width', 1000)\n",
    "import warnings\n",
    "warnings.filterwarnings('ignore')\n",
    "\n",
    "%matplotlib inline"
   ]
  },
  {
   "cell_type": "code",
   "execution_count": 7,
   "metadata": {},
   "outputs": [
    {
     "name": "stdout",
     "output_type": "stream",
     "text": [
      "Package            Version \n",
      "------------------ --------\n",
      "arcgis             1.6.1   \n",
      "asn1crypto         0.24.0  \n",
      "atomicwrites       1.3.0   \n",
      "attrs              19.1.0  \n",
      "backcall           0.1.0   \n",
      "bleach             3.1.0   \n",
      "branca             0.4.1   \n",
      "certifi            2019.3.9\n",
      "cffi               1.12.2  \n",
      "cftime             1.0.0b1 \n",
      "chardet            3.0.4   \n",
      "colorama           0.4.1   \n",
      "cryptography       2.6.1   \n",
      "cycler             0.10.0  \n",
      "DateTime           4.3     \n",
      "decorator          4.4.0   \n",
      "defusedxml         0.5.0   \n",
      "despatch           0.1.0   \n",
      "entrypoints        0.3     \n",
      "et-xmlfile         1.0.1   \n",
      "fastcache          1.0.2   \n",
      "folium             0.11.0  \n",
      "future             0.17.1  \n",
      "h5py               2.9.0   \n",
      "html5lib           1.0.1   \n",
      "idna               2.8     \n",
      "ipykernel          5.1.0   \n",
      "ipython            7.4.0   \n",
      "ipython-genutils   0.2.0   \n",
      "ipywidgets         7.4.2   \n",
      "jdcal              1.4     \n",
      "jedi               0.13.3  \n",
      "Jinja2             2.10.1  \n",
      "jsonschema         3.0.1   \n",
      "jupyter-client     5.2.4   \n",
      "jupyter-console    6.0.0   \n",
      "jupyter-core       4.4.0   \n",
      "jupyterlab         0.35.4  \n",
      "jupyterlab-server  0.2.0   \n",
      "keyring            19.0.1  \n",
      "kiwisolver         1.0.1   \n",
      "MarkupSafe         1.1.1   \n",
      "matplotlib         3.0.3   \n",
      "mistune            0.8.4   \n",
      "mkl-fft            1.0.10  \n",
      "mkl-random         1.0.2   \n",
      "more-itertools     6.0.0   \n",
      "mpmath             1.1.0   \n",
      "nbconvert          5.4.1   \n",
      "nbformat           4.4.0   \n",
      "netCDF4            1.5.0.1 \n",
      "nose               1.3.7   \n",
      "notebook           5.7.8   \n",
      "numexpr            2.6.9   \n",
      "numpy              1.16.2  \n",
      "openpyxl           2.6.1   \n",
      "pandas             0.24.2  \n",
      "pandocfilters      1.4.2   \n",
      "parso              0.3.4   \n",
      "pickleshare        0.7.5   \n",
      "pip                19.0.3  \n",
      "pluggy             0.9.0   \n",
      "prometheus-client  0.6.0   \n",
      "prompt-toolkit     2.0.9   \n",
      "py                 1.8.0   \n",
      "pycparser          2.19    \n",
      "Pygments           2.3.1   \n",
      "pyOpenSSL          19.0.0  \n",
      "pyparsing          2.4.0   \n",
      "pyrsistent         0.14.11 \n",
      "pyshp              1.2.12  \n",
      "PySocks            1.6.8   \n",
      "pytest             4.4.0   \n",
      "python-dateutil    2.8.0   \n",
      "pytz               2018.9  \n",
      "pywin32-ctypes     0.2.0   \n",
      "pywinpty           0.5     \n",
      "pyzmq              18.0.0  \n",
      "requests           2.21.0  \n",
      "scipy              1.2.1   \n",
      "seaborn            0.11.0  \n",
      "Send2Trash         1.5.0   \n",
      "setuptools         41.0.0  \n",
      "Shapely            1.7.1   \n",
      "simplegeneric      0.8.1   \n",
      "six                1.12.0  \n",
      "sympy              1.3     \n",
      "terminado          0.8.1   \n",
      "testpath           0.4.2   \n",
      "tornado            6.0.2   \n",
      "traitlets          4.3.2   \n",
      "urllib3            1.24.1  \n",
      "wcwidth            0.1.7   \n",
      "webencodings       0.5.1   \n",
      "wheel              0.33.1  \n",
      "widgetsnbextension 3.4.2   \n",
      "win-inet-pton      1.1.0   \n",
      "wincertstore       0.2     \n",
      "winkerberos        0.7.0   \n",
      "x86cpu             0.4     \n",
      "xlrd               1.2.0   \n",
      "xlwt               1.3.0   \n",
      "zope.interface     5.1.2   \n"
     ]
    }
   ],
   "source": [
    "!pip list"
   ]
  },
  {
   "cell_type": "code",
   "execution_count": null,
   "metadata": {},
   "outputs": [],
   "source": []
  },
  {
   "cell_type": "code",
   "execution_count": 2,
   "metadata": {
    "id": "Fu5Bjtx84IFT"
   },
   "outputs": [],
   "source": [
    "import datetime\n",
    "\n",
    "def sec_between(d1, d2):\n",
    "    d1 = datetime.datetime.strptime(d1, \"%Y-%m-%d %H:%M:%S\")\n",
    "    d2 = datetime.datetime.strptime(d2, \"%Y-%m-%d %H:%M:%S\")\n",
    "    return abs((d2 - d1).seconds)"
   ]
  },
  {
   "cell_type": "code",
   "execution_count": 3,
   "metadata": {
    "id": "dvsLqTK24XGf"
   },
   "outputs": [],
   "source": [
    "import numpy as np\n",
    "import sympy.geometry as sym\n",
    "def mid_Point(stp1, stp2):\n",
    "    mx = min(stp1.x, stp2.x) + math.fabs(stp1.x - stp2.x) /2.0\n",
    "    my = min(stp1.y, stp2.y) + math.fabs(stp1.y - stp2.y) /2.0\n",
    "    # print(\"mx & my \",mx,my)\n",
    "    return (sym.Point(mx, my,evaluate = False))"
   ]
  },
  {
   "cell_type": "code",
   "execution_count": 4,
   "metadata": {
    "id": "ub6Tta1y4hUb"
   },
   "outputs": [],
   "source": [
    "class STpoint_modded:\n",
    "\n",
    "    def __init__(self, x, y, t, t_id):\n",
    "        self.x = x\n",
    "        self.y = y\n",
    "        self.t = t\n",
    "        self.id= t_id\n",
    "       # self.seq=seq\n",
    "\n",
    "    def get_sympy_Point(self):\n",
    "        return (sym.Point(self.x, self.y))  # gets a sympy point\n",
    "\n",
    "    def get_STpoint(self):\n",
    "        return (STpoint(self.x, self.y,self.t))  # gets STpoint\n",
    "\n",
    "    def get_point(self):\n",
    "        return (Point(self.x, self.y))  # gets spatial point\n",
    "\n",
    "    def get_shapely_Point(self):\n",
    "        return (sh.Point(self.x, self.y))\n",
    "\n",
    "    def set_sympy_Point(self, pt):  # sympy Point\n",
    "        self.x = pt.x\n",
    "        self.y = pt.y\n",
    "\n",
    "    def set_point(self, pt):  # pointclass Point\n",
    "        self.x = pt.get_Xcoord\n",
    "        self.y = pt.get_Ycoord\n",
    "\n",
    "    def set_x(self, x):\n",
    "        self.x = x\n",
    "\n",
    "    def set_y(self, y):\n",
    "        self.y = y\n",
    "\n",
    "    def set_time(self, t):\n",
    "        self.t = t\n",
    "\n",
    "    def get_x(self):\n",
    "        return self.x\n",
    "\n",
    "    def get_y(self):\n",
    "        return self.y\n",
    "\n",
    "    def get_time(self):\n",
    "        return self.t\n",
    "\n",
    "    def haversine_distance(self, stp2):\n",
    "        return move.haversine_distance(self.x, self.y, stp2.x, stp2.y)\n",
    "\n",
    "    def euclidean_distance(self, stp2):\n",
    "        return euclidean_distance(self.x, self.y, stp2.x, stp2.y)\n",
    "\n",
    "    def delta_time(self, stp2, fmt = '%Y-%m-%d %H:%M:%S'): #%Y-%m-%d %H:%M:%S,  %m/%d/%y %H:%M\n",
    "            deltatime = datetime.datetime.strptime(self.get_time(), fmt) - datetime.datetime.strptime(stp2.get_time(), fmt)\n",
    "            return math.fabs(deltatime.total_seconds())"
   ]
  },
  {
   "cell_type": "code",
   "execution_count": null,
   "metadata": {
    "id": "MWkRCYyE4dnV"
   },
   "outputs": [],
   "source": [
    "def ppa_ellipse(stp1, stp2, speed):\n",
    "    dt1 = stp1.delta_time(stp2)/3600  # delta time between the two points\n",
    "    #print 'dt is: ', dt1,'  speed ',speed\n",
    "    major = dt1 * speed  # the major axis of the PPA ellipse based on input speed (in time geography this speed is max speed)\n",
    "    dist = stp1.euclidean_distance(stp2)  # distance between the two points\n",
    "    #print(\"major \",major,\"dist \",dist)\n",
    "    #minor = math.sqrt(math.pow(major, 2) - math.pow(dist, 2))  # the minor axis of the PPA ellipse\n",
    "    minor = (major ** 2 - dist ** 2) ** 0.5\n",
    "    ctpx,ctpy = mid_Point(stp1, stp2)  # the center point of the PPA ellipse (is a sympy Point)\n",
    "    dy = stp2.y - stp1.y\n",
    "    dx = stp2.x - stp1.x\n",
    "    #print 'dx is {0} and dy is {1}'.format(dx,dy)\n",
    "    #print 'minor axis is {0} and major axis is {1}'.format(minor,major)\n",
    "    if dy == 0:\n",
    "        dy = .1\n",
    "    if dx == 0:\n",
    "        dx = .1\n",
    "    yx_ratio = abs(float(dy) / float(dx))  # absolute value of dy/dx ration\n",
    "    #print 'dy/dx ratio is:', yx_ratio\n",
    "    if dx * dy >= 0:\n",
    "        angle = np.rad2deg(math.atan(yx_ratio))   # the rotation angle of the PPA ellipse in 1st and 3rd quadrants\n",
    "    else:\n",
    "        angle = 180 - np.rad2deg(math.atan(yx_ratio))  # the rotation angle of the PPA ellipse in 2nd and 4th quadrants\n",
    "\n",
    "    #print 'ellipse angle is',angle\n",
    "    #print(\"center point \",ctp,\" major \",major,\" minor \",minor,\" angle \",angle)\n",
    "    #print' x and y ',ctpx,' ',ctpy\n",
    "    ctp = S_Point(ctpx,ctpy) # changes this line from [0]\n",
    "    ply = ellipse_polyline(ctp, major, minor, angle )\n",
    "    ell = ellipse_LinearRing(ply)  # creates the PPA ellipse\n",
    "    return ell,major # returns a shapely LinearRing\n"
   ]
  },
  {
   "cell_type": "code",
   "execution_count": null,
   "metadata": {
    "id": "9brCtd4A4bpy"
   },
   "outputs": [],
   "source": [
    "def euclidean_distance(x1, y1, x2, y2):\n",
    "    # print(\"x y\",x1,y1)\n",
    "    # print(\"x2 y2\",x2,y2)\n",
    "    return math.sqrt(math.pow(x2 - x1, 2) + math.pow(y2 - y1, 2))"
   ]
  },
  {
   "cell_type": "code",
   "execution_count": null,
   "metadata": {
    "id": "N9Hh5S6A4XEa"
   },
   "outputs": [],
   "source": [
    "def delta_time(self, stp2, fmt = \"%Y-%m-%d %H:%M:%S\"):\n",
    "            deltatime = datetime.datetime.strptime(self.get_time(), fmt) - datetime.datetime.strptime(stp2.get_time(), fmt)\n",
    "            if deltatime ==0:\n",
    "                return 0.00000000001"
   ]
  },
  {
   "cell_type": "code",
   "execution_count": null,
   "metadata": {
    "id": "bqBCZ1m-4KLp"
   },
   "outputs": [],
   "source": [
    "# !pip install geographiclib\n",
    "from geographiclib.geodesic import Geodesic\n",
    "Geo = Geodesic.WGS84\n",
    "\n",
    "def check_dist(a,b,c,d):\n",
    "  d = Geo.Inverse(a, b,  c, d)\n",
    "  return(d['s12'])"
   ]
  },
  {
   "cell_type": "code",
   "execution_count": null,
   "metadata": {
    "id": "Jx7bRZbC4Viy"
   },
   "outputs": [],
   "source": [
    "def ellipse_LinearRing(ellipse_poly):\n",
    "    return LinearRing(ellipse_poly)"
   ]
  },
  {
   "cell_type": "code",
   "execution_count": null,
   "metadata": {
    "id": "UHPKoiNo4KIh"
   },
   "outputs": [],
   "source": [
    "def ellipse_polyline(ptc, major, minor,angle, n=100):\n",
    "    t = np.linspace(0, 2*np.pi, n, endpoint=False) #Return evenly spaced numbers over a specified interval.\n",
    "    st = np.sin(t)\n",
    "    ct = np.cos(t)\n",
    "    x0 = ptc.x\n",
    "    y0 = ptc.y\n",
    "    angle = np.deg2rad(angle) # rotation angle of ellipse\n",
    "    sa = np.sin(angle)\n",
    "    ca = np.cos(angle)\n",
    "    p = np.empty((n, 2))\n",
    "    # divide the major and minor axis by 2.0\n",
    "    p[:, 0] = x0 + major/2.0 * ca * ct - minor/2.0 * sa * st\n",
    "    p[:, 1] = y0 + major/2.0 * sa * ct + minor/2.0 * ca * st\n",
    "    return p"
   ]
  },
  {
   "cell_type": "code",
   "execution_count": null,
   "metadata": {
    "id": "MCT77ICn4olg"
   },
   "outputs": [],
   "source": [
    "class ellipse_class:\n",
    "  check= 'check'\n",
    "  def __init__(self, el,lat,lon,lastlat,lastlon,tig,lasttig,t1,t2,speed,geom):\n",
    "    self.el=el\n",
    "    self.lat=lat\n",
    "    self.lon=lon\n",
    "    self.lastlat=lastlat\n",
    "    self.lastlon= lastlon\n",
    "    self.tig=tig\n",
    "    self.lasttig=lasttig\n",
    "    self.t1=t1\n",
    "    self.t2=t2\n",
    "    self.speed=speed  \n",
    "    self.geom=geom    \n",
    "\n",
    "    self.idx=[]\n",
    "    self.intersecting_ellipses = []\n",
    "    \n",
    "  #def add_area(self, area):\n",
    "  #  self.area.append(area)\n",
    "  #def add_P1_cords(self, P1_cords):\n",
    "  #  self.P1_cords.append(P1_cords)\n",
    "  #def add_P2_cords(self, P2_cords):\n",
    "  #  self.P2_cords.append(P2_cords)\n",
    "  #def add_C_cords(self, C_cords):\n",
    "  #  self.C_cords.append(C_cords)\n",
    "  #def add_intersetion_count(self, intersetion_count):\n",
    "  #  self.intersetion_count.append(intersetion_count)\n",
    "  def add_intersecting_ellipses(self, intersecting_ellipses):\n",
    "    self.intersecting_ellipses.append(intersecting_ellipses)\n",
    "  def add_idx(self, idx):\n",
    "    self.idx.append(idx)"
   ]
  },
  {
   "cell_type": "code",
   "execution_count": null,
   "metadata": {
    "id": "BUiF0g2V4r7t"
   },
   "outputs": [],
   "source": [
    "def delta_time_STpoints(stp1, stp2, fmt = \"%Y-%m-%d %H:%M:%S\"): # '\"%Y-%m-%d %H:%M:%S\"'  its is also this format, need to track down cases\n",
    "    deltatime = datetime.datetime.strptime(stp1.get_time(), fmt) - datetime.datetime.strptime(stp2.get_time(), fmt)\n",
    "    return math.fabs(deltatime.total_seconds())"
   ]
  },
  {
   "cell_type": "code",
   "execution_count": null,
   "metadata": {
    "id": "Mt8cfI1pbEd3"
   },
   "outputs": [],
   "source": [
    "#no mod\n",
    "def ppa_ellipse_jasper(stp1, stp2, est_speed, avg_speed):\n",
    "  \n",
    "    #march 10th bug fix:\n",
    "    if est_speed>avg_speed:\n",
    "      speed=est_speed\n",
    "    else:\n",
    "      speed=avg_speed\n",
    "    #march 10th bug fix:\n",
    "    \n",
    "    dt1 = stp1.delta_time(stp2)/3600  # delta time between the two points\n",
    "    #print 'dt is: ', dt1,'  speed ',speed\n",
    "    major = dt1 * speed  # the major axis of the PPA ellipse based on input speed (in time geography this speed is max speed)\n",
    "    dist = stp1.euclidean_distance(stp2)  # distance between the two points\n",
    "    #print(\"major \",major,\"dist \",dist)\n",
    "    #minor = math.sqrt(math.pow(major, 2) - math.pow(dist, 2))  # the minor axis of the PPA ellipse\n",
    "    minor = (major ** 2 - dist ** 2) ** 0.5\n",
    "    ctpx,ctpy = mid_Point(stp1, stp2)  # the center point of the PPA ellipse (is a sympy Point)\n",
    "    dy = stp2.y - stp1.y\n",
    "    dx = stp2.x - stp1.x\n",
    "    #print 'dx is {0} and dy is {1}'.format(dx,dy)\n",
    "    #print 'minor axis is {0} and major axis is {1}'.format(minor,major)\n",
    "    if dy == 0:\n",
    "        dy = .1\n",
    "    if dx == 0:\n",
    "        dx = .1\n",
    "    yx_ratio = abs(float(dy) / float(dx))  # absolute value of dy/dx ration\n",
    "    #print 'dy/dx ratio is:', yx_ratio\n",
    "    if dx * dy >= 0:\n",
    "        angle = np.rad2deg(math.atan(yx_ratio))   # the rotation angle of the PPA ellipse in 1st and 3rd quadrants\n",
    "    else:\n",
    "        angle = 180 - np.rad2deg(math.atan(yx_ratio))  # the rotation angle of the PPA ellipse in 2nd and 4th quadrants\n",
    "\n",
    "    #print 'ellipse angle is',angle\n",
    "    #print(\"center point \",ctp,\" major \",major,\" minor \",minor,\" angle \",angle)\n",
    "    #print' x and y ',ctpx,' ',ctpy\n",
    "    ctp = S_Point(ctpx,ctpy) # changes this line from [0]\n",
    "    ply = ellipse_polyline(ctp, major, minor, angle )\n",
    "    ell = ellipse_LinearRing(ply)  # creates the PPA ellipse\n",
    "    return ell,major # returns a shapely LinearRing"
   ]
  },
  {
   "cell_type": "code",
   "execution_count": null,
   "metadata": {
    "id": "D-k6D-ougVgl"
   },
   "outputs": [],
   "source": [
    "modified_ellipses_test=False\n",
    "if modified_ellipses_test==True:\n",
    "  def ppa_ellipse_jasper(stp1, stp2, est_speed, avg_speed):\n",
    "\n",
    "      #march 10th bug fix:\n",
    "      if est_speed>avg_speed:\n",
    "        avg_speed=est_speed\n",
    "      #march 10th bug fix:\n",
    "\n",
    "      dt1 = stp1.delta_time(stp2)/3600  # delta time between the two points\n",
    "      #print 'dt is: ', dt1,'  speed ',speed\n",
    "      modder = est_speed - avg_speed\n",
    "\n",
    "      major = (dt1 * est_speed)  # the major axis of the PPA ellipse based on input speed (in time geography this speed is max speed)\n",
    "      dist = stp1.euclidean_distance(stp2)  # distance between the two points\n",
    "      #print(\"major \",major,\"dist \",dist)\n",
    "      #minor = math.sqrt(math.pow(major, 2) - math.pow(dist, 2))  # the minor axis of the PPA ellipse\n",
    "\n",
    "      minor =  (((dt1 * avg_speed) ** 2 - dist ** 2) ** 0.5 ) *(1-20*modder)\n",
    "      ctpx,ctpy = mid_Point(stp1, stp2)  # the center point of the PPA ellipse (is a sympy Point)\n",
    "      dy = stp2.y - stp1.y\n",
    "      dx = stp2.x - stp1.x\n",
    "      #print 'dx is {0} and dy is {1}'.format(dx,dy)\n",
    "      #print 'minor axis is {0} and major axis is {1}'.format(minor,major)\n",
    "      if dy == 0:\n",
    "          dy = .1\n",
    "      if dx == 0:\n",
    "          dx = .1\n",
    "      yx_ratio = abs(float(dy) / float(dx))  # absolute value of dy/dx ration\n",
    "      #print 'dy/dx ratio is:', yx_ratio\n",
    "      if dx * dy >= 0:\n",
    "          angle = np.rad2deg(math.atan(yx_ratio))   # the rotation angle of the PPA ellipse in 1st and 3rd quadrants\n",
    "      else:\n",
    "          angle = 180 - np.rad2deg(math.atan(yx_ratio))  # the rotation angle of the PPA ellipse in 2nd and 4th quadrants\n",
    "\n",
    "      #print 'ellipse angle is',angle\n",
    "      #print(\"center point \",ctp,\" major \",major,\" minor \",minor,\" angle \",angle)\n",
    "      #print' x and y ',ctpx,' ',ctpy\n",
    "      ctp = S_Point(ctpx,ctpy) # changes this line from [0]\n",
    "      ply = ellipse_polyline(ctp, major, minor, angle )\n",
    "      #print(ply)\n",
    "      ell = ellipse_LinearRing(ply)  # creates the PPA ellipse\n",
    "      return ell,major # returns a shapely LinearRing"
   ]
  },
  {
   "cell_type": "code",
   "execution_count": null,
   "metadata": {
    "id": "3hkZXXzEzl94"
   },
   "outputs": [],
   "source": [
    "def timedifcheck(t1,t2):\n",
    "  d1=pd.to_datetime(t2)\n",
    "  d2=pd.to_datetime(t1)\n",
    "  return abs(pd.Timedelta(d2 - d1).total_seconds())\n"
   ]
  },
  {
   "cell_type": "markdown",
   "metadata": {
    "id": "AEpVPdxI4Mgd"
   },
   "source": [
    "# reading tiger data and/or leopard data\n"
   ]
  },
  {
   "cell_type": "code",
   "execution_count": null,
   "metadata": {
    "id": "wWCpT7qSaaxd"
   },
   "outputs": [],
   "source": [
    "# #first animal\n",
    "# df1 = pd.read_csv(\"./data_input/leopard31898 - leopard31898.csv\", header=0, error_bad_lines=False, sep=',')\n",
    "# #second animal\n",
    "# df2 = pd.read_csv(\"./data_input/tiger22901 - tiger22901.csv\", header=0, error_bad_lines=False, sep=',')\n",
    "# # df2 = pd.read_csv(\"./data_input/tiger22904 - tiger22904.csv\", header=0, error_bad_lines=False, sep=',')\n",
    "# df1['tid'] = 31898\n",
    "# df2['tid'] = 22901\n",
    "# df1['Time_LMT'] = pd.to_datetime(df1['Time_LMT'])\n",
    "# df2['Time_LMT'] = pd.to_datetime(df2['Time_LMT'])\n",
    "\n",
    "# print (df1.shape[0])\n",
    "# print (df2.shape[0])"
   ]
  },
  {
   "cell_type": "code",
   "execution_count": null,
   "metadata": {
    "id": "QWukLg_Jaaxf",
    "outputId": "d08b1583-07c5-4f9d-8849-145bb96818fb"
   },
   "outputs": [
    {
     "name": "stdout",
     "output_type": "stream",
     "text": [
      "1797\n",
      "2750\n"
     ]
    }
   ],
   "source": [
    "dfall = pd.read_csv(\"./data_input/Females20083-20080-formatted-valid-sync.csv\", header=0, error_bad_lines=False, sep=',')\n",
    "dfall.rename(columns={'study_local_timestamp': 'Time_LMT', 'individual_local_identifier': 'tid'}, inplace=True)\n",
    "df1 = dfall[dfall['tid']==20080]\n",
    "df2 = dfall[dfall['tid']==20083]\n",
    "df1['Time_LMT'] = pd.to_datetime(df1['Time_LMT'])\n",
    "df2['Time_LMT'] = pd.to_datetime(df2['Time_LMT'])\n",
    "\n",
    "print (df1.shape[0])\n",
    "print (df2.shape[0])"
   ]
  },
  {
   "cell_type": "markdown",
   "metadata": {
    "id": "JJzfvCwF6954"
   },
   "source": [
    "# make ellipses"
   ]
  },
  {
   "cell_type": "markdown",
   "metadata": {
    "id": "ottL-O1eHelQ"
   },
   "source": [
    "chose which individuals we want to generate ellipses for and compare interactions"
   ]
  },
  {
   "cell_type": "code",
   "execution_count": null,
   "metadata": {
    "id": "tQi3hbvKaA-y"
   },
   "outputs": [],
   "source": [
    "gen_ellipses_for1 = df1 #@param [\"df1\", \"df2\", \"df3\"] {type:\"raw\"}\n",
    "gen_ellipses_for2 = df2 #@param [\"df1\", \"df2\", \"df3\"] {type:\"raw\"}"
   ]
  },
  {
   "cell_type": "markdown",
   "metadata": {
    "id": "_0DMxWKEHiOP"
   },
   "source": [
    "run through dataframes, make ellipses"
   ]
  },
  {
   "cell_type": "code",
   "execution_count": null,
   "metadata": {
    "colab": {
     "base_uri": "https://localhost:8080/",
     "height": 87
    },
    "executionInfo": {
     "elapsed": 8977,
     "status": "ok",
     "timestamp": 1559668545171,
     "user": {
      "displayName": "Jasper Johnson",
      "photoUrl": "https://lh5.googleusercontent.com/-k8HHX1OF_tQ/AAAAAAAAAAI/AAAAAAAAAAs/td0M0m_Ih7c/s64/photo.jpg",
      "userId": "14608669996816084911"
     },
     "user_tz": 300
    },
    "id": "XrW5_MZd6_rh",
    "outputId": "50cbaf99-331a-4209-a252-23752f7d6fe1"
   },
   "outputs": [
    {
     "name": "stdout",
     "output_type": "stream",
     "text": [
      "1796\n",
      "total number of ellipses: 4545\n"
     ]
    }
   ],
   "source": [
    "from shapely.geometry import Point as S_Point\n",
    "from shapely.geometry.polygon import LinearRing\n",
    "from shapely.geometry import Polygon\n",
    "\n",
    "last_lon=None\n",
    "last_lat=None\n",
    "last_tiger=None\n",
    "import math\n",
    "multi_el = 1.25\n",
    "\n",
    "ellipses_list = []\n",
    "speed_memory = []\n",
    "\n",
    "latitude_field = 'Latitude'\n",
    "longitude_field =  'Longitude'\n",
    "tiger_ID = 'tid'\n",
    "timefield = 'Time_LMT'\n",
    "position_identifier = 'position'\n",
    "Time_format = \"%Y-%m-%d %H:%M:%S\" #\"%m/%d/%y %H:%M\"\n",
    "    \n",
    "sorted_iter= gen_ellipses_for1.sort_values(timefield)\n",
    "for a, row in sorted_iter.iterrows():\n",
    "    p1=None\n",
    "    p2=None\n",
    "\n",
    "    ts = row[timefield]\n",
    "    if row[tiger_ID]== last_tiger:\n",
    "      p1 = STpoint_modded(row[latitude_field],row[longitude_field], str(ts), row[tiger_ID])\n",
    "      p2 =  STpoint_modded(last_lat,last_lon,str(last_ts),last_tiger)\n",
    "      dtime = delta_time_STpoints(p1, p2, \"%Y-%m-%d %H:%M:%S\")\n",
    "      fix0div= 0.000000000000000000000000000000001\n",
    "      est_speed = (((\n",
    "          (\n",
    "           euclidean_distance(p1.get_x(),p1.get_y(),p2.get_x(),p2.get_y())\n",
    "           /(dtime+fix0div)\n",
    "          )*multi_el)*3600) ) # add a mult (1.25) and an error term (50 m) \n",
    "      \n",
    "      ########SPEED AVERAGING##################\n",
    "      \n",
    "      speed_memory.append(est_speed)\n",
    "      memory_length= 5\n",
    "      speed_kernel=[1,1,2,5,10]\n",
    "      speed_memory_subset= speed_memory[-memory_length:]\n",
    "      if len(speed_memory)<5:\n",
    "        avg_speed = est_speed\n",
    "        avg_speed_weighted=est_speed\n",
    "        avg_speed_kern= est_speed\n",
    "      else:\n",
    "        avg_speed= (sum(speed_memory_subset) / (len(speed_memory_subset)))\n",
    "        speed_memory_subset_np= np.asarray(speed_memory_subset)\n",
    "        speed_kernel_np=np.asarray(speed_kernel)\n",
    "        avg_speed_kern_list= speed_kernel_np*speed_memory_subset_np\n",
    "        kern_sum=sum(speed_kernel)\n",
    "        avg_speed_kern= sum(avg_speed_kern_list)/sum(speed_kernel)\n",
    "\n",
    "      el = ppa_ellipse_jasper(p1,p2,est_speed,avg_speed_kern)\n",
    "     # el = ppa_ellipse(p1,p2,est_speed)\n",
    "      \n",
    "      ##MAY 13th: MAKE GEOM TO SPEED UP LATER COMPARISON\n",
    "      geom=Polygon(el[0]) \n",
    "\n",
    "      try:\n",
    "        inst = ellipse_class(el,row[latitude_field],row[longitude_field],last_lat,last_lon,row[tiger_ID],last_tiger,row[timefield],last_ts,est_speed,geom)\n",
    "      except:\n",
    "        print('cant make ellipse class instance')\n",
    "      ellipses_list.append(inst) \n",
    "      p1=None\n",
    "      p2=None\n",
    "      inst=None\n",
    "      est_speed=None\n",
    "      \n",
    "    last_lat = row[latitude_field]\n",
    "    last_lon = row[longitude_field]\n",
    "    last_tiger = row[tiger_ID]\n",
    "    last_ts = row[timefield]\n",
    "print(len(ellipses_list))\n",
    "\n",
    "\n",
    "\n",
    "last_lon=None\n",
    "last_lat=None\n",
    "last_tiger=None\n",
    "import math\n",
    "multi_el = 1.25\n",
    "speed_memory = []\n",
    "\n",
    "sorted_iter= gen_ellipses_for2.sort_values(timefield)\n",
    "for a, row in sorted_iter.iterrows():\n",
    "    p1=None\n",
    "    p2=None\n",
    "    ts = row[timefield]\n",
    "    if row[tiger_ID]== last_tiger:\n",
    "      #print('making stpoints')      \n",
    "      p1 = STpoint_modded(row[latitude_field],row[longitude_field], str(ts), row[tiger_ID])\n",
    "      p2 =  STpoint_modded(last_lat,last_lon,str(last_ts),last_tiger)\n",
    "      dtime = delta_time_STpoints(p1, p2, \"%Y-%m-%d %H:%M:%S\")\n",
    "      fix0div= 0.000000000000000000000000000000001\n",
    "      est_speed = (((\n",
    "          (\n",
    "           euclidean_distance(p1.get_x(),p1.get_y(),p2.get_x(),p2.get_y())\n",
    "           /(dtime+fix0div)\n",
    "          )*multi_el)*3600) ) # add a mult (1.25) and an error term (50 m) \n",
    "      \n",
    "      ########SPEED AVERAGING##################\n",
    "      \n",
    "      speed_memory.append(est_speed)\n",
    "      memory_length= 5\n",
    "      speed_kernel=[1,1,2,5,10]\n",
    "      speed_memory_subset= speed_memory[-memory_length:]\n",
    "      if len(speed_memory)<5:\n",
    "        #print('average broken')\n",
    "        avg_speed = est_speed\n",
    "        avg_speed_weighted=est_speed\n",
    "        avg_speed_kern= est_speed\n",
    "      else:\n",
    "        avg_speed= (sum(speed_memory_subset) / (len(speed_memory_subset)))\n",
    "        speed_memory_subset_np= np.asarray(speed_memory_subset)\n",
    "        speed_kernel_np=np.asarray(speed_kernel)\n",
    "        avg_speed_kern_list= speed_kernel_np*speed_memory_subset_np\n",
    "        kern_sum=sum(speed_kernel)\n",
    "        avg_speed_kern= sum(avg_speed_kern_list)/sum(speed_kernel)\n",
    "      ########SPEED AVERAGING##################\n",
    "      \n",
    "     # el = ppa_ellipse(p1,p2,avg_speed_kern)\n",
    "      el = ppa_ellipse_jasper(p1,p2,est_speed,avg_speed_kern)\n",
    "     # el = ppa_ellipse(p1,p2,est_speed)\n",
    "      geom=Polygon(el[0]) \n",
    "      try:\n",
    "        inst = ellipse_class(el,row[latitude_field],row[longitude_field],last_lat,last_lon,row[tiger_ID],last_tiger,row[timefield],last_ts,est_speed,geom)\n",
    "      except:\n",
    "        print('cant make ellipse class instance')\n",
    "      ellipses_list.append(inst) \n",
    "      p1=None\n",
    "      p2=None\n",
    "      inst=None\n",
    "      est_speed=None\n",
    "\n",
    "    last_lat = row[latitude_field]\n",
    "    last_lon = row[longitude_field]\n",
    "    last_tiger = row[tiger_ID]\n",
    "    last_ts = row[timefield]\n",
    "print(\"total number of ellipses:\", len(ellipses_list))"
   ]
  },
  {
   "cell_type": "markdown",
   "metadata": {
    "id": "DSVs67xQrVT4"
   },
   "source": [
    "# find interactions"
   ]
  },
  {
   "cell_type": "markdown",
   "metadata": {
    "id": "6LakyBYidl2F"
   },
   "source": [
    "find our spatiotemporal interactions"
   ]
  },
  {
   "cell_type": "code",
   "execution_count": null,
   "metadata": {
    "id": "W7oxvY-yaaxn"
   },
   "outputs": [],
   "source": [
    "from shapely.geometry import Polygon\n",
    "\n",
    "def get_intersect_pairs(ellipses_list,personid,max_el_timethres,interaction_min_delay):\n",
    "    interaction_second_delay = interaction_min_delay * 60\n",
    "    intersection_pairs=[]\n",
    "    \n",
    "    count = 0\n",
    "    for item in ellipses_list: #for loop every ellipse of the only specific person\n",
    "        if item.tig != personid: continue #only do the following for the specific person id\n",
    "        #May 15,2020: ignore it if it's too big: \n",
    "        count += 1\n",
    "        if count % 500 == 0:\n",
    "            print (count,len(ellipses_list))\n",
    "            \n",
    "#         if timedifcheck(item.t1,item.t2)>max_el_timethres:\n",
    "#             continue\n",
    "        \n",
    "        poly1= Polygon(item.el[0])  #make polygon from linearring, get centroid\n",
    "        sub_ellipses_list=[]\n",
    "        \n",
    "        # temporal intersect\n",
    "        for item2 in ellipses_list:\n",
    "            if (timedifcheck(item.t1,item2.t1) <= interaction_second_delay) and (item2.tig != item.tig):\n",
    "#                 if timedifcheck(item2.t1,item2.t2)<=max_el_timethres: #May 15,2020: use time difference method to elinimate large ellipses\n",
    "                sub_ellipses_list.append(item2)\n",
    "        if len(sub_ellipses_list) == 0:continue\n",
    "\n",
    "        # spatial intersect\n",
    "        item_el= item.el[0]\n",
    "        for others in sub_ellipses_list:\n",
    "            others_el = others.el[0]\n",
    "            intersect = (item_el.intersects(others_el) )\n",
    "            #CONTAINS VS INTERSECT FIX\n",
    "            poly2= others.geom\n",
    "            within1 = (poly1.within(poly2) )\n",
    "            within2 = (poly2.within(poly1) )\n",
    "            if intersect==True or within1==True or within2==True:\n",
    "                intersection_pairs.append( (item, others) )\n",
    "    return intersection_pairs"
   ]
  },
  {
   "cell_type": "code",
   "execution_count": null,
   "metadata": {
    "id": "3qtz3Ub1aaxo"
   },
   "outputs": [],
   "source": [
    "def get_spatially_intersect_pairs(ellipses_list,personid,max_el_timethres):\n",
    "    intersection_pairs=[]\n",
    "    \n",
    "    count = 0\n",
    "    for item in ellipses_list: #for loop every ellipse of the only specific person\n",
    "        if item.tig != personid: continue #only do the following for the specific person id\n",
    "        #May 15,2020: ignore it if it's too big: \n",
    "        count += 1\n",
    "        if count % 500 == 0:\n",
    "            print (count,len(ellipses_list))\n",
    "            \n",
    "#         if timedifcheck(item.t1,item.t2)>max_el_timethres:\n",
    "#             continue\n",
    "        poly1= Polygon(item.el[0])  #make polygon from linearring, get centroid\n",
    "        \n",
    "        sub_ellipses_list=[]\n",
    "        \n",
    "        # temporal intersect\n",
    "        for item2 in ellipses_list:\n",
    "            if item2.tig != item.tig:\n",
    "                sub_ellipses_list.append(item2)\n",
    "        if len(sub_ellipses_list) == 0:continue\n",
    "\n",
    "        # spatial intersect\n",
    "        item_el= item.el[0]\n",
    "        for others in sub_ellipses_list:\n",
    "            others_el = others.el[0]\n",
    "            intersect = (item_el.intersects(others_el) )\n",
    "            #CONTAINS VS INTERSECT FIX\n",
    "            poly2= others.geom\n",
    "            within1 = (poly1.within(poly2) )\n",
    "            within2 = (poly2.within(poly1) )\n",
    "            if intersect==True or within1==True or within2==True:\n",
    "                intersection_pairs.append( (item, others) )\n",
    "    return intersection_pairs"
   ]
  },
  {
   "cell_type": "code",
   "execution_count": null,
   "metadata": {
    "id": "_3YWemWIaaxq"
   },
   "outputs": [],
   "source": [
    "def get_all_intersect_ellipse(intersection_df):\n",
    "    person1li, person2li, person1t1, person1t2, person2t1, person2t2= [],[],[],[],[],[]\n",
    "    person1lon1,person1lat1,person1lon2,person1lat2 = [],[],[],[]\n",
    "    person2lon1,person2lat1,person2lon2,person2lat2 = [],[],[],[]\n",
    "    for item in intersection_df:\n",
    "            person1t1.append(item[0].t1)\n",
    "            person1t2.append(item[0].t2)\n",
    "            person2t1.append(item[1].t1)\n",
    "            person2t2.append(item[1].t2)\n",
    "            person1li.append(item[0].tig)\n",
    "            person2li.append(item[1].tig)\n",
    "            person1lon1.append(item[0].lon)\n",
    "            person1lat1.append(item[0].lat)\n",
    "            person1lon2.append(item[0].lastlon)\n",
    "            person1lat2.append(item[0].lastlat)\n",
    "            person2lon1.append(item[1].lon)\n",
    "            person2lat1.append(item[1].lat)\n",
    "            person2lon2.append(item[1].lastlon)\n",
    "            person2lat2.append(item[1].lastlat)\n",
    "    df_all = pd.DataFrame(list(zip(person1li, person2li,person1t2, person1t1, person2t2,person2t1,person1lon1,person1lat1,person1lon2,person1lat2,person2lon1,person2lat1,person2lon2,person2lat2)), columns = ['Person1','Person2','Person1_t_start','Person1_t_end','Person2_t_start','Person2_t_end','Person1_endlon','Person1_endlat','Person1_startlon','Person1_startlat','Person2_endlon','Person2_endlat','Person2_startlon','Person2_startlat'])\n",
    "    return df_all"
   ]
  },
  {
   "cell_type": "code",
   "execution_count": null,
   "metadata": {
    "id": "qhssMG8cdyli"
   },
   "outputs": [],
   "source": [
    "# I decide not to eliminate large ellipses here in this code but in the 06_tiger_interaction_frequency_histogram because this will allow us to keep as much as possbile potential interactions\n",
    "MAX_EL_TIMETHRE = 1000000000000000 #eliminate large ellipses, in seconds, when we set a very large value like here it means we don't want to eliminate ellipses\n",
    "MINUTE_DELAY = 180#@param {type:\"slider\"} , set a time lag in minute\n",
    "#['30','60','180','360','1440','2880','5760','10080','20160','30240','40320','50400']"
   ]
  },
  {
   "cell_type": "code",
   "execution_count": null,
   "metadata": {
    "colab": {
     "base_uri": "https://localhost:8080/",
     "height": 2363
    },
    "executionInfo": {
     "elapsed": 248864,
     "status": "ok",
     "timestamp": 1559668983629,
     "user": {
      "displayName": "Jasper Johnson",
      "photoUrl": "https://lh5.googleusercontent.com/-k8HHX1OF_tQ/AAAAAAAAAAI/AAAAAAAAAAs/td0M0m_Ih7c/s64/photo.jpg",
      "userId": "14608669996816084911"
     },
     "user_tz": 300
    },
    "id": "U6s4vZQErW04",
    "outputId": "fbe1554b-c55c-4898-a584-329a478c207c",
    "scrolled": true
   },
   "outputs": [
    {
     "name": "stdout",
     "output_type": "stream",
     "text": [
      "500 4545\n",
      "1000 4545\n",
      "1500 4545\n",
      "CPU times: user 1min 57s, sys: 125 ms, total: 1min 57s\n",
      "Wall time: 1min 57s\n"
     ]
    }
   ],
   "source": [
    "%%time\n",
    "all_intersection_pairs1 = []\n",
    "\n",
    "# **** use a small dataframe to go through the loop will speed up the function of \"get_intersect_pairs\" *****\n",
    "# tiger2 = df2[tiger_ID].unique().tolist()[0]\n",
    "tiger1 = df1[tiger_ID].unique().tolist()[0]\n",
    "\n",
    "all_intersection_pairs1 = get_intersect_pairs(ellipses_list,tiger1,MAX_EL_TIMETHRE,MINUTE_DELAY)\n"
   ]
  },
  {
   "cell_type": "code",
   "execution_count": null,
   "metadata": {
    "id": "Kt_zkAqHkrlX",
    "outputId": "d07129c0-6322-4692-823a-2853d6d37147"
   },
   "outputs": [
    {
     "name": "stdout",
     "output_type": "stream",
     "text": [
      "11\n"
     ]
    }
   ],
   "source": [
    "df_allinter_ellipse = get_all_intersect_ellipse(all_intersection_pairs1)\n",
    "print (df_allinter_ellipse.shape[0])"
   ]
  },
  {
   "cell_type": "code",
   "execution_count": null,
   "metadata": {
    "id": "9xN8W3Xnaaxx"
   },
   "outputs": [],
   "source": []
  },
  {
   "cell_type": "code",
   "execution_count": null,
   "metadata": {
    "id": "3Pup2arYkPGC",
    "outputId": "b576dadd-5950-4dfb-be91-49871ed52750",
    "scrolled": true
   },
   "outputs": [
    {
     "data": {
      "text/html": [
       "<div>\n",
       "<style scoped>\n",
       "    .dataframe tbody tr th:only-of-type {\n",
       "        vertical-align: middle;\n",
       "    }\n",
       "\n",
       "    .dataframe tbody tr th {\n",
       "        vertical-align: top;\n",
       "    }\n",
       "\n",
       "    .dataframe thead th {\n",
       "        text-align: right;\n",
       "    }\n",
       "</style>\n",
       "<table border=\"1\" class=\"dataframe\">\n",
       "  <thead>\n",
       "    <tr style=\"text-align: right;\">\n",
       "      <th></th>\n",
       "      <th>Person1</th>\n",
       "      <th>Person2</th>\n",
       "      <th>Person1_t_start</th>\n",
       "      <th>Person1_t_end</th>\n",
       "      <th>Person2_t_start</th>\n",
       "      <th>Person2_t_end</th>\n",
       "      <th>Person1_endlon</th>\n",
       "      <th>Person1_endlat</th>\n",
       "      <th>Person1_startlon</th>\n",
       "      <th>Person1_startlat</th>\n",
       "      <th>Person2_endlon</th>\n",
       "      <th>Person2_endlat</th>\n",
       "      <th>Person2_startlon</th>\n",
       "      <th>Person2_startlat</th>\n",
       "    </tr>\n",
       "  </thead>\n",
       "  <tbody>\n",
       "    <tr>\n",
       "      <th>0</th>\n",
       "      <td>20080</td>\n",
       "      <td>20083</td>\n",
       "      <td>2016-07-16 09:00:00</td>\n",
       "      <td>2016-07-23 03:00:00</td>\n",
       "      <td>2016-07-23 02:01:00</td>\n",
       "      <td>2016-07-23 03:00:00</td>\n",
       "      <td>99.01032</td>\n",
       "      <td>15.55017</td>\n",
       "      <td>99.03963</td>\n",
       "      <td>15.54360</td>\n",
       "      <td>99.06460</td>\n",
       "      <td>15.50131</td>\n",
       "      <td>99.06480</td>\n",
       "      <td>15.50126</td>\n",
       "    </tr>\n",
       "    <tr>\n",
       "      <th>1</th>\n",
       "      <td>20080</td>\n",
       "      <td>20083</td>\n",
       "      <td>2016-09-04 00:00:00</td>\n",
       "      <td>2016-09-04 06:01:00</td>\n",
       "      <td>2016-09-04 05:00:00</td>\n",
       "      <td>2016-09-04 06:00:00</td>\n",
       "      <td>99.06595</td>\n",
       "      <td>15.50962</td>\n",
       "      <td>99.05950</td>\n",
       "      <td>15.51251</td>\n",
       "      <td>99.05936</td>\n",
       "      <td>15.49932</td>\n",
       "      <td>99.03920</td>\n",
       "      <td>15.49292</td>\n",
       "    </tr>\n",
       "    <tr>\n",
       "      <th>2</th>\n",
       "      <td>20080</td>\n",
       "      <td>20083</td>\n",
       "      <td>2016-09-04 06:01:00</td>\n",
       "      <td>2016-09-04 07:03:00</td>\n",
       "      <td>2016-09-04 06:00:00</td>\n",
       "      <td>2016-09-04 07:01:00</td>\n",
       "      <td>99.06094</td>\n",
       "      <td>15.50541</td>\n",
       "      <td>99.06595</td>\n",
       "      <td>15.50962</td>\n",
       "      <td>99.06902</td>\n",
       "      <td>15.50022</td>\n",
       "      <td>99.05936</td>\n",
       "      <td>15.49932</td>\n",
       "    </tr>\n",
       "    <tr>\n",
       "      <th>3</th>\n",
       "      <td>20080</td>\n",
       "      <td>20083</td>\n",
       "      <td>2016-09-04 10:00:00</td>\n",
       "      <td>2016-09-04 11:00:00</td>\n",
       "      <td>2016-09-04 09:00:00</td>\n",
       "      <td>2016-09-04 11:01:00</td>\n",
       "      <td>99.06351</td>\n",
       "      <td>15.50876</td>\n",
       "      <td>99.05963</td>\n",
       "      <td>15.50864</td>\n",
       "      <td>99.06408</td>\n",
       "      <td>15.50826</td>\n",
       "      <td>99.06629</td>\n",
       "      <td>15.50284</td>\n",
       "    </tr>\n",
       "    <tr>\n",
       "      <th>4</th>\n",
       "      <td>20080</td>\n",
       "      <td>20083</td>\n",
       "      <td>2016-09-04 11:00:00</td>\n",
       "      <td>2016-09-04 12:00:00</td>\n",
       "      <td>2016-09-04 11:01:00</td>\n",
       "      <td>2016-09-04 12:00:00</td>\n",
       "      <td>99.06310</td>\n",
       "      <td>15.50790</td>\n",
       "      <td>99.06351</td>\n",
       "      <td>15.50876</td>\n",
       "      <td>99.05542</td>\n",
       "      <td>15.50921</td>\n",
       "      <td>99.06408</td>\n",
       "      <td>15.50826</td>\n",
       "    </tr>\n",
       "    <tr>\n",
       "      <th>5</th>\n",
       "      <td>20080</td>\n",
       "      <td>20083</td>\n",
       "      <td>2016-09-04 18:00:00</td>\n",
       "      <td>2016-09-04 19:00:00</td>\n",
       "      <td>2016-09-04 16:00:00</td>\n",
       "      <td>2016-09-04 19:01:00</td>\n",
       "      <td>99.06330</td>\n",
       "      <td>15.50875</td>\n",
       "      <td>99.06328</td>\n",
       "      <td>15.50877</td>\n",
       "      <td>99.03244</td>\n",
       "      <td>15.53001</td>\n",
       "      <td>99.05555</td>\n",
       "      <td>15.51506</td>\n",
       "    </tr>\n",
       "    <tr>\n",
       "      <th>6</th>\n",
       "      <td>20080</td>\n",
       "      <td>20083</td>\n",
       "      <td>2016-09-04 21:00:00</td>\n",
       "      <td>2016-09-04 22:00:00</td>\n",
       "      <td>2016-09-04 21:02:00</td>\n",
       "      <td>2016-09-04 22:00:00</td>\n",
       "      <td>99.06329</td>\n",
       "      <td>15.50878</td>\n",
       "      <td>99.06331</td>\n",
       "      <td>15.50884</td>\n",
       "      <td>99.06265</td>\n",
       "      <td>15.50500</td>\n",
       "      <td>99.05878</td>\n",
       "      <td>15.51475</td>\n",
       "    </tr>\n",
       "    <tr>\n",
       "      <th>7</th>\n",
       "      <td>20080</td>\n",
       "      <td>20083</td>\n",
       "      <td>2016-09-04 22:00:00</td>\n",
       "      <td>2016-09-04 23:00:00</td>\n",
       "      <td>2016-09-04 22:00:00</td>\n",
       "      <td>2016-09-04 23:00:00</td>\n",
       "      <td>99.06329</td>\n",
       "      <td>15.50883</td>\n",
       "      <td>99.06329</td>\n",
       "      <td>15.50878</td>\n",
       "      <td>99.06267</td>\n",
       "      <td>15.50502</td>\n",
       "      <td>99.06265</td>\n",
       "      <td>15.50500</td>\n",
       "    </tr>\n",
       "    <tr>\n",
       "      <th>8</th>\n",
       "      <td>20080</td>\n",
       "      <td>20083</td>\n",
       "      <td>2016-09-05 01:00:00</td>\n",
       "      <td>2016-09-05 02:00:00</td>\n",
       "      <td>2016-09-05 00:00:00</td>\n",
       "      <td>2016-09-05 02:00:00</td>\n",
       "      <td>99.06372</td>\n",
       "      <td>15.50798</td>\n",
       "      <td>99.06332</td>\n",
       "      <td>15.50887</td>\n",
       "      <td>99.06386</td>\n",
       "      <td>15.50574</td>\n",
       "      <td>99.06261</td>\n",
       "      <td>15.50505</td>\n",
       "    </tr>\n",
       "    <tr>\n",
       "      <th>9</th>\n",
       "      <td>20080</td>\n",
       "      <td>20083</td>\n",
       "      <td>2016-09-05 06:00:00</td>\n",
       "      <td>2016-09-05 07:00:00</td>\n",
       "      <td>2016-09-05 06:00:00</td>\n",
       "      <td>2016-09-05 07:00:00</td>\n",
       "      <td>99.06349</td>\n",
       "      <td>15.50706</td>\n",
       "      <td>99.06393</td>\n",
       "      <td>15.50848</td>\n",
       "      <td>99.06346</td>\n",
       "      <td>15.50655</td>\n",
       "      <td>99.06321</td>\n",
       "      <td>15.50673</td>\n",
       "    </tr>\n",
       "    <tr>\n",
       "      <th>10</th>\n",
       "      <td>20080</td>\n",
       "      <td>20083</td>\n",
       "      <td>2016-09-05 07:00:00</td>\n",
       "      <td>2016-09-05 08:00:00</td>\n",
       "      <td>2016-09-05 07:00:00</td>\n",
       "      <td>2016-09-05 08:01:00</td>\n",
       "      <td>99.05385</td>\n",
       "      <td>15.51825</td>\n",
       "      <td>99.06349</td>\n",
       "      <td>15.50706</td>\n",
       "      <td>99.06343</td>\n",
       "      <td>15.50651</td>\n",
       "      <td>99.06346</td>\n",
       "      <td>15.50655</td>\n",
       "    </tr>\n",
       "  </tbody>\n",
       "</table>\n",
       "</div>"
      ],
      "text/plain": [
       "    Person1  Person2     Person1_t_start       Person1_t_end     Person2_t_start       Person2_t_end  Person1_endlon  Person1_endlat  Person1_startlon  Person1_startlat  Person2_endlon  Person2_endlat  Person2_startlon  Person2_startlat\n",
       "0     20080    20083 2016-07-16 09:00:00 2016-07-23 03:00:00 2016-07-23 02:01:00 2016-07-23 03:00:00        99.01032        15.55017          99.03963          15.54360        99.06460        15.50131          99.06480          15.50126\n",
       "1     20080    20083 2016-09-04 00:00:00 2016-09-04 06:01:00 2016-09-04 05:00:00 2016-09-04 06:00:00        99.06595        15.50962          99.05950          15.51251        99.05936        15.49932          99.03920          15.49292\n",
       "2     20080    20083 2016-09-04 06:01:00 2016-09-04 07:03:00 2016-09-04 06:00:00 2016-09-04 07:01:00        99.06094        15.50541          99.06595          15.50962        99.06902        15.50022          99.05936          15.49932\n",
       "3     20080    20083 2016-09-04 10:00:00 2016-09-04 11:00:00 2016-09-04 09:00:00 2016-09-04 11:01:00        99.06351        15.50876          99.05963          15.50864        99.06408        15.50826          99.06629          15.50284\n",
       "4     20080    20083 2016-09-04 11:00:00 2016-09-04 12:00:00 2016-09-04 11:01:00 2016-09-04 12:00:00        99.06310        15.50790          99.06351          15.50876        99.05542        15.50921          99.06408          15.50826\n",
       "5     20080    20083 2016-09-04 18:00:00 2016-09-04 19:00:00 2016-09-04 16:00:00 2016-09-04 19:01:00        99.06330        15.50875          99.06328          15.50877        99.03244        15.53001          99.05555          15.51506\n",
       "6     20080    20083 2016-09-04 21:00:00 2016-09-04 22:00:00 2016-09-04 21:02:00 2016-09-04 22:00:00        99.06329        15.50878          99.06331          15.50884        99.06265        15.50500          99.05878          15.51475\n",
       "7     20080    20083 2016-09-04 22:00:00 2016-09-04 23:00:00 2016-09-04 22:00:00 2016-09-04 23:00:00        99.06329        15.50883          99.06329          15.50878        99.06267        15.50502          99.06265          15.50500\n",
       "8     20080    20083 2016-09-05 01:00:00 2016-09-05 02:00:00 2016-09-05 00:00:00 2016-09-05 02:00:00        99.06372        15.50798          99.06332          15.50887        99.06386        15.50574          99.06261          15.50505\n",
       "9     20080    20083 2016-09-05 06:00:00 2016-09-05 07:00:00 2016-09-05 06:00:00 2016-09-05 07:00:00        99.06349        15.50706          99.06393          15.50848        99.06346        15.50655          99.06321          15.50673\n",
       "10    20080    20083 2016-09-05 07:00:00 2016-09-05 08:00:00 2016-09-05 07:00:00 2016-09-05 08:01:00        99.05385        15.51825          99.06349          15.50706        99.06343        15.50651          99.06346          15.50655"
      ]
     },
     "execution_count": 88,
     "metadata": {
      "tags": []
     },
     "output_type": "execute_result"
    }
   ],
   "source": [
    "df_allinter_ellipse"
   ]
  },
  {
   "cell_type": "code",
   "execution_count": null,
   "metadata": {
    "id": "QcJb1t2iotTP"
   },
   "outputs": [],
   "source": [
    "# df_allinter_ellipse.to_csv(\"data_generated/tiger_interaction_pairs_\"+str(MINUTE_DELAY)+\"min.csv\",sep=',',index=False)\n",
    "# df_allinter_ellipse.to_csv(\"data_generated/leopard31898tiger22901_interaction_\"+str(MINUTE_DELAY)+\"min.csv\",sep=',',index=False)\n",
    "# df_allinter_ellipse.to_csv(\"data_generated/leopard31898tiger22904_interaction_\"+str(MINUTE_DELAY)+\"min.csv\",sep=',',index=False)\n",
    "df_allinter_ellipse.to_csv(\"data_generated/tiger20080_20083_\"+str(MINUTE_DELAY)+\"min.csv\",sep=',',index=False)\n"
   ]
  },
  {
   "cell_type": "code",
   "execution_count": null,
   "metadata": {
    "id": "BAMJe7Oqaax2"
   },
   "outputs": [],
   "source": []
  },
  {
   "cell_type": "code",
   "execution_count": null,
   "metadata": {
    "id": "xUN0taS7OGPk"
   },
   "outputs": [],
   "source": [
    "# Spatially intersecting only"
   ]
  },
  {
   "cell_type": "code",
   "execution_count": null,
   "metadata": {
    "id": "CKlCJkhwaax5"
   },
   "outputs": [],
   "source": [
    "remove_large_ellipse = 180 # parameter in minute: remove large ellipses longer than 3 hours\n",
    "def compute_frequency_excludinglarge_ellipse(df1):\n",
    "    df1['Person1_t_start'] = pd.to_datetime(df1['Person1_t_start'])\n",
    "    df1['Person1_t_end'] = pd.to_datetime(df1['Person1_t_end'])\n",
    "    df1['Person2_t_start'] = pd.to_datetime(df1['Person2_t_start'])\n",
    "    df1['Person2_t_end'] = pd.to_datetime(df1['Person2_t_end'])\n",
    "    \n",
    "    df1['timediff1'] = df1['Person1_t_end'] - df1['Person1_t_start']\n",
    "    df1['timediff1'] = df1['timediff1'].dt.total_seconds()/60\n",
    "    df1['timediff2'] = df1['Person2_t_end'] - df1['Person2_t_start']\n",
    "    df1['timediff2'] = df1['timediff2'].dt.total_seconds()/60\n",
    "    \n",
    "    df1_new =df1[(df1['timediff1']<=remove_large_ellipse)&(df1['timediff2']<=remove_large_ellipse)]\n",
    "    return df1_new"
   ]
  },
  {
   "cell_type": "code",
   "execution_count": null,
   "metadata": {
    "id": "aVmQnVANaax6",
    "outputId": "a16a0135-485c-455d-f9d3-8872cece1d2c"
   },
   "outputs": [
    {
     "name": "stdout",
     "output_type": "stream",
     "text": [
      "500 16359\n",
      "1000 16359\n",
      "1500 16359\n",
      "2000 16359\n",
      "2500 16359\n",
      "3000 16359\n",
      "3500 16359\n",
      "4000 16359\n",
      "4500 16359\n",
      "5000 16359\n",
      "5500 16359\n",
      "6000 16359\n",
      "6500 16359\n",
      "7000 16359\n",
      "CPU times: user 7min 30s, sys: 559 ms, total: 7min 30s\n",
      "Wall time: 7min 31s\n"
     ]
    }
   ],
   "source": [
    "%%time\n",
    "all_intersection_pairs2 = []\n",
    "tiger1 = df1[tiger_ID].unique().tolist()[0]\n",
    "# tiger2 = df2[tiger_ID].unique().tolist()[0]\n",
    "all_intersection_pairs2 = get_spatially_intersect_pairs(ellipses_list,tiger1,MAX_EL_TIMETHRE)\n",
    "# all_intersection_pairs2 = get_spatially_intersect_pairs(ellipses_list,tiger2,MAX_EL_TIMETHRE)"
   ]
  },
  {
   "cell_type": "code",
   "execution_count": null,
   "metadata": {
    "id": "uRZkzuMVaax8",
    "outputId": "15701d15-759b-4a00-e1a9-8d9f47f5b839"
   },
   "outputs": [
    {
     "name": "stdout",
     "output_type": "stream",
     "text": [
      "127618\n"
     ]
    }
   ],
   "source": [
    "df_allinter_ellipse2 = get_all_intersect_ellipse(all_intersection_pairs2)\n",
    "print (df_allinter_ellipse2.shape[0])"
   ]
  },
  {
   "cell_type": "code",
   "execution_count": null,
   "metadata": {
    "id": "mXnX-jr9aax9"
   },
   "outputs": [],
   "source": [
    "df_allinter_ellipse2.to_csv(\"data_generated/leopard31898_tiger22901_spatiallyIntersectedOnly.csv\",sep=',',index=False)\n",
    "# df_allinter_ellipse2.to_csv(\"data_generated/leopard31898_tiger22904_spatiallyIntersectedOnly.csv\",sep=',',index=False)\n",
    "# df_allinter_ellipse2.to_csv(\"data_generated/tiger20080_tiger20083_spatiallyIntersectedOnly.csv\",sep=',',index=False)\n",
    "# df_allinter_ellipse2.to_csv(\"data_generated/tiger22901_tiger22904_spatiallyIntersectedOnly.csv\",sep=',',index=False)\n"
   ]
  },
  {
   "cell_type": "code",
   "execution_count": null,
   "metadata": {
    "id": "2Ty7-frXaax_",
    "outputId": "13937999-2c47-4c6d-9542-28a69c661dcb"
   },
   "outputs": [
    {
     "name": "stdout",
     "output_type": "stream",
     "text": [
      "41410\n"
     ]
    }
   ],
   "source": [
    "newdata1 = compute_frequency_excludinglarge_ellipse(df_allinter_ellipse2)\n",
    "print (newdata1.shape[0])"
   ]
  },
  {
   "cell_type": "code",
   "execution_count": null,
   "metadata": {
    "id": "IhWkUJS0aayA"
   },
   "outputs": [],
   "source": []
  },
  {
   "cell_type": "code",
   "execution_count": null,
   "metadata": {
    "id": "-_drbhvRaayC",
    "outputId": "454a0125-7eeb-4fb0-da6a-a944d533beac"
   },
   "outputs": [
    {
     "data": {
      "text/html": [
       "<div>\n",
       "<style scoped>\n",
       "    .dataframe tbody tr th:only-of-type {\n",
       "        vertical-align: middle;\n",
       "    }\n",
       "\n",
       "    .dataframe tbody tr th {\n",
       "        vertical-align: top;\n",
       "    }\n",
       "\n",
       "    .dataframe thead th {\n",
       "        text-align: right;\n",
       "    }\n",
       "</style>\n",
       "<table border=\"1\" class=\"dataframe\">\n",
       "  <thead>\n",
       "    <tr style=\"text-align: right;\">\n",
       "      <th></th>\n",
       "      <th>Person1</th>\n",
       "      <th>Person2</th>\n",
       "      <th>Person1_t_start</th>\n",
       "      <th>Person1_t_end</th>\n",
       "      <th>Person2_t_start</th>\n",
       "      <th>Person2_t_end</th>\n",
       "      <th>Person1_endlon</th>\n",
       "      <th>Person1_endlat</th>\n",
       "      <th>Person1_startlon</th>\n",
       "      <th>Person1_startlat</th>\n",
       "      <th>Person2_endlon</th>\n",
       "      <th>Person2_endlat</th>\n",
       "      <th>Person2_startlon</th>\n",
       "      <th>Person2_startlat</th>\n",
       "      <th>timediff1</th>\n",
       "      <th>timediff2</th>\n",
       "      <th>test</th>\n",
       "    </tr>\n",
       "  </thead>\n",
       "  <tbody>\n",
       "  </tbody>\n",
       "</table>\n",
       "</div>"
      ],
      "text/plain": [
       "Empty DataFrame\n",
       "Columns: [Person1, Person2, Person1_t_start, Person1_t_end, Person2_t_start, Person2_t_end, Person1_endlon, Person1_endlat, Person1_startlon, Person1_startlat, Person2_endlon, Person2_endlat, Person2_startlon, Person2_startlat, timediff1, timediff2, test]\n",
       "Index: []"
      ]
     },
     "execution_count": 138,
     "metadata": {
      "tags": []
     },
     "output_type": "execute_result"
    }
   ],
   "source": [
    "df_allinter_ellipse2['test'] = df_allinter_ellipse2['Person1'] - df_allinter_ellipse2['Person2']\n",
    "df_allinter_ellipse2[df_allinter_ellipse2['test']==0]"
   ]
  },
  {
   "cell_type": "code",
   "execution_count": null,
   "metadata": {
    "id": "dhoctOaZaayD"
   },
   "outputs": [],
   "source": []
  },
  {
   "cell_type": "markdown",
   "metadata": {
    "id": "gH15gPdeaayF"
   },
   "source": [
    "# Plot PPAs for each tiger and intersecting PPAs"
   ]
  },
  {
   "cell_type": "code",
   "execution_count": null,
   "metadata": {
    "id": "rAOx8doDaayF"
   },
   "outputs": [],
   "source": [
    "#@title Date Range for Visualizaton\n",
    "start_time = '2016-04-30' #@param {type:\"date\"}\n",
    "end_time = '2016-09-16' #@param {type:\"date\"}"
   ]
  },
  {
   "cell_type": "code",
   "execution_count": null,
   "metadata": {
    "id": "ZwoMdRzXaayI",
    "outputId": "54ba856e-e590-4e54-bb2f-e2b20aae2e1d"
   },
   "outputs": [
    {
     "name": "stdout",
     "output_type": "stream",
     "text": [
      "-12009600.0\n",
      "FOR SELECTED TIMESPAN:\n",
      "number of interactions 73\n",
      "number of animal 1 ellipses 1796\n",
      "number of animal 2 ellipses 2743\n"
     ]
    }
   ],
   "source": [
    "#start_time='9/15/18'\n",
    "#end_time='10/29/18'\n",
    "animal1_ID=20080\n",
    "animal2_ID=20083\n",
    "\n",
    "ellipses_that_intersect=[]\n",
    "for item in all_intersection_pairs1:\n",
    "  ellipses_that_intersect.append(item[0])\n",
    "  ellipses_that_intersect.append(item[1])\n",
    "\n",
    "ellipses_within_time_range_animal1=[]\n",
    "ellipses_within_time_range_animal2=[]\n",
    "ellipses_that_intersect_within_time_range=[]\n",
    "\n",
    "time_diff_from_endtime=(pd.Timedelta(pd.to_datetime(start_time) - pd.to_datetime(end_time)).total_seconds())\n",
    "\n",
    "print(time_diff_from_endtime)\n",
    "\n",
    "for ellipse in ellipses_list:\n",
    "  d1=pd.to_datetime(ellipse.t2)\n",
    "  d2=pd.to_datetime(ellipse.t1)\n",
    "  timediff1= (pd.Timedelta(d1 - pd.to_datetime(end_time)).total_seconds())\n",
    "  timediff2= (pd.Timedelta(d2 - pd.to_datetime(end_time)).total_seconds())\n",
    "  #print(timediff1)\n",
    "  #print(timediff2)\n",
    "  #print(ellipse.tig)\n",
    "  if timediff1>time_diff_from_endtime or timediff2>time_diff_from_endtime:\n",
    "    if timediff1<0 or timediff2<0:\n",
    "      if ellipse.tig == animal1_ID:\n",
    "        ellipses_within_time_range_animal1.append(ellipse)\n",
    "      if ellipse.tig == animal2_ID:\n",
    "        ellipses_within_time_range_animal2.append(ellipse)\n",
    "        \n",
    "for ellipse in ellipses_that_intersect:\n",
    "  d1=pd.to_datetime(ellipse.t2)\n",
    "  d2=pd.to_datetime(ellipse.t1)\n",
    "  timediff1= (pd.Timedelta(d1 - pd.to_datetime(end_time)).total_seconds())\n",
    "  timediff2= (pd.Timedelta(d2 - pd.to_datetime(end_time)).total_seconds())\n",
    "  if timediff1>time_diff_from_endtime or timediff2>time_diff_from_endtime:\n",
    "    if timediff1<0 or timediff2<0:\n",
    "      ellipses_that_intersect_within_time_range.append(ellipse)\n",
    "ellipses_that_intersect_within_time_range_set=list(set(ellipses_that_intersect_within_time_range))\n",
    "\n",
    "#print(len(ellipses_that_intersect_within_time_range))   \n",
    "print(\"FOR SELECTED TIMESPAN:\")\n",
    "print('number of interactions', len(ellipses_that_intersect_within_time_range_set))     \n",
    "print('number of animal 1 ellipses',len(ellipses_within_time_range_animal1))\n",
    "print('number of animal 2 ellipses',len(ellipses_within_time_range_animal2))\n"
   ]
  },
  {
   "cell_type": "code",
   "execution_count": null,
   "metadata": {
    "id": "-khFCK9raayM",
    "outputId": "4f3738c2-e470-4732-b5c2-a6165c8934d4"
   },
   "outputs": [
    {
     "name": "stdout",
     "output_type": "stream",
     "text": [
      "stdev 0.03808320606082451\n",
      "mean 0.010842913737510854\n",
      "max val 0.12509253191998437\n"
     ]
    }
   ],
   "source": [
    "#get size\n",
    "size_list=[]\n",
    "for e in ellipses_list:\n",
    "  size= e.el[0].length\n",
    "  size_list.append(size)\n",
    "# generate max value to throw out (3x standard dev too big)\n",
    "import statistics\n",
    "print('stdev', statistics.stdev(size_list) )\n",
    "print('mean',statistics.mean(size_list) )\n",
    "max_val= statistics.mean(size_list)+ 3*(statistics.stdev(size_list))\n",
    "print('max val',max_val)"
   ]
  },
  {
   "cell_type": "code",
   "execution_count": null,
   "metadata": {
    "id": "C374Mi8ZaayN",
    "outputId": "f4b648a5-c07b-40f1-925a-5e24fb00e596"
   },
   "outputs": [
    {
     "data": {
      "image/png": "[encoded data removed]",
      "text/plain": [
       "<Figure size 720x720 with 1 Axes>"
      ]
     },
     "metadata": {
      "needs_background": "light",
      "tags": []
     },
     "output_type": "display_data"
    }
   ],
   "source": [
    "throw_out_big_ellipses = True #@param {type:\"boolean\"}\n",
    "\n",
    "ellipsecollection= [\n",
    "                    ellipses_within_time_range_animal1,\n",
    "                    ellipses_within_time_range_animal2,\n",
    "                    ellipses_that_intersect_within_time_range_set]\n",
    "import random\n",
    "color1='#ff0000'#\"#3ABA36\" #green #\n",
    "color2='#0000ff'#\"#ff0000\" #red %\"#005EFF\" #blue #\" \n",
    "interaction_color=\"#f2ff00\" #yellow \n",
    "\n",
    "fig = plt.figure(1, figsize=(8,8), dpi=90)\n",
    "#ax = fig.add_subplot(111)\n",
    "\n",
    "for collection in ellipsecollection: \n",
    "  if collection == ellipses_that_intersect_within_time_range_set:\n",
    "    colorpicked= interaction_color\n",
    "  if collection == ellipses_within_time_range_animal1:\n",
    "    colorpicked= color1\n",
    "  if collection == ellipses_within_time_range_animal2:\n",
    "    colorpicked= color2\n",
    "    \n",
    "  for item in collection:\n",
    "    if throw_out_big_ellipses==True:\n",
    "      if item.el[0].length>max_val:\n",
    "        #print('throwing out')\n",
    "        continue\n",
    "    el_shape = item.el[0]\n",
    "    #print(el_shape)\n",
    "    x,y= el_shape.xy\n",
    "    #ax = fig.add_subplot(111)\n",
    "    plt.plot(y,x, color=colorpicked, alpha=0.8,\n",
    "        linewidth=1, solid_capstyle='round')\n",
    "\n",
    "    #PLOT THE POINTS USED TO MAKE THE ELLIPSES, TOO\n",
    "    lat1=item.lat\n",
    "    lon1=item.lon\n",
    "    lat2=item.lastlat\n",
    "    lon2=item.lastlon\n",
    "    #print(lat1,lon1,lat2,lon2)\n",
    "    #plt.plot(lat1,lon1, 'r+', markersize=12, alpha=0.8, )\n",
    "    #plt.plot(lat2,lon2, 'r+', markersize=12, alpha=0.8,  )\n",
    "    plt.plot( [lon1,lon2], [lat1,lat2], 'o-', color=\"grey\", linewidth=0.5, markersize=1)\n",
    "\n",
    "plt.axis('equal')\n",
    "plt.axis('on')\n",
    "#plt.title('')   \n",
    "plt.xlabel('Longitude', fontsize=14)  \n",
    "plt.ylabel('Latitude', fontsize=14)   \n",
    "plt.grid(True)\n",
    "plt.savefig('tiger20080_20083_interaction.pdf')\n",
    "plt.show()\n"
   ]
  },
  {
   "cell_type": "code",
   "execution_count": null,
   "metadata": {
    "id": "Jk4A4hBHaayP"
   },
   "outputs": [],
   "source": []
  }
 ],
 "metadata": {
  "accelerator": "GPU",
  "colab": {
   "collapsed_sections": [
    "XhjMv3Jx32EY"
   ],
   "name": "05_tiger_leopard_interaction_detection.ipynb",
   "provenance": [
    {
     "file_id": "1cH6BXSUALquSoY6ku7j5-8iRRzVD1dtP",
     "timestamp": 1559319917700
    },
    {
     "file_id": "1DOUo9x9qXnbRk-wY0HKXtqwPYAV5MhHu",
     "timestamp": 1557720919347
    }
   ]
  },
  "kernelspec": {
   "display_name": "Python 3",
   "language": "python",
   "name": "python3"
  },
  "language_info": {
   "codemirror_mode": {
    "name": "ipython",
    "version": 3
   },
   "file_extension": ".py",
   "mimetype": "text/x-python",
   "name": "python",
   "nbconvert_exporter": "python",
   "pygments_lexer": "ipython3",
   "version": "3.6.8"
  }
 },
 "nbformat": 4,
 "nbformat_minor": 1
}

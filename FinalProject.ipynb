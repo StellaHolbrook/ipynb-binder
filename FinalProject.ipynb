{
 "cells": [
  {
   "cell_type": "markdown",
   "metadata": {},
   "source": [
    "# Determining Ideal Wind Farm Size\n",
    "\n",
    "#### Final project for Geography 136 taught by Professor Caylor at the University of California Santa Barbara \n",
    "\n",
    "Project By Jack Holbrook\n",
    "\n",
    "<img src=\"./myassets/title.PNG\" alt=\"prac1\" width=\"800\"/>\n",
    "\n",
    "In the future, renewable energy sources will need to become the dominant source of electricity generation in order to curb the effects of climate change Wind Energy is a mean by which people can renewably generate power in the future. A current limitation with wind energy is that it has very low power density compared to other forms of energy generation. Power density in this project is expressed as Watts per square meter. In this project, I will attempt to identify what attributes of wind turbines are correlated with a wind power project's power density. The four independent variables I look at in particular are:\n",
    "\n",
    "The area of the wind project in square meters\n",
    "The rotor diameter of each turbine\n",
    "The number of turbines located in each project\n",
    "The capacity in MW of each project. \n",
    "\n",
    "Two seperate multiple linear regressions will be run to give coefficients for each independent variable that affects the power density for wind projects. Lastly, a calculation using an objective function will be used to calculate the maximum power density possible for an imaginary wind power plant that uses constraints and weights based off coefficients derived from the relationship between power density and the independent variables. "
   ]
  },
  {
   "cell_type": "markdown",
   "metadata": {},
   "source": [
    "### Looooading in The Data!\n",
    "\n",
    "The first order of business is to load in the correct USWTDB data. \n",
    "options: excel sheet which is on a per project level, or large sheet which is on a per turbine level. \n",
    "The latter of the two may not be able to to found on box, but can be found as a .shp which could be coverted to a .csv and loaded into a folder along with the .csv of the per project data so both can be used in this .ipynb. "
   ]
  },
  {
   "cell_type": "code",
   "execution_count": 3,
   "metadata": {},
   "outputs": [],
   "source": [
    "import pandas as pd\n",
    "import numpy as np\n",
    "import matplotlib.pyplot as plt"
   ]
  },
  {
   "cell_type": "markdown",
   "metadata": {},
   "source": [
    "I will use additional packages later, but until then these are the first three packages that will be used in this project. "
   ]
  },
  {
   "cell_type": "markdown",
   "metadata": {},
   "source": [
    "The metadata on the original point layer can be found here:\n",
    "    \n",
    "    https://eerscmap.usgs.gov/uswtdb/assets/data/uswtdb_v3_0_1_20200514.xml"
   ]
  },
  {
   "cell_type": "code",
   "execution_count": 4,
   "metadata": {},
   "outputs": [],
   "source": [
    "windProjects = pd.read_csv('../data/final_project/USWTDB_perproject.csv')"
   ]
  },
  {
   "cell_type": "markdown",
   "metadata": {},
   "source": [
    "Here Is what the Dataframe looked like in Excel:\n",
    "\n",
    "<img src=\"./myassets/Screenshot (254).png\"  width=\"400\"/>"
   ]
  },
  {
   "cell_type": "code",
   "execution_count": 5,
   "metadata": {},
   "outputs": [],
   "source": [
    "USWTDB = pd.read_csv('../data/final_project/USWTDB_Turbine_t_rd.csv')"
   ]
  },
  {
   "cell_type": "markdown",
   "metadata": {},
   "source": [
    "Here Is what the Dataframe looked like in Excel:\n",
    "\n",
    "<img src=\"./myassets/Screenshot (255).png\"  width=\"400\"/>\n",
    "\n",
    " <li> 📌 Getting Ready! </li>\n",
    "The first thing to do is to get familiar with the data that will be used to find an optimal wind power plant size. Some easy first steps include identifying the names of the data's feature, the shape of each dataframe, and identifying the data types found in each of the data frames."
   ]
  },
  {
   "cell_type": "code",
   "execution_count": 68,
   "metadata": {},
   "outputs": [
    {
     "name": "stdout",
     "output_type": "stream",
     "text": [
      "Index(['p_name', 'p_tnum', 'p_cap_MW', 'p_cap_kW', 'mean_t_cap_kW',\n",
      "       'mean_t_rd', 'mean_t_hh', 'area_m2', 'power_density_Wm2',\n",
      "       'Configuration'],\n",
      "      dtype='object')\n",
      "Index(['p_name', 'p_tnum', 'p_cap_MW', 't_cap_kW', 't_hh', 't_rd'], dtype='object')\n"
     ]
    }
   ],
   "source": [
    "# this is just for visualizing the data that we will be working with. I will do comparitive statistics \n",
    "# and multiple linear regressions on the different datas in this in order to produce helpful statistics \n",
    "# for the project.  \n",
    "\n",
    "print(windProjects.columns) \n",
    "print(USWTDB.columns)"
   ]
  },
  {
   "cell_type": "code",
   "execution_count": 69,
   "metadata": {},
   "outputs": [
    {
     "name": "stdout",
     "output_type": "stream",
     "text": [
      "(88, 10)\n",
      "(5958, 6)\n"
     ]
    }
   ],
   "source": [
    "# This dataset has many features on each project, each project has from one to hundreds of turbines\n",
    "print(windProjects.shape)\n",
    "\n",
    "# This dataset has a few features, but includes every single turbine that is part of a project containe in df windProjects\n",
    "print(USWTDB.shape)"
   ]
  },
  {
   "cell_type": "code",
   "execution_count": 8,
   "metadata": {},
   "outputs": [
    {
     "name": "stdout",
     "output_type": "stream",
     "text": [
      "            p_name  p_tnum  p_cap_MW  p_cap_kW  mean_t_cap_kW  mean_t_rd  \\\n",
      "0         251 Wind     188    16.055     16055           95.0     30.287   \n",
      "1  Alite Wind Farm       8     8.000      8000         3000.0     90.000   \n",
      "2           Alta I     100   100.000    100000         1500.0     77.000   \n",
      "3          Alta II      41    50.000     50000         3000.0     90.000   \n",
      "4         Alta III      50    50.000     50000         3000.0     90.000   \n",
      "\n",
      "   mean_t_hh      area_m2  power_density_Wm2 Configuration  \n",
      "0        NaN   2433131.85           6.598492           NaN  \n",
      "1       80.0   3459998.53           2.312140           NaN  \n",
      "2       80.0  23518405.61           4.251989           NaN  \n",
      "3       80.0  15097866.66           3.311726           NaN  \n",
      "4       80.0  15359516.92           3.255311           NaN  \n",
      "     p_name  p_tnum  p_cap_MW  t_cap_kW    t_hh    t_rd\n",
      "0  251 Wind     169    16.055        95 -9999.0 -9999.0\n",
      "1  251 Wind     169    16.055        95 -9999.0 -9999.0\n",
      "2  251 Wind     169    16.055        95 -9999.0 -9999.0\n",
      "3  251 Wind     169    16.055        95 -9999.0 -9999.0\n",
      "4  251 Wind     169    16.055        95 -9999.0 -9999.0\n"
     ]
    }
   ],
   "source": [
    "# This dataframe has two columns that use strings, they can be assigned numbers in order to be used in statistics. \n",
    "print(windProjects.head())\n",
    "\n",
    "# some Nans are visible at the head. Here they are represented by '-9999', .groupby will be used to clear out Nan values.\n",
    "print(USWTDB.head())"
   ]
  },
  {
   "cell_type": "markdown",
   "metadata": {},
   "source": [
    "### Great! We are familiar with the basics of the data.\n",
    "\n",
    "<li> 📌 Seeing how this data is related </li>\n",
    "The wind turbine data in the windProjects dataframe has been aggregated by the name of each wind farm, this feature is named 'p_name' in each dataframe as it stands for \"project name\". \n",
    "\n",
    "The relationship between the two datasets can be seen through this feature, infact, the USWTDB can easily take on a similar shape to the windProjects dataframe by grouping its values by project name!"
   ]
  },
  {
   "cell_type": "code",
   "execution_count": 71,
   "metadata": {},
   "outputs": [
    {
     "name": "stdout",
     "output_type": "stream",
     "text": [
      "<bound method IndexOpsMixin.value_counts of 0                251 Wind\n",
      "1         Alite Wind Farm\n",
      "2                  Alta I\n",
      "3                 Alta II\n",
      "4                Alta III\n",
      "             ...         \n",
      "83        Whitewater Hill\n",
      "84               Windland\n",
      "85    Windridge Wind Farm\n",
      "86               Windstar\n",
      "87            Wintec Palm\n",
      "Name: p_name, Length: 88, dtype: object>\n",
      "88\n"
     ]
    },
    {
     "data": {
      "text/html": [
       "<div>\n",
       "<style scoped>\n",
       "    .dataframe tbody tr th:only-of-type {\n",
       "        vertical-align: middle;\n",
       "    }\n",
       "\n",
       "    .dataframe tbody tr th {\n",
       "        vertical-align: top;\n",
       "    }\n",
       "\n",
       "    .dataframe thead th {\n",
       "        text-align: right;\n",
       "    }\n",
       "</style>\n",
       "<table border=\"1\" class=\"dataframe\">\n",
       "  <thead>\n",
       "    <tr style=\"text-align: right;\">\n",
       "      <th></th>\n",
       "      <th>p_tnum</th>\n",
       "      <th>p_cap_MW</th>\n",
       "      <th>t_cap_kW</th>\n",
       "      <th>t_hh</th>\n",
       "      <th>t_rd</th>\n",
       "    </tr>\n",
       "    <tr>\n",
       "      <th>p_name</th>\n",
       "      <th></th>\n",
       "      <th></th>\n",
       "      <th></th>\n",
       "      <th></th>\n",
       "      <th></th>\n",
       "    </tr>\n",
       "  </thead>\n",
       "  <tbody>\n",
       "    <tr>\n",
       "      <th>251 Wind</th>\n",
       "      <td>32372</td>\n",
       "      <td>3075.34</td>\n",
       "      <td>17860</td>\n",
       "      <td>-1879812.0</td>\n",
       "      <td>-1879812.0</td>\n",
       "    </tr>\n",
       "    <tr>\n",
       "      <th>Alite Wind Farm</th>\n",
       "      <td>64</td>\n",
       "      <td>192.00</td>\n",
       "      <td>24000</td>\n",
       "      <td>640.0</td>\n",
       "      <td>720.0</td>\n",
       "    </tr>\n",
       "    <tr>\n",
       "      <th>Alta I</th>\n",
       "      <td>10000</td>\n",
       "      <td>15000.00</td>\n",
       "      <td>150000</td>\n",
       "      <td>8000.0</td>\n",
       "      <td>7700.0</td>\n",
       "    </tr>\n",
       "    <tr>\n",
       "      <th>Alta II</th>\n",
       "      <td>2050</td>\n",
       "      <td>6150.00</td>\n",
       "      <td>123000</td>\n",
       "      <td>3280.0</td>\n",
       "      <td>3690.0</td>\n",
       "    </tr>\n",
       "    <tr>\n",
       "      <th>Alta III</th>\n",
       "      <td>2500</td>\n",
       "      <td>7500.00</td>\n",
       "      <td>150000</td>\n",
       "      <td>4000.0</td>\n",
       "      <td>4500.0</td>\n",
       "    </tr>\n",
       "    <tr>\n",
       "      <th>...</th>\n",
       "      <td>...</td>\n",
       "      <td>...</td>\n",
       "      <td>...</td>\n",
       "      <td>...</td>\n",
       "      <td>...</td>\n",
       "    </tr>\n",
       "    <tr>\n",
       "      <th>Whitewater Hill</th>\n",
       "      <td>1681</td>\n",
       "      <td>2521.50</td>\n",
       "      <td>61500</td>\n",
       "      <td>2665.0</td>\n",
       "      <td>2665.0</td>\n",
       "    </tr>\n",
       "    <tr>\n",
       "      <th>Windland</th>\n",
       "      <td>3368</td>\n",
       "      <td>785.52</td>\n",
       "      <td>16440</td>\n",
       "      <td>-579782.0</td>\n",
       "      <td>-479576.4</td>\n",
       "    </tr>\n",
       "    <tr>\n",
       "      <th>Windridge Wind Farm</th>\n",
       "      <td>1681</td>\n",
       "      <td>168.10</td>\n",
       "      <td>3690</td>\n",
       "      <td>-409959.0</td>\n",
       "      <td>-409959.0</td>\n",
       "    </tr>\n",
       "    <tr>\n",
       "      <th>Windstar</th>\n",
       "      <td>1898</td>\n",
       "      <td>3796.00</td>\n",
       "      <td>120000</td>\n",
       "      <td>4020.0</td>\n",
       "      <td>4961.0</td>\n",
       "    </tr>\n",
       "    <tr>\n",
       "      <th>Wintec Palm</th>\n",
       "      <td>484</td>\n",
       "      <td>31.46</td>\n",
       "      <td>1430</td>\n",
       "      <td>-219978.0</td>\n",
       "      <td>-219978.0</td>\n",
       "    </tr>\n",
       "  </tbody>\n",
       "</table>\n",
       "<p>88 rows × 5 columns</p>\n",
       "</div>"
      ],
      "text/plain": [
       "                     p_tnum  p_cap_MW  t_cap_kW       t_hh       t_rd\n",
       "p_name                                                               \n",
       "251 Wind              32372   3075.34     17860 -1879812.0 -1879812.0\n",
       "Alite Wind Farm          64    192.00     24000      640.0      720.0\n",
       "Alta I                10000  15000.00    150000     8000.0     7700.0\n",
       "Alta II                2050   6150.00    123000     3280.0     3690.0\n",
       "Alta III               2500   7500.00    150000     4000.0     4500.0\n",
       "...                     ...       ...       ...        ...        ...\n",
       "Whitewater Hill        1681   2521.50     61500     2665.0     2665.0\n",
       "Windland               3368    785.52     16440  -579782.0  -479576.4\n",
       "Windridge Wind Farm    1681    168.10      3690  -409959.0  -409959.0\n",
       "Windstar               1898   3796.00    120000     4020.0     4961.0\n",
       "Wintec Palm             484     31.46      1430  -219978.0  -219978.0\n",
       "\n",
       "[88 rows x 5 columns]"
      ]
     },
     "execution_count": 71,
     "metadata": {},
     "output_type": "execute_result"
    }
   ],
   "source": [
    "####\n",
    "# Quick sanity check!\n",
    "####\n",
    "\n",
    "print(windProjects['p_name'].value_counts)\n",
    "print(len(USWTDB['p_name'].unique())) \n",
    "# this is to make sure that there is exists the same amount of projects for each .csv.\n",
    "\n",
    "# You can even check this by printing out a groupby object. \n",
    "USWTDB.groupby('p_name').sum()"
   ]
  },
  {
   "cell_type": "markdown",
   "metadata": {},
   "source": [
    "### Plotting Data as Part of EDA\n",
    "\n",
    "In order to do exciting things such as determining if rotor diameter affects power density, first the user should plot the data in its natural state to see what shape its values make it take. Below, matplot lib pyplot plots were created to do just that. they help the user understand the nature of the data. these preliminary visualizations are from the smaller \"windProjects\" dataframe. This means that 88 points are in each subplot. It will also be important to get a line of best fit for each dataset. A linear line of best fit will follow the equation:\n",
    "                                            \n",
    "                                            Y = Mx + B\n",
    "                                            \n",
    "numpy can be used to create a line of best fit from data on a subplot. Below a line of best fit is drawn from the code:\n",
    "\n",
    "                    plot(np.unique(y1), np.poly1d(np.polyfit(y1, X, 1))(np.unique(y1))\n",
    "                    \n",
    "plot( np.unique( y ), begins this line of code with the plot command. These is a varibale before th e.plot to indicate where this is plotting from. In the first argument of plot, np.unique selects unique values of the array in the unique argument.\n",
    "\n",
    "..., np.poly1d(np.polyfit(y, x, 1))... poly1d is a one dimensional polynomial class, meaning it is also in an array shape. \n",
    "inside this array's argument is np.polyfit() which is used to return a line of best fit that follows a linear equaiton that minimises the least squared error. the x and y inside the np.polyfit() argument are variabels that represent the data thats being plotted. The interger in the third part of the argument is the degree of the polynomial. By increaseing this interger, the line will curve to become closer to the center of the plotted data as it travels along the x axis. \n",
    "\n",
    "...(np.unique( y )) will end this line of code by being in its own level of indentation, this also take unique values of the variable it holds, it is there to give the array that affects the slope of the line. \n"
   ]
  },
  {
   "cell_type": "code",
   "execution_count": 170,
   "metadata": {},
   "outputs": [
    {
     "data": {
      "text/plain": [
       "<bound method Axes.set_ylabel of <matplotlib.axes._subplots.AxesSubplot object at 0x7f0d1b7e7550>>"
      ]
     },
     "execution_count": 170,
     "metadata": {},
     "output_type": "execute_result"
    },
    {
     "data": {
      "image/png": "[encoded data removed]",
      "text/plain": [
       "<Figure size 432x288 with 4 Axes>"
      ]
     },
     "metadata": {
      "needs_background": "light"
     },
     "output_type": "display_data"
    }
   ],
   "source": [
    "####\n",
    "# Using matplot lib.\n",
    "####\n",
    "\n",
    "# Assign variable to each of the four features that will be plotted against power density\n",
    "X = windProjects.power_density_Wm2\n",
    "y1 = windProjects.mean_t_rd\n",
    "y2 = windProjects.p_cap_MW\n",
    "y3 = windProjects.area_m2\n",
    "y4 = windProjects.p_tnum\n",
    "\n",
    "# Initialize figure and add subplots\n",
    "fig = plt.figure()\n",
    "ax1 = fig.add_subplot(2,2,1)\n",
    "ax2 = fig.add_subplot(2,2,2)\n",
    "ax3 = fig.add_subplot(2,2,3)\n",
    "ax4 = fig.add_subplot(2,2,4)\n",
    "\n",
    "# plot each set of records, include line of best fit for each. \n",
    "ax1.scatter(y1, X, color='darkblue')\n",
    "ax1.plot(np.unique(y1), np.poly1d(np.polyfit(y1, X, 1))(np.unique(y1)), color = 'red')\n",
    "ax1.set_title('Rotor Diameter', y=.75)\n",
    "ax1.set_xlabel\n",
    "ax1.set_ylabel\n",
    "\n",
    "ax2.scatter(y2, X, color='m')\n",
    "ax2.plot(np.unique(y2), np.poly1d(np.polyfit(y2, X, 1))(np.unique(y2)), color = 'green')\n",
    "ax2.set_title('Project Capacity', y=.75)\n",
    "ax2.set_xlabel\n",
    "ax2.set_ylabel\n",
    "\n",
    "ax3.scatter(y3, X, color=(0.0,0.8,0.81))\n",
    "ax3.plot(np.unique(y3), np.poly1d(np.polyfit(y3, X, 1))(np.unique(y3)), color = 'purple')\n",
    "ax3.set_title('Project Area', y=.75)\n",
    "ax3.set_xlabel\n",
    "ax3.set_ylabel\n",
    "\n",
    "ax4.scatter(y4, X, color='#B8D62E')\n",
    "ax4.plot(np.unique(y4), np.poly1d(np.polyfit(y4, X, 1))(np.unique(y4)), color = 'blue')\n",
    "ax4.set_title('Number of Turbines in Project', x=.7, y=.75)\n",
    "ax4.set_xlabel\n",
    "ax4.set_ylabel"
   ]
  },
  {
   "cell_type": "markdown",
   "metadata": {},
   "source": [
    "We Succesesfully determined the slope for each of these plots, but they seem to be affected by outliers. We will use a box plot to identify the affect this outlier has on the data in the windProjects dataframe."
   ]
  },
  {
   "cell_type": "code",
   "execution_count": 64,
   "metadata": {},
   "outputs": [
    {
     "data": {
      "text/plain": [
       "{'whiskers': [<matplotlib.lines.Line2D at 0x7f0d1e1bf5d0>,\n",
       "  <matplotlib.lines.Line2D at 0x7f0d1e1c8710>],\n",
       " 'caps': [<matplotlib.lines.Line2D at 0x7f0d1e1c8c10>,\n",
       "  <matplotlib.lines.Line2D at 0x7f0d1e20acd0>],\n",
       " 'boxes': [<matplotlib.lines.Line2D at 0x7f0d1e1bf590>],\n",
       " 'medians': [<matplotlib.lines.Line2D at 0x7f0d1e1ce690>],\n",
       " 'fliers': [<matplotlib.lines.Line2D at 0x7f0d1e1ceb90>],\n",
       " 'means': []}"
      ]
     },
     "execution_count": 64,
     "metadata": {},
     "output_type": "execute_result"
    },
    {
     "data": {
      "image/png": "[encoded data removed]",
      "text/plain": [
       "<Figure size 432x288 with 1 Axes>"
      ]
     },
     "metadata": {
      "needs_background": "light"
     },
     "output_type": "display_data"
    }
   ],
   "source": [
    "####\n",
    "# Box plot used to identify outliers. \n",
    "####\n",
    "\n",
    "green_diamond = dict(markerfacecolor='r', marker='D')\n",
    "fig1, ax1 = plt.subplots()\n",
    "ax1.set_title('Spot Outlying Power Densities')\n",
    "ax1.boxplot(X, flierprops= green_diamond, notch = True)"
   ]
  },
  {
   "cell_type": "markdown",
   "metadata": {},
   "source": [
    "#### Wow! those are some big outliers!\n",
    "Below, this is the largest outlier in the data shown on arcGIS. Both projects shown have high power densities. The purple one is the highest at 86.34 Wm2. The wind farm in the green buffer has the 3rd highest power density at 22.97 Wm2. These values are borderline ridiculous in the context of wind power and warrant their own investigation some other time.\n",
    "\n",
    "\n",
    "<img src=\"./myassets/outlier.PNG\"  width=\"600\"/>\n",
    "\n",
    "Now that It is known that there are outliers in the data, these can be cut out in order to improve the correlation between power density and the independent variables.  "
   ]
  },
  {
   "cell_type": "code",
   "execution_count": 72,
   "metadata": {},
   "outputs": [
    {
     "data": {
      "text/plain": [
       "16.22692153"
      ]
     },
     "execution_count": 72,
     "metadata": {},
     "output_type": "execute_result"
    }
   ],
   "source": [
    "####\n",
    "# Using our new knowledge to create a filtered dataset.\n",
    "####\n",
    "\n",
    "windProjects_clean = windProjects[(windProjects['power_density_Wm2'] < 20)]\n",
    "\n",
    "# 16 W/m2 is a much more reasonalbel outlier than 80 is!\n",
    "windProjects_clean.power_density_Wm2.max()\n",
    "# yields 16.22692153 Wm2"
   ]
  },
  {
   "cell_type": "markdown",
   "metadata": {},
   "source": [
    "The lines that were made earlier are very useful for visualizing, but they don't give us the slope! We can write a function to find the slope of a linear line, m. We can call this function for each case where the slope of a line of best fit between two arrays needs to be found. Since we don't want the calculated slope to be affected by outliers, we will use a new values for X from the filtered dataset. This means the slope generated will be different from the slopes of the best fit lines that were created earlier.\n",
    "\n",
    "<img src=\"./myassets/firstplots.PNG\"  width=\"600\"/>\n",
    "\n",
    "To begin with, a function will be created to calcuated the slope from the data in windProjects_clean."
   ]
  },
  {
   "cell_type": "code",
   "execution_count": 41,
   "metadata": {},
   "outputs": [],
   "source": [
    "from statistics import mean\n",
    "\n",
    "def best_fit_slope(X,y):\n",
    "    m = (((mean(X)*mean(y)) - mean(X*y)) /\n",
    "         ((mean(X)**2) - mean(X**2)))\n",
    "    return m"
   ]
  },
  {
   "cell_type": "code",
   "execution_count": 73,
   "metadata": {},
   "outputs": [
    {
     "name": "stdout",
     "output_type": "stream",
     "text": [
      "-3.4992544993132397\n",
      "1.6945113296937755\n",
      "-689602.4133326128\n",
      "9.302683353295956\n"
     ]
    }
   ],
   "source": [
    "####\n",
    "# Showing the outputs of each line of best fit's slope. \n",
    "####\n",
    "\n",
    "#Create new varibales that relate tot he filtered dataset instead of the unfiltered one.  \n",
    "Xf = windProjects_clean.power_density_Wm2\n",
    "y1f = windProjects_clean.mean_t_rd\n",
    "y2f = windProjects_clean.p_cap_MW\n",
    "y3f = windProjects_clean.area_m2\n",
    "y4f = windProjects_clean.p_tnum\n",
    "\n",
    "#Rotor Diameter to Power Density\n",
    "print(best_fit_slope(Xf,y1f))\n",
    "# -3.4992544993132397\n",
    "\n",
    "#Project Capacity to Power Density\n",
    "print(best_fit_slope(Xf,y2f))\n",
    "# 1.6945113296937755\n",
    "\n",
    "#Project Area to Power Density\n",
    "print(best_fit_slope(Xf,y3f))\n",
    "# -689602.4133326128\n",
    "\n",
    "#Number of Turbines in Project to Power Density\n",
    "print(best_fit_slope(Xf,y4f))\n",
    "# 9.302683353295956"
   ]
  },
  {
   "cell_type": "markdown",
   "metadata": {},
   "source": [
    "### Analysis On A Per Turbine Level\n",
    "\n",
    "<li> 📌 THE USWTDB dataset </li>\n",
    "\n",
    "Shifting focus to the USWTDB DataFrame, this dataframe also has Nan values, some of which obstruct from plotting key records straight out of the box. Let's count the number of records that aren't Nans for each. "
   ]
  },
  {
   "cell_type": "code",
   "execution_count": 73,
   "metadata": {},
   "outputs": [
    {
     "name": "stdout",
     "output_type": "stream",
     "text": [
      "5957\n",
      "5958\n",
      "4872\n",
      "3100\n",
      "3967\n"
     ]
    }
   ],
   "source": [
    "####\n",
    "# More EDA: see if the p_cap_MW, p_tnum are completely full!\n",
    "####\n",
    "\n",
    "print(sum(USWTDB.p_cap_MW > 0))  # Missing one record, 5957 \n",
    "print(sum(USWTDB.p_tnum > 0))    # Is full, 5958\n",
    "print(sum(USWTDB.t_cap_kW > 0))  # 4872\n",
    "print(sum(USWTDB.t_hh > 0))      # 3100, most sparse data\n",
    "print(sum(USWTDB.t_rd > 0))      # 3967"
   ]
  },
  {
   "cell_type": "code",
   "execution_count": 21,
   "metadata": {},
   "outputs": [
    {
     "name": "stdout",
     "output_type": "stream",
     "text": [
      "p_tnum       149.712258\n",
      "p_cap_MW      85.324008\n",
      "t_cap_kW    1302.930645\n",
      "t_hh          56.744226\n",
      "t_rd          60.523968\n",
      "dtype: float64\n",
      "(3100, 6)\n",
      "p_tnum       149.793547\n",
      "p_cap_MW      69.531933\n",
      "t_cap_kW    1039.062264\n",
      "t_hh       -2140.969473\n",
      "t_rd          51.030678\n",
      "dtype: float64\n",
      "(3967, 6)\n"
     ]
    }
   ],
   "source": [
    "####\n",
    "# Create new objects for all the turbines that will have no Nan or '-9999' values.\n",
    "####\n",
    "\n",
    "# The first willbe specifically for t_rd since this is an important measurement in the analysis \n",
    "WTDB_rd = USWTDB[(USWTDB['t_cap_kW'] > 0) & (USWTDB['t_rd'] > 0)]\n",
    "\n",
    "# The second will be a df with no Nan or '-9999' values at all.\n",
    "WTDB_small = USWTDB[(USWTDB['t_cap_kW'] > 0) & (USWTDB['t_hh'] > 0) & (USWTDB['t_rd'] > 0)]\n",
    "\n",
    "#USWTDB, WTDB_rd and WTDB_small will each give the interpreter different statistics, but the large data set is still helpful. \n",
    "print(WTDB_small.mean())\n",
    "print(WTDB_small.shape)\n",
    "print(WTDB_rd.mean())\n",
    "print(WTDB_rd.shape)"
   ]
  },
  {
   "cell_type": "markdown",
   "metadata": {},
   "source": [
    "So, we've created seperate Dataframes for the data that we want to be able to plot! \n",
    "\n",
    "Next, the data on a per turbine level will be plotted the goal of this is to make sure that characteristics of the turbines are correlated with one another on a per unit level. If there appears to be correlation on a per project lvel, but not at a per unit level, this would be problematic becuase it would suggest a false correlation between attributes of wind turbines and they amount of electricity they genrate per unit area. "
   ]
  },
  {
   "cell_type": "code",
   "execution_count": 50,
   "metadata": {},
   "outputs": [
    {
     "data": {
      "text/plain": [
       "Text(0, 0.5, 'p_cap_MW')"
      ]
     },
     "execution_count": 50,
     "metadata": {},
     "output_type": "execute_result"
    },
    {
     "data": {
      "text/plain": [
       "<Figure size 432x288 with 0 Axes>"
      ]
     },
     "metadata": {},
     "output_type": "display_data"
    },
    {
     "data": {
      "image/png": "[encoded data removed]",
      "text/plain": [
       "<Figure size 432x288 with 3 Axes>"
      ]
     },
     "metadata": {
      "needs_background": "light"
     },
     "output_type": "display_data"
    }
   ],
   "source": [
    "####\n",
    "# Plotting the USWTDB data\n",
    "####\n",
    "\n",
    "fig = plt.figure()\n",
    "\n",
    "#plotting t_rd v.s.t_hh, t_cap_kW, and p_cap_MW\n",
    "\n",
    "X = WTDB_rd['t_rd']\n",
    "X_ = WTDB_small['t_rd']\n",
    "\n",
    "y1 = WTDB_rd['t_cap_kW']\n",
    "y2 = WTDB_small['t_hh']\n",
    "y3 = WTDB_rd['p_cap_MW']\n",
    "\n",
    "# Add three subplots\n",
    "fig, axs = plt.subplots(3, sharex=True, sharey=False)\n",
    "\n",
    "axs[0].scatter(X, y1, color='darkblue')\n",
    "axs[0].plot(np.unique(X), np.poly1d(np.polyfit(X, y1, 1))(np.unique(X)))\n",
    "axs[0].set_title('Turbine Capacity kW', y=.75)\n",
    "axs[0].set_ylabel('t_cap_kW')\n",
    "\n",
    "axs[1].scatter(X_, y2, color='green')\n",
    "axs[1].plot(np.unique(X_), np.poly1d(np.polyfit(X_, y2, 1))(np.unique(X_)))\n",
    "axs[1].set_title('Turbine Hub Height', y=.75)\n",
    "axs[1].set_ylabel('t_hh')\n",
    "\n",
    "axs[2].scatter(X, y3, color='pink')\n",
    "axs[2].plot(np.unique(X), np.poly1d(np.polyfit(X, y3, 1))(np.unique(X)))\n",
    "axs[2].set_title('Project Capacity MW', y=.75)\n",
    "axs[2].set_xlabel('Turbine Rotor Diameter')\n",
    "axs[2].set_ylabel('p_cap_MW')"
   ]
  },
  {
   "cell_type": "markdown",
   "metadata": {},
   "source": [
    "Great! We've plotted the four varibales we want to regress by on the per project level, and the three variable we want to regress by on the level of the individual turbines. \n",
    "\n",
    "However, We are not sure how well these lines represent actual relationships in the data, we need to determine correlation. this can be done with a ready-made function from the scipy library. "
   ]
  },
  {
   "cell_type": "code",
   "execution_count": 56,
   "metadata": {},
   "outputs": [
    {
     "name": "stdout",
     "output_type": "stream",
     "text": [
      "LinregressResult(slope=30.249063537530326, intercept=-504.56796036174455, rvalue=0.941300184383509, pvalue=0.0, stderr=0.17227684551306416)\n",
      "LinregressResult(slope=0.6850783763112469, intercept=15.280564257892173, rvalue=0.9620659234242565, pvalue=0.0, stderr=0.003490328285352953)\n",
      "LinregressResult(slope=1.3990765599391428, intercept=-1.8638921085334488, rvalue=0.792034569496316, pvalue=0.0, stderr=0.017125549428549006)\n"
     ]
    }
   ],
   "source": [
    "####\n",
    "# Using scipy.stat's linear regression function to find bivariate regression\n",
    "####\n",
    "\n",
    "import scipy\n",
    "from scipy import stats\n",
    "\n",
    "print(scipy.stats.linregress(X, y1))\n",
    "# slope= 30.249063537530326, intercept= -504.56796036174455, \n",
    "# rvalue= 0.941300184383509, pvalue= 0.0, stderr= 0.17227684551306416\n",
    "\n",
    "print(scipy.stats.linregress(X_, y2))\n",
    "# slope= 0.6850783763112469, intercept=15.280564257892173, \n",
    "# rvalue= 0.9620659234242565, pvalue= 0.0, stderr= 0.003490328285352953\n",
    "\n",
    "print(scipy.stats.linregress(X, y3))\n",
    "# slope= 1.3990765599391428, intercept= -1.8638921085334488, \n",
    "# rvalue= 0.792034569496316, pvalue= 0.0, stderr= 0.017125549428549006)"
   ]
  },
  {
   "cell_type": "markdown",
   "metadata": {},
   "source": [
    "the value R, Pearson's correlation Coefficient, is helpful, but It is also important tot know the determination coefficient:\n",
    "R^2. \n",
    "\n",
    "We can find the r^2 values from these outputs simply by taking the r values from each, then squaring them. \n",
    "The P values here  are zero becuase the null hypothesis is rejected when a correlation is determined in data. The null hypothesis states that data has no correlation, however, if correlation is found, then the null hypothesis can be rejected. the P value apporaches zero as the certainty that the data is correlated increases. \n",
    "\n",
    "an example of uncorrelated data would be if I used math.random() without parameters to make a completely random dataset. \n",
    "\n",
    "<img src=\"./myassets/random.jpg\"  width=\"600\"/>"
   ]
  },
  {
   "cell_type": "markdown",
   "metadata": {},
   "source": [
    "The r values from the three previous regressions are initialized in a list and r^2 values are computed from them below. "
   ]
  },
  {
   "cell_type": "code",
   "execution_count": 163,
   "metadata": {},
   "outputs": [
    {
     "name": "stdout",
     "output_type": "stream",
     "text": [
      "0.8860460371204281\n",
      "0.9255708410141673\n",
      "0.6273187592772146\n"
     ]
    }
   ],
   "source": [
    "####\n",
    "# Finding R^2 values (Coefficients of determination) from USWTDB linear regressions\n",
    "####\n",
    "\n",
    "r_vals = [0.941300184383509, 0.9620659234242565, 0.792034569496316]\n",
    "for r in r_vals:\n",
    "    rsq = r*r\n",
    "    print(rsq)"
   ]
  },
  {
   "cell_type": "markdown",
   "metadata": {},
   "source": [
    "<li> 📌 We R serious </li>\n",
    "\n",
    "R^2 values of 0.8 or higher typically indicate a trned. There are two values that are greater than 0.8. The one value that isn't greater than 0.8 is the correlation between turbine rotor diameter and the capacity of each turbine project, this makes sense beucase multilpe factors lpay into a wind project's overall capacity. However, one concerning part about this being the weakest correlation is that a correlation between these needs to be assumed in order for rotor diameter to correlate with power density."
   ]
  },
  {
   "cell_type": "markdown",
   "metadata": {},
   "source": [
    "### Running multiple Linear Regressions\n",
    "\n"
   ]
  },
  {
   "cell_type": "markdown",
   "metadata": {},
   "source": [
    "We need the necessary Imports in order to run multiple linear regressions on the data. \n",
    "\n",
    " ▶️ <b> Import statsmodels </b>"
   ]
  },
  {
   "cell_type": "code",
   "execution_count": 74,
   "metadata": {},
   "outputs": [],
   "source": [
    "from sklearn import linear_model\n",
    "import statsmodels.api as sm"
   ]
  },
  {
   "cell_type": "markdown",
   "metadata": {},
   "source": [
    "The regression will take two inputs, X and y. X will be assigned to the independent variables while y will the the dependent variable, power density. \n",
    "\n",
    "Two seperate linear regressions were done. one regression was with the independent variables as the mean rotor diameter per project, the number of turbines per project, and the project capacity. The other regression only had two indendent variables which were the mean rotor diameter and the square area of each project. These regressions were run seperatly becuase since the values of area are in square meters, each value in this independent variable is huge compared to the values of other variables. the coefficients output from the regression change drastically when they are regressed along with the area in square meters. This also allows for a distinction between an explicitly spatial regression that has units of area in the independent and dependent variables versus a regression where only the dependent variable contain units of area. "
   ]
  },
  {
   "cell_type": "code",
   "execution_count": 81,
   "metadata": {},
   "outputs": [
    {
     "name": "stdout",
     "output_type": "stream",
     "text": [
      "Intercept: \n",
      " 9.780123381910588\n",
      "Coefficients: \n",
      " [-0.08336018  0.00227602  0.0313557 ]\n",
      "Intercept: \n",
      " 9.792615803019565\n",
      "Coefficients: \n",
      " [-6.26453534e-02  2.37111873e-08]\n"
     ]
    }
   ],
   "source": [
    "####\n",
    "# Multiple Linear Regression\n",
    "####\n",
    "\n",
    "X1 = windProjects_clean[['mean_t_rd', 'p_tnum', 'p_cap_MW', ]]\n",
    "X2 = windProjects_clean[['mean_t_rd', 'area_m2' ]]\n",
    "y = windProjects_clean['power_density_Wm2']\n",
    "\n",
    "##############################################################\n",
    "\n",
    "# With sklearn\n",
    "windProjects_rgr1 = linear_model.LinearRegression()\n",
    "windProjects_rgr1.fit(X, y)\n",
    "\n",
    "# Printing values from the multiple linear regression\n",
    "print('Intercept: \\n', windProjects_rgr1.intercept_)\n",
    "print('Coefficients: \\n', windProjects_rgr1.coef_)\n",
    "\n",
    "##############################################################\n",
    "\n",
    "# This is a two variable regression that uses area\n",
    "windProjects_rgr2 = linear_model.LinearRegression()\n",
    "windProjects_rgr2.fit(X2, y)\n",
    "\n",
    "# Printing values from the multiple linear regression\n",
    "print('Intercept: \\n', windProjects_rgr2.intercept_)\n",
    "print('Coefficients: \\n', windProjects_rgr2.coef_)"
   ]
  },
  {
   "cell_type": "markdown",
   "metadata": {},
   "source": [
    "#### Results:\n",
    "\n",
    "Intercept: \n",
    " 9.780123381910588\n",
    "Coefficients: \n",
    " [-0.08336018     0.00227602     0.0313557 ]\n",
    " \n",
    " Order: Rotor Diameter, Number of Turbines, Project Capacity in MegaWatts. \n",
    "\n",
    "Intercept: \n",
    " 9.792615803019565\n",
    "Coefficients: \n",
    " [-6.26453534e-02     2.37111873e-08]\n",
    " \n",
    " Order: Rotor Diameter, Area in square meters."
   ]
  },
  {
   "cell_type": "markdown",
   "metadata": {},
   "source": [
    "#### Takeaway from Coefficients:\n",
    "<li> 📌 What can be understood from these values? </li>\n",
    "\n",
    "\n",
    "It should make sense that the coefficients in both multiple linear regressions should be small since the range of values for power density are about 20 while the range of values for rotor diameter is about 100 and the range of values for the number of turbines per project and project capacity in MegaWatts are both in the hundreds.\n",
    "\n",
    "The multiple regression using area and rotor diameter worked similar to this, since the values of area are given in square meters, it takes thousands of square meters to change a power density in a wind farm by a single Watt per square meter. "
   ]
  },
  {
   "cell_type": "markdown",
   "metadata": {},
   "source": [
    "## Optimizing Power Density Using Linear Programming\n",
    "\n",
    "Linear programming is a method that is used to linearly locate an optimal value based upon a set of variables and constraints.\n",
    "We will be using two variables identified from the windProjects_clean dataframe, the inverse of the slope of area to power density, the inverse of the slope of turbine projects to power density, and the coefficient of project capacity from the sklearn multiple variable linear regression.\n",
    "\n",
    "Linear programming is used as a method for isolating a single point on an imaginary convex hull, convex points of the hulls, called feasible region, are considered points of optimality becuase they represent the maximum of two limits that are expressed as lines.\n",
    "\n",
    "<img src=\"./myassets/convex.PNG\"  size=\"600 * 200\"/>\n",
    "\n",
    "The inverse of slopes from the windProject_clean dataframes are used becuase the goal is to have the variabels associated with them represent a single unit of change in either area (units m2) or amount of turbines (1 turbine).\n",
    "\n",
    "The goal is to create an objective function to optimize the power density of an imaginary wind turbine project. "
   ]
  },
  {
   "cell_type": "code",
   "execution_count": 94,
   "metadata": {},
   "outputs": [
    {
     "name": "stdout",
     "output_type": "stream",
     "text": [
      "Collecting pulp\n",
      "\u001b[?25l  Downloading https://files.pythonhosted.org/packages/41/34/757c88c320f80ce602199603afe63aed1e0bc11180b9a9fb6018fb2ce7ef/PuLP-2.1-py3-none-any.whl (40.6MB)\n",
      "\u001b[K     |████████████████████████████████| 40.6MB 79.5MB/s eta 0:00:01\n",
      "\u001b[?25hRequirement already satisfied: pyparsing>=2.0.1 in /opt/conda/lib/python3.7/site-packages (from pulp) (2.4.5)\n",
      "Installing collected packages: pulp\n",
      "Successfully installed pulp-2.1\n"
     ]
    }
   ],
   "source": [
    "!pip install pulp\n",
    "import pulp"
   ]
  },
  {
   "cell_type": "markdown",
   "metadata": {},
   "source": [
    "### The Pulp Library:\n",
    "<li> 📌 Linear optimization </li>\n",
    "\n",
    "\n",
    "The pulp library provides a human friendly way to create and solve an objective function.\n",
    "\n",
    "The way the library works is an optimization problem has to be initialized and variables are assigned to it. After the objective function is is created ( this is optimalPD in the code below), constraints are added to it. \n",
    "\n",
    "objfxn.solve() will solve the objective function, it is written this way becuase linear programming problems can be robust sometimes. Lastly, the answer is printed out. "
   ]
  },
  {
   "cell_type": "code",
   "execution_count": 164,
   "metadata": {},
   "outputs": [
    {
     "name": "stdout",
     "output_type": "stream",
     "text": [
      "25.28337\n"
     ]
    }
   ],
   "source": [
    "####\n",
    "# Using Pulp Library to creeate an objective function\n",
    "####\n",
    "\n",
    "# Initialize the problem\n",
    "optimalPD = pulp.LpProblem(\"Linear Optimization for Wind Turbine Power Density\", pulp.LpMaximize)\n",
    "\n",
    "# Assign variables to weights in objective function\n",
    "x = pulp.LpVariable('x', lowBound=0, cat='Continuous')\n",
    "y = pulp.LpVariable('y', lowBound=0, cat='Continuous')\n",
    "w = pulp.LpVariable('w', lowBound=0, cat='Continuous')\n",
    "\n",
    "\n",
    "# Objective function\n",
    "optimalPD += -0.00000145011 * x +  0.110739 * y +  0.0313557 * w  , \"Z\"\n",
    "\n",
    "#  Add Constraints\n",
    "optimalPD += y <= 200 # we can't have more than 200 turbines!\n",
    "\n",
    "optimalPD += w >= 100 # minimum capacity of 200 MW\n",
    "\n",
    "# Solve problem\n",
    "optimalPD.solve()\n",
    "\n",
    "# Print Solution\n",
    "print(pulp.value(optimalPD.objective))\n",
    "# objective value gets printed"
   ]
  },
  {
   "cell_type": "markdown",
   "metadata": {},
   "source": [
    "## Are These Realistic Wind Power Density values?\n",
    "\n",
    "The methods used in the process of obtaining the area for each wind project in this exercise were not ideal for calcualting realistic wind power densities, in reality wind power densities are lower than the values seen in this project. This is becuase the methods that were used to calcualte the area occupied by each wind project undercounted the area the projects occupy in reality. Buffer edges were dissolved in the arcGIS calculation of the area which led to smaller values of area, when these were used to divide the capacities of each project, they resulted in higher power densities. \n",
    "\n",
    "<img src=\"./myassets/wind.jpg\"  width=\"600\"/>"
   ]
  },
  {
   "cell_type": "markdown",
   "metadata": {},
   "source": [
    "# References:\n",
    "\n",
    "\n",
    "Multiple Linear Regression:\n",
    "https://datatofish.com/multiple-linear-regression-python/\n",
    "\n",
    "Creating lines of Best Fit for MatPlot Lib:\n",
    "https://stackoverflow.com/questions/22239691/code-for-best-fit-straight-line-of-a-scatter-plot-in-python\n",
    "\n",
    "Box:\n",
    "https://matplotlib.org/3.2.1/gallery/pyplots/boxplot_demo_pyplot.html\n",
    "\n",
    "Pulp: \n",
    "https://benalexkeen.com/linear-programming-with-python-and-pulp-part-2/"
   ]
  }
 ],
 "metadata": {
  "kernelspec": {
   "display_name": "Python 3",
   "language": "python",
   "name": "python3"
  },
  "language_info": {
   "codemirror_mode": {
    "name": "ipython",
    "version": 3
   },
   "file_extension": ".py",
   "mimetype": "text/x-python",
   "name": "python",
   "nbconvert_exporter": "python",
   "pygments_lexer": "ipython3",
   "version": "3.7.6"
  }
 },
 "nbformat": 4,
 "nbformat_minor": 4
}

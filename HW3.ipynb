{
 "cells": [
  {
   "cell_type": "markdown",
   "metadata": {
    "id": "XPsgwxLU2Sed"
   },
   "source": [
    "# Homework 3\n",
    "\n",
    "DUE DEC 1st at 11:59 PM\n",
    "\n",
    "\n",
    "Jack Holbrook, CMPSC 190DD, 12/4/2020"
   ]
  },
  {
   "cell_type": "markdown",
   "metadata": {
    "id": "dgdeprwQ2See"
   },
   "source": [
    "## Problem 1\n",
    "\n",
    "In this problem, you will implement a simple feed-forward neural network using PyTorch, a straight-forward and simple-to-pickup framework for quickly prototyping deep learning model. \n",
    "\n",
    "PyTorch provides 2 powerful things. First, a nice data structure called Tensor (basically a matrix, similar to Numpy ndarray). Tensor is optimized for matrix calculation and can be loaded to a GPU. Tensor is also implemented so that it's easy to calculate and pass back chains of gradients, which is extremely useful for backpropagation on neural network. Second, a nice inner mechanism called Autograd that nicely map variables involved a chain of calculations and efficiently calculate their gradients via the chain rule when needed. Read more here: https://towardsdatascience.com/pytorch-autograd-understanding-the-heart-of-pytorchs-magic-2686cd94ec95  \n",
    "\n",
    "You will train and evaluate the model on a simple dataset for classifying seeds. The dataset has 7 features and 3 labels. Refer to the example from the discussion session if needed. \n",
    "\n",
    "**In this problem, you are given a good amount of freedom in tweaking your choices in designing the network. As long as it's still a feed-forward network, it's fine. Accuracy does not matter as long as it's reasonable (like above 80%) but do try to achieve a high accuracy.**\n",
    "\n",
    "(Optional): the dataset provided to you is very simple. Instead, you can challenge yourself by trying more difficult datasets. Some datasets that you can loaded directly using PyTorch:\n",
    "- MNIST (Most famous dataset for getting into Deep Learning)\n",
    "- Fashion-MNIST\n",
    "- Kuzushiji-MNIST \n",
    "\n",
    "The datasets are available at https://pytorch.org/docs/stable/torchvision/datasets.html. You will get the same grade no matter what dataset you use. \n",
    "\n",
    "### Part a\n",
    "Firstly, load and inspect the dataset from \"seeds_dataset.csv\". Split them into a train set (90%) and a test set (10%). You should be quite comfortable with these operations by now. "
   ]
  },
  {
   "cell_type": "code",
   "execution_count": 118,
   "metadata": {},
   "outputs": [],
   "source": [
    "#!pip3 install visdom\n",
    "from sklearn.model_selection import train_test_split"
   ]
  },
  {
   "cell_type": "code",
   "execution_count": 119,
   "metadata": {},
   "outputs": [],
   "source": [
    "#!pip3 install torchvision\n",
    "import numpy as np"
   ]
  },
  {
   "cell_type": "code",
   "execution_count": 120,
   "metadata": {
    "id": "3eztCAG02See"
   },
   "outputs": [],
   "source": [
    "# may be more useful to use MNIST \n",
    "# there are tons of MNIST implementations online using pytorch. \n",
    "\n",
    "# imports the necessary libraries for this activity. \n",
    "import pandas as pd\n",
    "import torch\n",
    "import torch.nn as nn\n",
    "import torchvision.datasets as dsets\n",
    "import torchvision.transforms as transforms\n",
    "from torch.autograd import Variable\n",
    "\n",
    "\n",
    "# these are the set hyperparameters. \n",
    "# from the medium article, update these as necessary.\n",
    "\n",
    "input_size = 784       # The image size = 28 x 28 = 784\n",
    "hidden_size = 500      # The number of nodes at the hidden layer\n",
    "num_classes = 10       # The number of output classes. In this case, from 0 to 9\n",
    "num_epochs = 5         # The number of times entire dataset is trained\n",
    "batch_size = 100       # The size of input data took for one iteration\n",
    "learning_rate = 0.001  # The speed of convergence\n",
    "\n",
    "'''\n",
    "train_dataset = dsets.MNIST(root='./data',\n",
    "                           train=True,\n",
    "                           transform=transforms.ToTensor(),\n",
    "                           download=True)\n",
    "test_dataset = dsets.MNIST(root='./data',\n",
    "                           train=False,\n",
    "                           transform=transforms.ToTensor())\n",
    "                           '''\n",
    "\n",
    "seeds = pd.read_csv(\"seeds_dataset.csv\", header = None)\n",
    "seeds   # labels come in values either 1,2 or 3. \n",
    "\n",
    "\n",
    "X = seeds.iloc[:,:-1].to_numpy(dtype=np.float32)\n",
    "y = seeds.iloc[:,-1].astype(\"category\").cat.codes.to_numpy(dtype=np.float32)\n",
    "\n",
    "xTrain, xTest, yTrain, yTest = train_test_split(X, y, test_size = 0.1, random_state = 0)\n"
   ]
  },
  {
   "cell_type": "markdown",
   "metadata": {
    "id": "_KpCu45p2See"
   },
   "source": [
    "### Part b \n",
    "Create a Python class for our neural network model. The network should have 1 input layer, at least 1 hidden layer, and 1 output layer. You are free to choose the size and the number of hidden layers (it may affect the performance so try tweaking around a bit), and the activation function (or no activation at all).\n",
    "\n",
    "Some popular activation functions that you can try:\n",
    "- Sigmoid (torch.sigmoid)\n",
    "- ReLU (torch.relu)\n",
    "- Tanh (torch.tanh)"
   ]
  },
  {
   "cell_type": "code",
   "execution_count": 121,
   "metadata": {
    "id": "uH6tsTUr2See"
   },
   "outputs": [],
   "source": [
    "class anetwork(nn.Module):   # this may be shortened to nn.module\n",
    "    def __init__(self):    #self, input_size, hidden_size, num_classes):\n",
    "        super(anetwork, self).__init__()\n",
    "        # well define the layers in the networl\n",
    "        self.fc1  = nn.Linear(in_features = 7,  out_features = 21) \n",
    "        self.fc2  = nn.Linear(in_features = 21, out_features = 21) \n",
    "        self.out  = nn.Linear(in_features = 21, out_features = 3) \n",
    "                                                               # find out the dimensions of the seed data\n",
    "    # Create the network class by filling in this block of code\n",
    "    \n",
    "    def forward (self, x):\n",
    "        x = torch.relu(self.fc1(x))\n",
    "        x = torch.relu(self.fc2(x))\n",
    "        x = self.out(x)\n",
    "        return x"
   ]
  },
  {
   "cell_type": "code",
   "execution_count": 122,
   "metadata": {},
   "outputs": [],
   "source": [
    "import math"
   ]
  },
  {
   "cell_type": "code",
   "execution_count": 123,
   "metadata": {},
   "outputs": [],
   "source": [
    "from sklearn.utils import shuffle"
   ]
  },
  {
   "cell_type": "markdown",
   "metadata": {
    "id": "ebDMfYee2See"
   },
   "source": [
    "### Part c \n",
    "Train the network using the train dataset. You are free to choose any suitable optimizer and loss function provided by PyTorch (or you can just use SGD optimizer and CrossEntropyLoss like we did in the discussion session for simplicity). After each epoch, record the current loss and the current accuracy. The current accuracy is obtained by evaluating the model on the train dataset. \n",
    "\n",
    "Some optimizers that you can try:\n",
    "- SGD\n",
    "- Adagrad\n",
    "- Adam\n",
    "\n",
    "https://pytorch.org/docs/stable/optim.html"
   ]
  },
  {
   "cell_type": "code",
   "execution_count": 126,
   "metadata": {
    "id": "VTCFkzmm2See"
   },
   "outputs": [
    {
     "name": "stdout",
     "output_type": "stream",
     "text": [
      "Epoch: 0 Current loss:  1.9673489332199097\n",
      "Epoch: 10 Current loss:  1.0624501705169678\n",
      "Epoch: 20 Current loss:  1.08342707157135\n"
     ]
    },
    {
     "name": "stderr",
     "output_type": "stream",
     "text": [
      "/home/jackholbrook/.local/lib/python3.6/site-packages/torch/autograd/__init__.py:132: UserWarning: CUDA initialization: Found no NVIDIA driver on your system. Please check that you have an NVIDIA GPU and installed a driver from http://www.nvidia.com/Download/index.aspx (Triggered internally at  /pytorch/c10/cuda/CUDAFunctions.cpp:100.)\n",
      "  allow_unreachable=True)  # allow_unreachable flag\n"
     ]
    }
   ],
   "source": [
    "LEARNING_RATE = 0.01\n",
    "EPOCHS = 30\n",
    "batch_size = 32\n",
    "loss_values = []\n",
    "\n",
    "def my_plot(epochs, loss):\n",
    "    plt.plot(epochs, loss)\n",
    "\n",
    "network = anetwork()\n",
    "\n",
    "criterion = torch.nn.CrossEntropyLoss()\n",
    "optimizer = torch.optim.SGD(network.parameters(), lr=learning_rate) \n",
    "#  ^^^  Named SGD but actually mini-batch Gradient Descent\n",
    "\n",
    "# Set network in training mode\n",
    "network.train()\n",
    "\n",
    "training_size = len(xTrain)\n",
    "num_batches = math.ceil(training_size/batch_size)\n",
    "\n",
    "# start on outer for loop \n",
    "for epoch in range(EPOCHS):\n",
    "    running_loss = 0.0\n",
    "   \n",
    "    \n",
    "    #shuffles the data\n",
    "    xTrain, yTrain = shuffle(xTrain, yTrain)\n",
    "    \n",
    "    \n",
    "    \n",
    "    for batch in range(num_batches):\n",
    "    \n",
    "        xTrain_batch = torch.tensor(xTrain[batch*batch_size:min(batch*batch_size+batch_size,training_size),:])\n",
    "        yTrain_batch = torch.tensor(yTrain[batch*batch_size:min(batch*batch_size+batch_size,training_size)], dtype=torch.long)\n",
    "    \n",
    "        optimizer.zero_grad()\n",
    "        \n",
    "        output = network(xTrain_batch)\n",
    "        \n",
    "        # the working part of the loss in the optimizer\n",
    "        loss = criterion(output,yTrain_batch)\n",
    "        loss.backward()\n",
    "        optimizer.step()\n",
    "        \n",
    "        loss_values.append(loss.item())\n",
    "        #running_loss +=\n",
    "        #running_loss = loss.item()\n",
    "        #running_loss = running_loss / num_batches\n",
    "    \n",
    "    # ongoing list appends item running loss\n",
    "        \n",
    "    \n",
    "    if (epoch % 10) == 0:\n",
    "        print(\"Epoch:\", epoch, \"Current loss: \", loss.item())\n",
    "    \n",
    "    # Train the network by filling in this block of code"
   ]
  },
  {
   "cell_type": "code",
   "execution_count": 127,
   "metadata": {},
   "outputs": [
    {
     "data": {
      "text/plain": [
       "[1.9331880807876587,\n",
       " 1.756152868270874,\n",
       " 1.6602013111114502,\n",
       " 1.742323637008667,\n",
       " 1.565213918685913,\n",
       " 1.9673489332199097,\n",
       " 1.4743306636810303,\n",
       " 1.841475248336792,\n",
       " 1.6199182271957397,\n",
       " 1.521172285079956,\n",
       " 1.6065521240234375,\n",
       " 1.4824113845825195,\n",
       " 1.675431251525879,\n",
       " 1.3529995679855347,\n",
       " 1.4634701013565063,\n",
       " 1.3880690336227417,\n",
       " 1.5382986068725586,\n",
       " 1.4612597227096558,\n",
       " 1.4460188150405884,\n",
       " 1.2943024635314941,\n",
       " 1.1915125846862793,\n",
       " 1.656498908996582,\n",
       " 1.498468041419983,\n",
       " 1.3079137802124023,\n",
       " 1.4516595602035522,\n",
       " 1.4628218412399292,\n",
       " 1.2708171606063843,\n",
       " 1.2027703523635864,\n",
       " 1.3977022171020508,\n",
       " 1.2567814588546753,\n",
       " 1.3376449346542358,\n",
       " 1.3420437574386597,\n",
       " 1.277121901512146,\n",
       " 1.3492498397827148,\n",
       " 1.369077444076538,\n",
       " 1.0856949090957642,\n",
       " 1.4011825323104858,\n",
       " 1.122260332107544,\n",
       " 1.2307751178741455,\n",
       " 1.3214828968048096,\n",
       " 1.1753978729248047,\n",
       " 1.3184094429016113,\n",
       " 1.1908135414123535,\n",
       " 1.2306495904922485,\n",
       " 1.2733104228973389,\n",
       " 1.250016212463379,\n",
       " 1.1512643098831177,\n",
       " 1.2944831848144531,\n",
       " 1.1632667779922485,\n",
       " 1.2170275449752808,\n",
       " 1.2495253086090088,\n",
       " 1.1827713251113892,\n",
       " 1.1332190036773682,\n",
       " 1.2965587377548218,\n",
       " 1.2234452962875366,\n",
       " 1.1476836204528809,\n",
       " 1.1185473203659058,\n",
       " 1.2284458875656128,\n",
       " 1.16527259349823,\n",
       " 1.2268751859664917,\n",
       " 1.1989096403121948,\n",
       " 1.1696606874465942,\n",
       " 1.2078890800476074,\n",
       " 1.1347076892852783,\n",
       " 1.216739535331726,\n",
       " 1.0624501705169678,\n",
       " 1.0499160289764404,\n",
       " 1.0633665323257446,\n",
       " 1.2352150678634644,\n",
       " 1.2877269983291626,\n",
       " 1.1386204957962036,\n",
       " 1.1354823112487793,\n",
       " 1.0402030944824219,\n",
       " 1.3069677352905273,\n",
       " 1.083414912223816,\n",
       " 1.1064690351486206,\n",
       " 1.0840346813201904,\n",
       " 1.218627691268921,\n",
       " 1.1038885116577148,\n",
       " 1.1400989294052124,\n",
       " 1.0307214260101318,\n",
       " 1.1303448677062988,\n",
       " 1.205068588256836,\n",
       " 1.1562491655349731,\n",
       " 1.196407675743103,\n",
       " 1.2056336402893066,\n",
       " 1.040388822555542,\n",
       " 1.135488510131836,\n",
       " 1.0864636898040771,\n",
       " 1.034105658531189,\n",
       " 1.2305057048797607,\n",
       " 1.0160008668899536,\n",
       " 1.0926082134246826,\n",
       " 1.1174046993255615,\n",
       " 1.0611976385116577,\n",
       " 1.1432303190231323,\n",
       " 1.1391006708145142,\n",
       " 1.092337965965271,\n",
       " 1.0832077264785767,\n",
       " 1.0967133045196533,\n",
       " 1.0715628862380981,\n",
       " 1.132639765739441,\n",
       " 1.1450501680374146,\n",
       " 1.0782972574234009,\n",
       " 1.1392027139663696,\n",
       " 1.1073123216629028,\n",
       " 1.080758810043335,\n",
       " 1.018122673034668,\n",
       " 1.0770169496536255,\n",
       " 1.0816880464553833,\n",
       " 1.1310923099517822,\n",
       " 1.0321592092514038,\n",
       " 1.0830926895141602,\n",
       " 1.1399625539779663,\n",
       " 1.0843428373336792,\n",
       " 1.0622920989990234,\n",
       " 1.096436858177185,\n",
       " 1.0620932579040527,\n",
       " 1.1082175970077515,\n",
       " 1.098982810974121,\n",
       " 1.0957732200622559,\n",
       " 1.125461220741272,\n",
       " 1.0796303749084473,\n",
       " 1.0913594961166382,\n",
       " 1.0093679428100586,\n",
       " 1.08342707157135,\n",
       " 1.0578604936599731,\n",
       " 1.0483145713806152,\n",
       " 1.0198519229888916,\n",
       " 1.1247670650482178,\n",
       " 1.1067588329315186,\n",
       " 1.1058874130249023,\n",
       " 1.0659968852996826,\n",
       " 1.0938597917556763,\n",
       " 1.0738104581832886,\n",
       " 1.087581753730774,\n",
       " 1.0287388563156128,\n",
       " 1.0926852226257324,\n",
       " 1.0483081340789795,\n",
       " 1.05405855178833,\n",
       " 1.0175080299377441,\n",
       " 1.070095419883728,\n",
       " 1.1013306379318237,\n",
       " 1.1373580694198608,\n",
       " 1.0327982902526855,\n",
       " 1.0620744228363037,\n",
       " 1.0631024837493896,\n",
       " 1.060855507850647,\n",
       " 1.0776604413986206,\n",
       " 1.113067865371704,\n",
       " 1.0750267505645752,\n",
       " 1.0869808197021484,\n",
       " 1.0851179361343384,\n",
       " 1.0462756156921387,\n",
       " 1.0595262050628662,\n",
       " 1.0338225364685059,\n",
       " 1.0775007009506226,\n",
       " 1.0863925218582153,\n",
       " 1.081691861152649,\n",
       " 1.0414111614227295,\n",
       " 1.044728398323059,\n",
       " 1.0429415702819824,\n",
       " 1.0564851760864258,\n",
       " 1.0644099712371826,\n",
       " 1.0711417198181152,\n",
       " 1.102146863937378,\n",
       " 1.0140612125396729,\n",
       " 1.0565690994262695,\n",
       " 1.0968166589736938,\n",
       " 1.0837700366973877,\n",
       " 1.0830373764038086,\n",
       " 1.0200682878494263,\n",
       " 1.0273603200912476,\n",
       " 1.0433210134506226,\n",
       " 1.062285304069519,\n",
       " 1.0694156885147095,\n",
       " 1.0654411315917969,\n",
       " 1.061457872390747,\n",
       " 1.0238958597183228,\n",
       " 1.0591624975204468]"
      ]
     },
     "execution_count": 127,
     "metadata": {},
     "output_type": "execute_result"
    }
   ],
   "source": [
    "loss_values\n",
    "# yes this list is appended to acorrectly. "
   ]
  },
  {
   "cell_type": "markdown",
   "metadata": {
    "id": "BoVUZHu02See"
   },
   "source": [
    "Plot how the loss and the accuracy change over the epochs. "
   ]
  },
  {
   "cell_type": "code",
   "execution_count": 134,
   "metadata": {},
   "outputs": [
    {
     "data": {
      "text/plain": [
       "[<matplotlib.lines.Line2D at 0x7fa4b08f7780>]"
      ]
     },
     "execution_count": 134,
     "metadata": {},
     "output_type": "execute_result"
    },
    {
     "data": {
      "image/png": "[encoded data removed]",
      "text/plain": [
       "<Figure size 432x288 with 1 Axes>"
      ]
     },
     "metadata": {
      "needs_background": "light"
     },
     "output_type": "display_data"
    }
   ],
   "source": [
    "import matplotlib.pyplot as plt\n",
    "# plot the loss\n",
    "plt.title(\"Loss and Accuracy Change Over Epochs\")\n",
    "plt.xlabel(\"Epochs\")\n",
    "plt.ylabel(\"Loss\")\n",
    "plt.plot(np.array(loss_values))"
   ]
  },
  {
   "cell_type": "markdown",
   "metadata": {
    "id": "bvFzNDRT2See"
   },
   "source": [
    "### Part d \n",
    "Evaluate the model on the test dataset. Print out the accuracy. Does this accuracy agrees with the training accuracy showed on the plot? Why may they be different?"
   ]
  },
  {
   "cell_type": "code",
   "execution_count": 135,
   "metadata": {
    "id": "t0eC-Wi32See"
   },
   "outputs": [
    {
     "name": "stdout",
     "output_type": "stream",
     "text": [
      "Accuracy:  0.3333333333333333\n"
     ]
    }
   ],
   "source": [
    "# this is supposed to work alright\n",
    "\n",
    "network.eval()\n",
    "\n",
    "pred = torch.argmax(network(torch.tensor(xTest)), dim=1).numpy()\n",
    "\n",
    "print(\"Accuracy: \", np.sum(pred == yTest)/len(yTest))\n",
    "\n",
    "# this may not have been a very accurate model. "
   ]
  },
  {
   "cell_type": "markdown",
   "metadata": {
    "id": "iy6C2pFfyXIa"
   },
   "source": [
    "## Problem 2\n",
    "\n",
    "If you haven't done so already, please read Chapter 2 (on fairness) of the textbook."
   ]
  },
  {
   "cell_type": "markdown",
   "metadata": {
    "id": "pe6qfhRFyXIa"
   },
   "source": [
    "### Part a\n",
    "\n",
    "Import the 'semi_synthetic.csv' dataset. This dataset is a modified version of the UCI Credit card dataset (details [here](https://archive.ics.uci.edu/ml/datasets/default+of+credit+card+clients)). We added a new synthetic feature to this dataset called `LIMIT_BAL`. It is highly predictive for `SEX==2` but not at all for `SEX==1`. As it turns out, this causes issues with fairness where models rely too much on `LIMIT_BAL` and discriminate against `SEX==2`. We will try to mitigate this in terms of the fairness criterion 'Statistical Parity' as it's mentioned in the textbook."
   ]
  },
  {
   "cell_type": "code",
   "execution_count": 1,
   "metadata": {
    "id": "HaqdFHPvyXIa"
   },
   "outputs": [
    {
     "data": {
      "text/html": [
       "<div>\n",
       "<style scoped>\n",
       "    .dataframe tbody tr th:only-of-type {\n",
       "        vertical-align: middle;\n",
       "    }\n",
       "\n",
       "    .dataframe tbody tr th {\n",
       "        vertical-align: top;\n",
       "    }\n",
       "\n",
       "    .dataframe thead th {\n",
       "        text-align: right;\n",
       "    }\n",
       "</style>\n",
       "<table border=\"1\" class=\"dataframe\">\n",
       "  <thead>\n",
       "    <tr style=\"text-align: right;\">\n",
       "      <th></th>\n",
       "      <th>LIMIT_BAL</th>\n",
       "      <th>SEX</th>\n",
       "      <th>EDUCATION</th>\n",
       "      <th>MARRIAGE</th>\n",
       "      <th>AGE</th>\n",
       "      <th>PAY_1</th>\n",
       "      <th>PAY_2</th>\n",
       "      <th>PAY_3</th>\n",
       "      <th>PAY_4</th>\n",
       "      <th>PAY_5</th>\n",
       "      <th>...</th>\n",
       "      <th>BILL_AMT4</th>\n",
       "      <th>BILL_AMT5</th>\n",
       "      <th>BILL_AMT6</th>\n",
       "      <th>PAY_AMT1</th>\n",
       "      <th>PAY_AMT2</th>\n",
       "      <th>PAY_AMT3</th>\n",
       "      <th>PAY_AMT4</th>\n",
       "      <th>PAY_AMT5</th>\n",
       "      <th>PAY_AMT6</th>\n",
       "      <th>default payment next month</th>\n",
       "    </tr>\n",
       "  </thead>\n",
       "  <tbody>\n",
       "    <tr>\n",
       "      <th>0</th>\n",
       "      <td>0.897646</td>\n",
       "      <td>2</td>\n",
       "      <td>2</td>\n",
       "      <td>1</td>\n",
       "      <td>24</td>\n",
       "      <td>2</td>\n",
       "      <td>2</td>\n",
       "      <td>-1</td>\n",
       "      <td>-1</td>\n",
       "      <td>-2</td>\n",
       "      <td>...</td>\n",
       "      <td>0</td>\n",
       "      <td>0</td>\n",
       "      <td>0</td>\n",
       "      <td>0</td>\n",
       "      <td>689</td>\n",
       "      <td>0</td>\n",
       "      <td>0</td>\n",
       "      <td>0</td>\n",
       "      <td>0</td>\n",
       "      <td>1</td>\n",
       "    </tr>\n",
       "    <tr>\n",
       "      <th>1</th>\n",
       "      <td>1.239472</td>\n",
       "      <td>2</td>\n",
       "      <td>2</td>\n",
       "      <td>2</td>\n",
       "      <td>26</td>\n",
       "      <td>-1</td>\n",
       "      <td>2</td>\n",
       "      <td>0</td>\n",
       "      <td>0</td>\n",
       "      <td>0</td>\n",
       "      <td>...</td>\n",
       "      <td>3272</td>\n",
       "      <td>3455</td>\n",
       "      <td>3261</td>\n",
       "      <td>0</td>\n",
       "      <td>1000</td>\n",
       "      <td>1000</td>\n",
       "      <td>1000</td>\n",
       "      <td>0</td>\n",
       "      <td>2000</td>\n",
       "      <td>1</td>\n",
       "    </tr>\n",
       "    <tr>\n",
       "      <th>2</th>\n",
       "      <td>-0.259719</td>\n",
       "      <td>2</td>\n",
       "      <td>2</td>\n",
       "      <td>2</td>\n",
       "      <td>34</td>\n",
       "      <td>0</td>\n",
       "      <td>0</td>\n",
       "      <td>0</td>\n",
       "      <td>0</td>\n",
       "      <td>0</td>\n",
       "      <td>...</td>\n",
       "      <td>14331</td>\n",
       "      <td>14948</td>\n",
       "      <td>15549</td>\n",
       "      <td>1518</td>\n",
       "      <td>1500</td>\n",
       "      <td>1000</td>\n",
       "      <td>1000</td>\n",
       "      <td>1000</td>\n",
       "      <td>5000</td>\n",
       "      <td>0</td>\n",
       "    </tr>\n",
       "    <tr>\n",
       "      <th>3</th>\n",
       "      <td>-0.277865</td>\n",
       "      <td>2</td>\n",
       "      <td>2</td>\n",
       "      <td>1</td>\n",
       "      <td>37</td>\n",
       "      <td>0</td>\n",
       "      <td>0</td>\n",
       "      <td>0</td>\n",
       "      <td>0</td>\n",
       "      <td>0</td>\n",
       "      <td>...</td>\n",
       "      <td>28314</td>\n",
       "      <td>28959</td>\n",
       "      <td>29547</td>\n",
       "      <td>2000</td>\n",
       "      <td>2019</td>\n",
       "      <td>1200</td>\n",
       "      <td>1100</td>\n",
       "      <td>1069</td>\n",
       "      <td>1000</td>\n",
       "      <td>0</td>\n",
       "    </tr>\n",
       "    <tr>\n",
       "      <th>4</th>\n",
       "      <td>-0.257674</td>\n",
       "      <td>1</td>\n",
       "      <td>2</td>\n",
       "      <td>1</td>\n",
       "      <td>57</td>\n",
       "      <td>-1</td>\n",
       "      <td>0</td>\n",
       "      <td>-1</td>\n",
       "      <td>0</td>\n",
       "      <td>0</td>\n",
       "      <td>...</td>\n",
       "      <td>20940</td>\n",
       "      <td>19146</td>\n",
       "      <td>19131</td>\n",
       "      <td>2000</td>\n",
       "      <td>36681</td>\n",
       "      <td>10000</td>\n",
       "      <td>9000</td>\n",
       "      <td>689</td>\n",
       "      <td>679</td>\n",
       "      <td>0</td>\n",
       "    </tr>\n",
       "    <tr>\n",
       "      <th>...</th>\n",
       "      <td>...</td>\n",
       "      <td>...</td>\n",
       "      <td>...</td>\n",
       "      <td>...</td>\n",
       "      <td>...</td>\n",
       "      <td>...</td>\n",
       "      <td>...</td>\n",
       "      <td>...</td>\n",
       "      <td>...</td>\n",
       "      <td>...</td>\n",
       "      <td>...</td>\n",
       "      <td>...</td>\n",
       "      <td>...</td>\n",
       "      <td>...</td>\n",
       "      <td>...</td>\n",
       "      <td>...</td>\n",
       "      <td>...</td>\n",
       "      <td>...</td>\n",
       "      <td>...</td>\n",
       "      <td>...</td>\n",
       "      <td>...</td>\n",
       "    </tr>\n",
       "    <tr>\n",
       "      <th>29995</th>\n",
       "      <td>0.714882</td>\n",
       "      <td>1</td>\n",
       "      <td>3</td>\n",
       "      <td>1</td>\n",
       "      <td>39</td>\n",
       "      <td>0</td>\n",
       "      <td>0</td>\n",
       "      <td>0</td>\n",
       "      <td>0</td>\n",
       "      <td>0</td>\n",
       "      <td>...</td>\n",
       "      <td>88004</td>\n",
       "      <td>31237</td>\n",
       "      <td>15980</td>\n",
       "      <td>8500</td>\n",
       "      <td>20000</td>\n",
       "      <td>5003</td>\n",
       "      <td>3047</td>\n",
       "      <td>5000</td>\n",
       "      <td>1000</td>\n",
       "      <td>0</td>\n",
       "    </tr>\n",
       "    <tr>\n",
       "      <th>29996</th>\n",
       "      <td>0.314780</td>\n",
       "      <td>1</td>\n",
       "      <td>3</td>\n",
       "      <td>2</td>\n",
       "      <td>43</td>\n",
       "      <td>-1</td>\n",
       "      <td>-1</td>\n",
       "      <td>-1</td>\n",
       "      <td>-1</td>\n",
       "      <td>0</td>\n",
       "      <td>...</td>\n",
       "      <td>8979</td>\n",
       "      <td>5190</td>\n",
       "      <td>0</td>\n",
       "      <td>1837</td>\n",
       "      <td>3526</td>\n",
       "      <td>8998</td>\n",
       "      <td>129</td>\n",
       "      <td>0</td>\n",
       "      <td>0</td>\n",
       "      <td>0</td>\n",
       "    </tr>\n",
       "    <tr>\n",
       "      <th>29997</th>\n",
       "      <td>-0.930758</td>\n",
       "      <td>1</td>\n",
       "      <td>2</td>\n",
       "      <td>2</td>\n",
       "      <td>37</td>\n",
       "      <td>4</td>\n",
       "      <td>3</td>\n",
       "      <td>2</td>\n",
       "      <td>-1</td>\n",
       "      <td>0</td>\n",
       "      <td>...</td>\n",
       "      <td>20878</td>\n",
       "      <td>20582</td>\n",
       "      <td>19357</td>\n",
       "      <td>0</td>\n",
       "      <td>0</td>\n",
       "      <td>22000</td>\n",
       "      <td>4200</td>\n",
       "      <td>2000</td>\n",
       "      <td>3100</td>\n",
       "      <td>1</td>\n",
       "    </tr>\n",
       "    <tr>\n",
       "      <th>29998</th>\n",
       "      <td>-0.087740</td>\n",
       "      <td>1</td>\n",
       "      <td>3</td>\n",
       "      <td>1</td>\n",
       "      <td>41</td>\n",
       "      <td>1</td>\n",
       "      <td>-1</td>\n",
       "      <td>0</td>\n",
       "      <td>0</td>\n",
       "      <td>0</td>\n",
       "      <td>...</td>\n",
       "      <td>52774</td>\n",
       "      <td>11855</td>\n",
       "      <td>48944</td>\n",
       "      <td>85900</td>\n",
       "      <td>3409</td>\n",
       "      <td>1178</td>\n",
       "      <td>1926</td>\n",
       "      <td>52964</td>\n",
       "      <td>1804</td>\n",
       "      <td>1</td>\n",
       "    </tr>\n",
       "    <tr>\n",
       "      <th>29999</th>\n",
       "      <td>0.126607</td>\n",
       "      <td>1</td>\n",
       "      <td>2</td>\n",
       "      <td>1</td>\n",
       "      <td>46</td>\n",
       "      <td>0</td>\n",
       "      <td>0</td>\n",
       "      <td>0</td>\n",
       "      <td>0</td>\n",
       "      <td>0</td>\n",
       "      <td>...</td>\n",
       "      <td>36535</td>\n",
       "      <td>32428</td>\n",
       "      <td>15313</td>\n",
       "      <td>2078</td>\n",
       "      <td>1800</td>\n",
       "      <td>1430</td>\n",
       "      <td>1000</td>\n",
       "      <td>1000</td>\n",
       "      <td>1000</td>\n",
       "      <td>1</td>\n",
       "    </tr>\n",
       "  </tbody>\n",
       "</table>\n",
       "<p>30000 rows × 24 columns</p>\n",
       "</div>"
      ],
      "text/plain": [
       "       LIMIT_BAL  SEX  EDUCATION  MARRIAGE  AGE  PAY_1  PAY_2  PAY_3  PAY_4  \\\n",
       "0       0.897646    2          2         1   24      2      2     -1     -1   \n",
       "1       1.239472    2          2         2   26     -1      2      0      0   \n",
       "2      -0.259719    2          2         2   34      0      0      0      0   \n",
       "3      -0.277865    2          2         1   37      0      0      0      0   \n",
       "4      -0.257674    1          2         1   57     -1      0     -1      0   \n",
       "...          ...  ...        ...       ...  ...    ...    ...    ...    ...   \n",
       "29995   0.714882    1          3         1   39      0      0      0      0   \n",
       "29996   0.314780    1          3         2   43     -1     -1     -1     -1   \n",
       "29997  -0.930758    1          2         2   37      4      3      2     -1   \n",
       "29998  -0.087740    1          3         1   41      1     -1      0      0   \n",
       "29999   0.126607    1          2         1   46      0      0      0      0   \n",
       "\n",
       "       PAY_5  ...  BILL_AMT4  BILL_AMT5  BILL_AMT6  PAY_AMT1  PAY_AMT2  \\\n",
       "0         -2  ...          0          0          0         0       689   \n",
       "1          0  ...       3272       3455       3261         0      1000   \n",
       "2          0  ...      14331      14948      15549      1518      1500   \n",
       "3          0  ...      28314      28959      29547      2000      2019   \n",
       "4          0  ...      20940      19146      19131      2000     36681   \n",
       "...      ...  ...        ...        ...        ...       ...       ...   \n",
       "29995      0  ...      88004      31237      15980      8500     20000   \n",
       "29996      0  ...       8979       5190          0      1837      3526   \n",
       "29997      0  ...      20878      20582      19357         0         0   \n",
       "29998      0  ...      52774      11855      48944     85900      3409   \n",
       "29999      0  ...      36535      32428      15313      2078      1800   \n",
       "\n",
       "       PAY_AMT3  PAY_AMT4  PAY_AMT5  PAY_AMT6  default payment next month  \n",
       "0             0         0         0         0                           1  \n",
       "1          1000      1000         0      2000                           1  \n",
       "2          1000      1000      1000      5000                           0  \n",
       "3          1200      1100      1069      1000                           0  \n",
       "4         10000      9000       689       679                           0  \n",
       "...         ...       ...       ...       ...                         ...  \n",
       "29995      5003      3047      5000      1000                           0  \n",
       "29996      8998       129         0         0                           0  \n",
       "29997     22000      4200      2000      3100                           1  \n",
       "29998      1178      1926     52964      1804                           1  \n",
       "29999      1430      1000      1000      1000                           1  \n",
       "\n",
       "[30000 rows x 24 columns]"
      ]
     },
     "execution_count": 1,
     "metadata": {},
     "output_type": "execute_result"
    }
   ],
   "source": [
    "# load in a new data set for the next problem\n",
    "import pandas as pd\n",
    "\n",
    "credit = pd.read_csv(\"semi_synthetic.csv\")\n",
    "credit   # labels come in values either 1 or 0 for either defaulting or not"
   ]
  },
  {
   "cell_type": "markdown",
   "metadata": {
    "id": "QJhtmsUHyXIa"
   },
   "source": [
    "Extract features from the dataset (all columns except last) and call it `X`. Extract last column and call it `Y`. Also extract the `SEX` column and call this `SF` (for sensitive feature). Split all of these arrays data into train and test sets. You can use `sklearn.model_selection.train_test_split` and 20% ratio for the test dataset. Pass `stratify=Y` to `train_test_split` if you're using it. This ensures that both test and train datasets have the same ratio of 0/1 labels."
   ]
  },
  {
   "cell_type": "code",
   "execution_count": 2,
   "metadata": {
    "id": "4RWhQl8zyXIa"
   },
   "outputs": [],
   "source": [
    "from sklearn.model_selection import train_test_split \n",
    "import numpy as np\n",
    "import random\n",
    "random.seed(2020)\n",
    "np.random.seed(2020)\n",
    "\n",
    "X = credit.iloc[:, 0:23]\n",
    "y = credit.iloc[:,-1]\n",
    "SF = credit.loc[:,\"SEX\"]\n",
    "\n",
    "xTrain, xTest, yTrain, yTest, sfTrain, sfTest = train_test_split(X, y, SF, test_size = 0.2, random_state = 0, stratify = y)\n",
    "#done, check"
   ]
  },
  {
   "cell_type": "markdown",
   "metadata": {
    "id": "6_kwHg4SyXIa"
   },
   "source": [
    "Use a random forest classifier (whichever hyperparameters you want, you may leave it default) and train it using the train dataset (only `X_train` and `Y_train`. We will not use `SF_train` yet.)"
   ]
  },
  {
   "cell_type": "code",
   "execution_count": 3,
   "metadata": {
    "id": "YESO3KAfyXIa"
   },
   "outputs": [
    {
     "data": {
      "text/plain": [
       "RandomForestClassifier(criterion='entropy', max_depth=16, min_samples_leaf=4,\n",
       "                       n_estimators=32)"
      ]
     },
     "execution_count": 3,
     "metadata": {},
     "output_type": "execute_result"
    }
   ],
   "source": [
    "# I am assuming we are not supposed to do cross validation here. \n",
    "\n",
    "from sklearn.ensemble import RandomForestClassifier\n",
    "\n",
    "randomForest = RandomForestClassifier(n_estimators = 32, criterion = \"entropy\", max_depth = 16, min_samples_leaf = 4)\n",
    "randomForest.fit(xTrain, yTrain)\n",
    "            # for reference, in this library \".fit\" will train the model. \n",
    "#this question does not call for working out the accuracy of model with test data yet"
   ]
  },
  {
   "cell_type": "markdown",
   "metadata": {
    "id": "_U4MeVC3yXIa"
   },
   "source": [
    "### Part b\n",
    "\n",
    "Now we will consider the 'statistical parity' fairness metric on the test dataset. This basically means we compare the selection rates (i.e. predicted labels being 1) conditioned on sex and look at their difference/ratio. To do this, print 5 things: \n",
    "\n",
    "1. Overall selection rate (what percent is predicted as 1)\n",
    "2. Selection rate for `SEX==1`\n",
    "3. Selection rate for `SEX==2`\n",
    "4. Difference between 2. and 3.\n",
    "5. Ratio of 2. and 3.\n",
    "\n",
    "Note that we didn't use anything related to how accurate the model is."
   ]
  },
  {
   "cell_type": "code",
   "execution_count": 4,
   "metadata": {
    "id": "4qQcj-_PyXIa"
   },
   "outputs": [
    {
     "name": "stdout",
     "output_type": "stream",
     "text": [
      "Overall selection rate for label ==1 is: 0.21898349075594964\n",
      "Overall selection rate for label ==1 is: 14.85%\n",
      "Selection rate for SEX == 1: 0.11822660098522167%\n",
      "Selection rate for SEX == 2: 0.1691919191919192%\n",
      "Difference between selection rates: 0.05096531820669753%\n",
      "Ratio for sex==1 to sex==2: 0.6987721491066833%\n"
     ]
    }
   ],
   "source": [
    "# begin this by going over the selection rate of the test dataset:\n",
    "selectionRate = randomForest.predict(xTest)\n",
    "selectionArray = randomForest.predict_proba(xTest)\n",
    "labelMetrics = xTest.copy()\n",
    "\n",
    "# this appends the column yPred to xTest\n",
    "labelMetrics['yPred'] = selectionRate\n",
    "\n",
    "# gives a probability\n",
    "ySelection = labelMetrics[selectionRate ==1]\n",
    "\n",
    "print(\"Overall selection rate for label ==1 is: \" + str(sum(selectionArray/6000)[1])) # this may end up being wrong \n",
    "print(\"Overall selection rate for label ==1 is: \" + str(len(ySelection) / len(selectionRate) *100)+ \"%\")\n",
    "\n",
    "# probabilities for selection of sex==1 and sex ==2\n",
    "print(\"Selection rate for SEX == 1: \" + str(selectionRate[sfTest == 1].mean())+ \"%\")\n",
    "print(\"Selection rate for SEX == 2: \" + str(selectionRate[sfTest == 2].mean())+ \"%\")\n",
    "\n",
    "# the difference between those two probaabilities\n",
    "print(\"Difference between selection rates: \" + str(selectionRate[sfTest == 2].mean() - selectionRate[sfTest == 1].mean())+ \"%\")\n",
    "\n",
    "# the ratio between those two probaabilities\n",
    "print(\"Ratio for sex==1 to sex==2: \" + str(selectionRate[sfTest == 1].mean() / selectionRate[sfTest == 2].mean())+ \"%\")"
   ]
  },
  {
   "cell_type": "markdown",
   "metadata": {
    "id": "R1Yn6sXXyXIa"
   },
   "source": [
    "There is a new Python package called `fairlearn` that aims to help machine learning researchers use fairness techniques more easily. Go ahead and download this package (`pip install fairlearn` or `conda install fairlearn`). Note: the authors of `fairlearn` call 'statistical parity' from the textbook as 'demographic parity'.\n",
    "\n",
    "We will use `selection_rate`, `demographic_parity_difference`, `demographic_parity_ratio` from `fairlearn.metrics` to calculate 1., 4. and 5. above. The way to use these functions is: first argument `Y_test`, second argument `Y_prediction`, and for `demographic_parity_difference` and `demographic_parity_ratio` you need to give a keyword argument for the 'sensitive feature' by `sensitive_features=SF_test`.\n",
    "\n",
    "Use these three functions and confirm your earlier calculations for 1., 4. and 5."
   ]
  },
  {
   "cell_type": "code",
   "execution_count": 5,
   "metadata": {
    "id": "I27r9Mx1yXIa"
   },
   "outputs": [],
   "source": [
    "# import the necessary modules from fairlearn\n",
    "from fairlearn.metrics import selection_rate, demographic_parity_difference, demographic_parity_ratio"
   ]
  },
  {
   "cell_type": "code",
   "execution_count": 6,
   "metadata": {},
   "outputs": [
    {
     "name": "stdout",
     "output_type": "stream",
     "text": [
      "these values are derived from the fairlearn library functions:\n",
      "Overall selection rate for lable == 1 is: 0.1485%\n",
      "Difference between selection rates: 0.05096531820669753%\n",
      "Ratio for sex==1 to sex==2: 0.6987721491066833%\n"
     ]
    }
   ],
   "source": [
    "print(\"these values are derived from the fairlearn library functions:\")\n",
    "\n",
    "print(\"Overall selection rate for lable == 1 is: \" +str(selection_rate(yTest, selectionRate))+\"%\")\n",
    "\n",
    "print(\"Difference between selection rates: \" + str(demographic_parity_difference(yTest, selectionRate, sensitive_features=sfTest))+\"%\")\n",
    "        \n",
    "print(\"Ratio for sex==1 to sex==2: \" + str(demographic_parity_ratio(yTest, selectionRate, sensitive_features=sfTest))+\"%\")"
   ]
  },
  {
   "cell_type": "markdown",
   "metadata": {
    "id": "XViy0I5EyXIa"
   },
   "source": [
    "### Part c\n",
    "### Mitigating Unfairness with Giving Weights to Datapoints\n",
    "\n",
    "Now we are going to use the `GridSearch` function from `fairlearn.reductions` to try to mitigate this statistical parity discrepancy. This is one of the many ways to achieve this. What this function does is it gives higher weights to certain datapoints (determined by the sensitive feature) in order to change what the model learns. It automatically uses grid search to determine which weight should be given to `SEX==1` datapoints vs `SEX==2` datapoints (if you're interested you can read the source code). While it is called grid search, the space it searches is 1-dimensional. For our purposes, `GridSearch` takes four arguments: \n",
    "\n",
    "1. The model you defined above. This is a non-keyword argument.\n",
    "2. Constraint. This needs to be an object defined by `fairlearn`, the class we will be using is `fairlearn.reductions.DemographicParity`. It corresponds to minimizing the difference in selection rates (4. from above). This is a non-keyword argument.\n",
    "3. (Keyword argument) `grid_limit`. This determines the boundaries of the grid search. Basically, the `GridSearch` function will search the interval \\[-`grid_limit`,`grid_limit`\\] to find the weights. Choose this to be 0.8.\n",
    "3. (Keyword argument) `grid_size`. This determines how many points there will be in the grid search. Choose this to be 21.\n",
    "\n",
    "Just like `sklearn.model_selection.GridSearchCV` we have seen in HW1, `fairlearn.reductions.GridSearch` is also a wrapper, so you need to call `.fit()` on this wrapper (not the model directly). Training should be done in less than 5 minutes. In the end this wrapper will contain `grid_size` many models, each corresponding to a different weight for datapoints."
   ]
  },
  {
   "cell_type": "code",
   "execution_count": 90,
   "metadata": {
    "id": "67Y6ezsJyXIa"
   },
   "outputs": [],
   "source": [
    "from fairlearn.reductions import GridSearch \n",
    "from fairlearn.reductions import DemographicParity\n",
    "\n",
    "# create object wrapper\n",
    "flGridsearch = GridSearch(estimator = randomForest, \n",
    "                          constraints= DemographicParity(), \n",
    "                          grid_limit = .4,                \n",
    "                          grid_size = 21)                   # was changed to .4 despite the instruction because this was mentioned on gauchospace\n",
    "\n",
    "# training the model, output will contain 21 models (grid_size)\n",
    "flGridsearch.fit(xTrain, yTrain,\n",
    "                 sensitive_features = sfTrain)"
   ]
  },
  {
   "cell_type": "code",
   "execution_count": 91,
   "metadata": {},
   "outputs": [
    {
     "name": "stdout",
     "output_type": "stream",
     "text": [
      "GridSearch(constraints=<fairlearn.reductions._moments.utility_parity.DemographicParity object at 0x7fa5092070b8>,\n",
      "           estimator=RandomForestClassifier(criterion='entropy', max_depth=16,\n",
      "                                            min_samples_leaf=4,\n",
      "                                            n_estimators=32),\n",
      "           grid_limit=0.4, grid_size=21)\n"
     ]
    }
   ],
   "source": [
    "print(flGridsearch)"
   ]
  },
  {
   "cell_type": "markdown",
   "metadata": {
    "id": "15EO5RaTyXIa"
   },
   "source": [
    "The `GridSearch` wrapper object you trained has a field called `predictors_`. This gives a list of all the models trained in this grid search, which will be of size `grid_size`."
   ]
  },
  {
   "cell_type": "code",
   "execution_count": 92,
   "metadata": {
    "id": "B7HdpQm_yXIa"
   },
   "outputs": [],
   "source": [
    "#Assign predictions_sweep the to arrays of predictions labels and the arrays of probabilities: \n",
    "predictions_sweep = [predictor.predict(xTest) for predictor in flGridsearch.predictors_] \n",
    "accuracy_sweep = [predictor.score(xTest, yTest) for predictor in flGridsearch.predictors_] "
   ]
  },
  {
   "cell_type": "markdown",
   "metadata": {
    "id": "tXGkicwxyXIa"
   },
   "source": [
    "Notice that `predictions_sweep` is a 21 element list. Each of these elements is a numpy array that contains the predictions (`Y_pred`) for `X_test` for that particular model. Use `demographic_parity_difference` like you did above to find the difference in selection rates for each of these models and store these 'fairness metrics' in a numpy array (it too will be size 21)."
   ]
  },
  {
   "cell_type": "code",
   "execution_count": 93,
   "metadata": {
    "id": "SZ-bxFwmyXIa"
   },
   "outputs": [
    {
     "name": "stdout",
     "output_type": "stream",
     "text": [
      "total num arrays = 21\n",
      "---\n",
      "[0.8451666666666666, 0.852, 0.8525, 0.8558333333333333, 0.8596666666666667, 0.8585, 0.8588333333333333, 0.8595, 0.86, 0.8598333333333333, 0.857, 0.858, 0.8571666666666666, 0.8578333333333333, 0.8565, 0.8578333333333333, 0.8573333333333333, 0.8551666666666666, 0.8553333333333333, 0.8561666666666666, 0.8536666666666667]\n",
      "---\n",
      "[0.10679316426442864, 0.07341200732005329, 0.06643888253083655, 0.03675783560841031, 0.026193793435172752, 0.010402326494280523, 0.016036113737263186, 0.019361651545559605, 0.030575320805205863, 0.03971018338834431, 0.050191294444168005, 0.05524179949467306, 0.07249838284321043, 0.07578245509279992, 0.09003554980566475, 0.09409917455894468, 0.09921740668867106, 0.1229536746778126, 0.12738081416242336, 0.12869527237343328, 0.13860968746026217]\n",
      "---\n",
      "[0.8451666666666666, 0.852, 0.8525, 0.8558333333333333, 0.8596666666666667, 0.8585, 0.8588333333333333, 0.8595, 0.86, 0.8598333333333333, 0.857, 0.858, 0.8571666666666666, 0.8578333333333333, 0.8565, 0.8578333333333333, 0.8573333333333333, 0.8551666666666666, 0.8553333333333333, 0.8561666666666666, 0.8536666666666667]\n",
      "---\n",
      "6000\n",
      "---\n",
      "Avg scored accuracy = 0.8563730158730158%\n",
      "Avg difference in selection rate = 0.07049460908245801%\n"
     ]
    }
   ],
   "source": [
    "from sklearn.metrics import accuracy_score\n",
    "\n",
    "#initialize lists for metrics\n",
    "scoredAccuracy = []\n",
    "fairnessMetrics =[]\n",
    "\n",
    "for y_pred in predictions_sweep:\n",
    "    scoredAccuracy.append(accuracy_score(yTest, y_pred))\n",
    "\n",
    "for y_pred in predictions_sweep:\n",
    "    fairnessMetrics.append(demographic_parity_difference(yTest, y_pred, sensitive_features=sfTest))\n",
    "\n",
    "print(\"total num arrays = \"+ str(len(predictions_sweep)))\n",
    "print(\"---\")\n",
    "print(scoredAccuracy)\n",
    "print(\"---\")\n",
    "print(fairnessMetrics)\n",
    "print(\"---\")\n",
    "print(accuracy_sweep)\n",
    "print(\"---\")\n",
    "print(len(predictions_sweep[0]))  # this is the size of the predictions array\n",
    "print(\"---\")\n",
    "print(\"Avg scored accuracy = \"+ str(sum(scoredAccuracy)/21)+\"%\")\n",
    "print(\"Avg difference in selection rate = \" + str(sum(fairnessMetrics)/21)+\"%\")"
   ]
  },
  {
   "cell_type": "markdown",
   "metadata": {
    "id": "ydkOWKGJyXIa"
   },
   "source": [
    "Plot the accuracy vs difference in selection rates for all these models in a scatter plot."
   ]
  },
  {
   "cell_type": "code",
   "execution_count": 94,
   "metadata": {
    "id": "zzW_0fq2yXIa"
   },
   "outputs": [
    {
     "data": {
      "image/png": "[encoded data removed]",
      "text/plain": [
       "<Figure size 432x288 with 1 Axes>"
      ]
     },
     "metadata": {
      "needs_background": "light"
     },
     "output_type": "display_data"
    },
    {
     "name": "stdout",
     "output_type": "stream",
     "text": [
      "As the accuracy of the model improves, the difference decreases. There are  many duplicated values for both accuracy and difference.\n"
     ]
    }
   ],
   "source": [
    "import matplotlib.pyplot as plt\n",
    "plt.figure()\n",
    "plt.title(\"Accuracy vs. Difference For Predicted Values for the Credit Card Model\")\n",
    "plt.scatter(scoredAccuracy, fairnessMetrics)\n",
    "plt.xlabel(\"Accuracy\")\n",
    "plt.ylabel(\"difference\")\n",
    "plt.show()\n",
    "print(\"As the accuracy of the model improves, the difference decreases. There are  many duplicated values for both accuracy and difference.\")"
   ]
  },
  {
   "cell_type": "markdown",
   "metadata": {
    "id": "uLrO9mVFyXIa"
   },
   "source": [
    "### Part d \n",
    "\n",
    "Now calculate the *pareto front*: go over each (accuracy, difference in selection rates) pair and compare it to every other pair. If you find the first pair to have lower accuracy and higher difference in selection rate, discard it."
   ]
  },
  {
   "cell_type": "code",
   "execution_count": 95,
   "metadata": {
    "id": "4ElVQmrHyXIa"
   },
   "outputs": [],
   "source": [
    "# begin by merging the accuracy and the difference lists into one 2d list:\n",
    "twodlst = []\n",
    "\n",
    "for i,j in zip(scoredAccuracy, fairnessMetrics):\n",
    "    #print(i,j), this gives each as a pair, accuracy and difference\n",
    "    twodlst.append((i,j)) \n",
    "twodlst\n",
    "scores = np.array(twodlst)"
   ]
  },
  {
   "cell_type": "code",
   "execution_count": 117,
   "metadata": {},
   "outputs": [
    {
     "data": {
      "text/plain": [
       "array([ 8,  9, 11, 15, 16, 19, 20])"
      ]
     },
     "execution_count": 117,
     "metadata": {},
     "output_type": "execute_result"
    }
   ],
   "source": [
    "def identify_pareto(scores):\n",
    "    #Count items\n",
    "    population = np.array(scores)\n",
    "    population = scores.shape[0]\n",
    "    #Create index for scores \n",
    "    population_ids = np.arange(population)\n",
    "    #items start off as being labelled as on the Parteo front\n",
    "    pareto_front = np.ones(population, dtype=bool)\n",
    "    #loop through each item\n",
    "    for i in range(population):\n",
    "        for j in range(population):\n",
    "            #Use inequalities to copmare points i & j\n",
    "            if all(scores[j] >= scores[i]) and any(scores[j] > scores[i]):\n",
    "                pareto_front[i] = 0\n",
    "                #signal to stop comparing with inequaliities\n",
    "                break\n",
    "    #plt.scatter(scores[i], scores[j])\n",
    "    return population_ids[pareto_front]\n",
    "\n",
    "frontier = identify_pareto(scores)\n",
    "type(frontier)\n",
    "len(frontier)\n",
    "frontier"
   ]
  },
  {
   "cell_type": "code",
   "execution_count": 113,
   "metadata": {},
   "outputs": [],
   "source": [
    "# initialize lists for plotting:\n",
    "ParetoAccuracy =[]\n",
    "ParetoMetrics = []\n",
    "\n",
    "for i in frontier:\n",
    "    ParetoAccuracy.append(scores[i][0])\n",
    "    ParetoMetrics.append(scores[i][1])"
   ]
  },
  {
   "cell_type": "markdown",
   "metadata": {
    "id": "23SaZvzSyXIa"
   },
   "source": [
    "* Plot the accuracy vs difference in selection rates for all the models the grid search in a scatter plot.\n",
    "* On the same plot, plot the accuracy vs difference in selection rates for the points on the pareto front. Make these points red."
   ]
  },
  {
   "cell_type": "code",
   "execution_count": 116,
   "metadata": {
    "id": "IGAsufEOyXIa"
   },
   "outputs": [
    {
     "data": {
      "image/png": "[encoded data removed]",
      "text/plain": [
       "<Figure size 432x288 with 1 Axes>"
      ]
     },
     "metadata": {
      "needs_background": "light"
     },
     "output_type": "display_data"
    },
    {
     "name": "stdout",
     "output_type": "stream",
     "text": [
      "As the accuracy of the model improves, the difference decreases. There are  many duplicated values for both accuracy and difference.\n"
     ]
    }
   ],
   "source": [
    "plt.figure()\n",
    "plt.title(\"Accuracy vs. Difference For Predicted Values for the Credit Card Model\")\n",
    "plt.scatter(scoredAccuracy, fairnessMetrics)\n",
    "#plt.scatter(ParetoAccuracy, ParetoMetrics)\n",
    "plt.plot(ParetoAccuracy, ParetoMetrics, 'o-', color='red')\n",
    "plt.xlabel(\"Accuracy\")\n",
    "plt.ylabel(\"difference\")\n",
    "plt.show()\n",
    "print(\"As the accuracy of the model improves, the difference decreases. There are  many duplicated values for both accuracy and difference.\")"
   ]
  },
  {
   "cell_type": "markdown",
   "metadata": {
    "id": "hKA_zKOByXIa"
   },
   "source": [
    "Which one of these models would you choose to use? Why?"
   ]
  },
  {
   "cell_type": "markdown",
   "metadata": {},
   "source": [
    "Of the models along the Pareto Front, I would choose the model with the highest accuracy and lowest difference, meaning it is a fair model. There is a single point that combines the best of these two criteria on the bottom right. The solution this point represent has the highest accuracy and lowest difference metric. A lower difference in selection rate means that the model behaves more consistently over time in its predicitons. \n",
    "\n",
    "~~~~~~~~~~~~~~~~~~~~~~~~~~~~~~~~~~~~~~~~~~~~~~~~~~~~~~~~~~~~~~~~~~~~~~~~~~~~~~"
   ]
  },
  {
   "cell_type": "markdown",
   "metadata": {
    "id": "K-qHCrNsyXIa"
   },
   "source": [
    "## Problem 3\n",
    "\n",
    "This problem builds on ideas from paper 2a in Module 1: “Against prediction: Sentencing, Policing, And Punishing In An Actuarial Age,” Chicago Public Law And Legal Theory Working Paper No. 94, Harcourt, 2005. \n",
    "\n",
    "Suppose we have two groups $A$ and $B$ of population sizes $n$ and $9n$. We find that under equal surveillance, group $A$’s offending rate is $2$ offenses per month per person and that of group $B$ is $1$ offense per person per month (See Figure on page 17 of the above paper). Equal surveillance means that out of a total of $10m$ monitors, $m$ monitors are assigned to group $A$ and $9m$ monitors are assigned to group $B$. The surveillance is $\\frac{m}{n}$ per capita for both groups. So, under equal surveillance, the combined offending rate over both groups is $11n$ per month. \n",
    "\n",
    "Suppose we want to bring down the overall offending rate by increasing the monitors for group $A$. In order to do that we collected some data and found that we could model the rate of decrease in offenses for group $A$ by a function as follows:\n",
    "\tIf we increase the per capita surveillance from $\\frac{m}{n}$ to $\\frac{m}{n} (1 + \\delta_A)$, the offending rate declines to $2e^{- \\alpha \\delta_A}$. ($\\alpha>0$)\n",
    "\n",
    "Similarly, we modeled the rate of increase in offenses for group $B$ by a function under reduced surveillance as follows:\n",
    "\tIf we decrease the per capita monitoring rate from $\\frac{m}{n}$ to $\\frac{m}{n} (1 - \\delta_B)$, the offending rate rises to $e^{ \\beta \\delta_B}$. ($\\beta>0$)\n",
    "\n",
    "How would you distribute the monitors so that \n",
    "\n",
    "**a)** Both groups had the same offending rate?\n",
    "\n",
    "**b)** The combined offending rate was minimized?\n",
    "\n",
    "\n",
    "Consider 3 different scenarios when $\\alpha > \\beta$, $\\alpha = \\beta$, and $\\alpha < \\beta$. \n",
    "\n",
    "**c)** For each of the scenarios, which of the above solutions would you prefer and why?\n",
    "\n",
    "**TIPS**:\n",
    "- For **part a** and **part b**, answer by calculating $\\delta_A$ and $\\delta_B$.\n",
    "- Try to set up equations from the given information. This problem mostly consists of algebra.\n",
    "- If you do it correctly, **part c** should makes sense immediately.\n"
   ]
  },
  {
   "cell_type": "markdown",
   "metadata": {},
   "source": [
    "Part A:\n",
    "\n",
    "Distributing monitors so that groups get the same offending rate:\n",
    "\n",
    "\n",
    "Begin by multiplying the new moitoring rates per capita for both a and b by the size of their populations:\n",
    "\n",
    "A:\n",
    "    $\\frac{m}{n} (1 + \\delta_A)$ $*$ $1$ = $\\frac{m}{n} (1 + \\delta_A)$\n",
    "\n",
    "B:\n",
    "    $\\frac{m}{n} (1 - \\delta_B)$ $*$ $9$ = $\\frac{m}{n} (9 - 9\\delta_B)$\n",
    "    \n",
    "    \n",
    "Set the sum of these two terms equal to 10m, the amount of surveillance resources.\n",
    "\n",
    "$[\\frac{m}{n} (1 + \\delta_A) *n]$ $+$ $[\\frac{m}{n} (9 - 9\\delta_B)*9n]$ = $10m$\n",
    "\n",
    "Begin by simplyfying this set of equations so that like terms are cancelled out, this involves cancelling out m by dividing by m on both sides of the equation and by recognizing that $1/n$ *$n$ = 1.\n",
    "\n",
    "$(1 + \\delta_A)$ $+$ $(9 - 9\\delta_B)$ = $10$\n",
    "\n",
    "This can be re-arranged where $(1 + \\delta_A)$ is left alone:\n",
    "\n",
    "$(1 + \\delta_A)$  $=$  $10 - 9$ $+ 9\\delta_B$\n",
    "\n",
    "perform subtraction:\n",
    "\n",
    "$1 + \\delta_A$ $=$   $1$ $+ 9\\delta_B$\n",
    "\n",
    "cancel out the one: (performing subtraction again):\n",
    "\n",
    "$\\delta_A$ $=$ $9\\delta_B$\n",
    "\n",
    "\n",
    "######################################################################\n",
    "\n",
    "$\\delta_A$ is now in terms of $\\delta_B$, which is helpful, but $9\\delta_B$ will need to be put into $2e^{- \\alpha \\delta_A}$ to solve the systems of equaitons. This will be performed below.\n",
    "\n",
    "$2e^{- \\alpha \\delta_A}$ $=$ $e^{ \\beta \\delta_B}$\n",
    "\n",
    "When this is solved, it will yield the value $\\delta_B$\n",
    "\n",
    "\n",
    "$2e^{- \\alpha 9\\delta_B}$ $=$ $e^{ \\beta \\delta_B}$\n",
    "\n",
    "\n",
    "Take the natural log of both sides:\n",
    "\n",
    "$ln(2) -  \\alpha 9\\delta_B$  $=$ $\\beta \\delta_B$\n",
    "\n",
    "\n",
    "add $\\alpha 9\\delta_B$ to both sides to get $ln(2)$ alone:\n",
    "\n",
    "\n",
    "$ln(2)$ $=$  $ \\alpha9\\delta_B$  $+$  $\\beta \\delta_B$\n",
    "\n",
    "divide both sides by $ 9\\alpha \\beta$ will yield:\n",
    "\n",
    "$\\frac{ln(2)}{\\beta + 9\\alpha}$ $=$ $\\delta_B$\n",
    "\n",
    "To answer part A, I would assign $\\frac{m}{n} (1 + 9( \\frac{ln(2)}{\\beta +9\\alpha}))$ extra cameras per capita for population A, and I would remove $\\frac{m}{n} (1 - \\frac{ln(2)}{\\beta +9\\alpha})$ cameras from surveilling population B."
   ]
  },
  {
   "cell_type": "markdown",
   "metadata": {},
   "source": [
    "Part B:\n",
    "\n",
    "Minimizing the total offending rate to something less than 11n. \n",
    "The rate each population commits more or less crime dependent on the equations:\n",
    "\n",
    "$2e^{- \\alpha \\delta_A}$  $&$ $e^{ \\beta \\delta_B}$\n",
    "\n",
    "The derivative in respect to $\\delta_B$ can be taken from the sum of these two equations set equal to zero. \n",
    "\n",
    "$\\delta_B$ $= 0 =$ $\\frac{\\mathrm{d} \\beta}{\\mathrm{d}t} $$(2e^{- \\alpha \\delta_A}$  $+$ $e^{ \\beta \\delta_B})$\n",
    "\n",
    "\n",
    "first the RHS of the equation will be simplified so that the derivative can be performed more easily: The goal is to solve for $\\delta_B$ so this value will already be substituted in for $\\delta_A$.    \n",
    "\n",
    "$0 =$ $2e^{- \\alpha 9\\delta_B}$  $+$ $e^{ \\beta \\delta_B}$ $=$ $\\frac{\\mathrm{d} \\beta}{\\mathrm{d}t}$ $(2e^{- \\alpha 9\\delta_B})$ $+$ $\\frac{\\mathrm{d} \\beta}{\\mathrm{d}t}$ $(e^{ \\beta \\delta_B})$\n",
    "\n",
    "\n",
    "for $\\frac{\\mathrm{d} \\beta}{\\mathrm{d}t}$ $(2e^{- \\alpha 9\\delta_B}):$ the constant is removed first, the constant in the powers will be moved for simplicity.\n",
    "\n",
    "\n",
    "$2\\frac{\\mathrm{d} \\beta}{\\mathrm{d}t}$ $(e^{- 9\\alpha \\delta_B})$\n",
    "\n",
    "Next, the chain rule wil be used on the equation,\n",
    "\n",
    "$ = $ $e^{- 9\\alpha \\delta_B}$ $\\frac{\\mathrm{d} \\beta}{\\mathrm{d}t}$ $(- 9\\alpha \\delta_B)$\n",
    "\n",
    "\n",
    "$ = $ $2e^{-9\\alpha \\delta_B}$ $(- 9\\alpha \\delta_B)$\n",
    "\n",
    "Multiply these non exponential values and is left with the derivative:\n",
    "\n",
    "$ = $ $18\\alpha e^{-9 \\alpha \\delta_B}$\n",
    "\n",
    "\n",
    "Now the derivitive for $e^{ \\beta \\delta_B}$ is taken in regards to $\\delta_B$:\n",
    "\n",
    "$\\frac{\\mathrm{d} \\beta}{\\mathrm{d}t}$ $(e^{ \\beta \\delta_B})$\n",
    "\n",
    "Applying the chain rule gives:\n",
    "\n",
    "$ = $ $e^{\\beta\\delta_B}$ $\\frac{\\mathrm{d} \\beta}{\\mathrm{d}t}$ $(\\beta\\delta_B)$\n",
    "\n",
    "since $\\frac{\\mathrm{d} \\beta}{\\mathrm{d}t}$ $(\\beta\\delta_B)$ $= \\beta$\n",
    "\n",
    "derivative will be:\n",
    "\n",
    "$ = $ $e^{\\beta\\delta_B}$ $\\beta$\n",
    "\n",
    "Now, the critical point can be found: \n",
    "\n",
    "$\\frac{\\mathrm{d} \\beta}{\\mathrm{d}t}$ $(\\beta\\delta_B)$ $= 0 =$ $18\\alpha e^{-9 \\alpha \\delta_B}$ $+$ $e^{\\beta\\delta_B}$ $\\beta$\n",
    "\n",
    "setting up to find the critical point:\n",
    "\n",
    "$0 =$ $18\\alpha e^{-9 \\alpha \\delta_B}$ $+$ $e^{\\beta\\delta_B}$ $\\beta$\n",
    "\n",
    "$18\\alpha e^{-9 \\alpha \\delta_B}$ $=$ $-e\\beta^{\\beta\\delta_B}$ \n",
    "\n",
    "Simplify this:\n",
    "\n",
    "$ln(18\\alpha) -9\\alpha \\delta_B$ = $ln(\\beta)+\\beta(\\delta_B)$\n",
    "\n",
    "subtract $ln(\\beta)$ from both sides\n",
    "\n",
    "$ln(18\\alpha)-ln(\\beta) -9\\alpha \\delta_B$ = $\\beta(\\delta_B)$\n",
    "\n",
    "add $\\alpha 9\\delta_B$ to both sides to the the natural log terms alone:\n",
    "\n",
    "\n",
    "$ln(18\\alpha)-ln(\\beta) =$ $9\\alpha \\delta_B$ $+$ $\\beta(\\delta_B)$\n",
    "\n",
    "divide both sides by $ 9\\alpha \\beta$ will yield:\n",
    "\n",
    "$\\frac{ln(18\\alpha)-ln(\\beta)}{\\beta + 9\\alpha}$ $=$ $\\delta_B$\n",
    "\n",
    "So;\n",
    "\n",
    "\n",
    "To answer part B, I would assign $\\frac{m}{n} (1 + 9(\\frac{ln(18\\alpha)-ln(\\beta)}{\\beta + 9\\alpha}))$ extra cameras per capita for population A, and I would remove $\\frac{m}{n} (1 - \\frac{ln(18\\alpha)-ln(\\beta)}{\\beta + 9\\alpha})$ cameras from surveilling population B. "
   ]
  },
  {
   "cell_type": "markdown",
   "metadata": {},
   "source": [
    "Part C:\n",
    "\n",
    "It is immediatly clear that part B yields a better solution by allowing the descision makers to remove more surveillance from population B and allocate more surveillance to population A. Overall, this reduces the total crime rate by even more than distribution the cameras so that each groups had equal offending rates. Since group A has a higher offending rate, it is more useful to dedicate more surveillance to this population than the group B which commits less crimes in order to find the smallest total offence rate. Group A will have more surveillance than group B per capita, but not in total. \n",
    "\n"
   ]
  },
  {
   "cell_type": "code",
   "execution_count": 101,
   "metadata": {},
   "outputs": [
    {
     "name": "stdout",
     "output_type": "stream",
     "text": [
      "end of HW3\n",
      "Jack Holbrook, CMPSC190DD, Proffessor Singh\n"
     ]
    }
   ],
   "source": [
    "print(\"end of HW3\")\n",
    "print(\"Jack Holbrook, CMPSC190DD, Proffessor Singh\")"
   ]
  }
 ],
 "metadata": {
  "colab": {
   "name": "HW3.ipynb",
   "provenance": []
  },
  "kernelspec": {
   "display_name": "Python 3",
   "language": "python",
   "name": "python3"
  },
  "language_info": {
   "codemirror_mode": {
    "name": "ipython",
    "version": 3
   },
   "file_extension": ".py",
   "mimetype": "text/x-python",
   "name": "python",
   "nbconvert_exporter": "python",
   "pygments_lexer": "ipython3",
   "version": "3.6.9"
  }
 },
 "nbformat": 4,
 "nbformat_minor": 1
}

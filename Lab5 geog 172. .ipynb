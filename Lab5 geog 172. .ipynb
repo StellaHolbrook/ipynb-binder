{
 "cells": [
  {
   "cell_type": "markdown",
   "metadata": {},
   "source": [
    "### Geog 172: ANOVA, Correlation, Regression (Lab 5)Due on December 9, 2020before 9.30 am\n",
    "\n",
    "By Jack Holbrook, Wednesday section, Greenbeg, 12/8/2020. "
   ]
  },
  {
   "cell_type": "markdown",
   "metadata": {},
   "source": [
    "![title](img/p1lab5.PNG)"
   ]
  },
  {
   "cell_type": "markdown",
   "metadata": {},
   "source": [
    "Question 1:\n",
    "\n",
    "    Assume that an analysis of variance is conducted for a study where there are N = 50 observations and k = 5 categories. Fill in the blanks in the following ANOVA table:"
   ]
  },
  {
   "cell_type": "code",
   "execution_count": null,
   "metadata": {},
   "outputs": [],
   "source": [
    "# Source:     \tSS  \tDF      \tMS      \tF\n",
    "# group: \tSST \tk−1 \tSST/(k−1) \tMST/MSE\n",
    "# Error:\tSSE \tN−k \tSSE/(N−k)\n",
    "# Total: SST + SSE, "
   ]
  },
  {
   "cell_type": "code",
   "execution_count": 1,
   "metadata": {},
   "outputs": [
    {
     "name": "stdout",
     "output_type": "stream",
     "text": [
      "group SS = 465.2\n",
      "group SS = 116.3\n",
      "group DF = 4\n",
      "error sum of squares = 2000\n",
      "error DF = 45\n",
      "error DF = 44.44444444444444\n",
      "group F stat = 2.61675\n",
      "total SS = 2465.2\n",
      "totsl DF = 49\n"
     ]
    }
   ],
   "source": [
    "#given:\n",
    "N = 50\n",
    "k = 5\n",
    "\n",
    "#group:\n",
    "groupDF = k-1\n",
    "groupMS = 116.3\n",
    "groupSS = groupMS * (k-1)\n",
    "groupMS = groupSS / (k-1)  # is simply the inverse\n",
    "print(\"group SS = \" +str(groupSS))\n",
    "print(\"group SS = \" +str(groupMS))\n",
    "print(\"group DF = \" +str(groupDF))\n",
    "\n",
    "#error:\n",
    "errorDF = N-k\n",
    "ErrorSS = 2000\n",
    "errorMs = ErrorSS/ errorDF\n",
    "Fstat = groupMS / errorMs\n",
    "print(\"error sum of squares = \" + str(2000))\n",
    "print(\"error DF = \" +str(errorDF))\n",
    "print(\"error DF = \" +str(errorMs))\n",
    "print(\"group F stat = \" +str(Fstat))\n",
    "\n",
    "#total:\n",
    "print(\"total SS = \" +str(ErrorSS + groupSS))\n",
    "print(\"totsl DF = \" +str(groupDF + errorDF))"
   ]
  },
  {
   "cell_type": "markdown",
   "metadata": {},
   "source": [
    "Question 2: Caffeine Problem.\n",
    "\n",
    "Does the mean amount of nectar taken depend on the concentration of caffeine in the nectar? Carry out ANOVA step by step in the following subsections:\n",
    "\n",
    "a.State the null and alternate hypotheses appropriate to this question.\n",
    "b.Calculated the following summary statistics for each group: sample size, sample mean, sample standard deviation.\n",
    "c.What is the error mean square?\n",
    "d.How many degrees of freedom are associated with errormean square?e.Calculate the estimate of the grand mean.\n",
    "f.Calculate the group sum of squares.\n",
    "g.Calculate the group degrees of freedom and the group mean square.\n",
    "h.What is F for this example?\n",
    "i.Find the P-value for this test?\n",
    "j.Report your results in an ANOVA tab;e"
   ]
  },
  {
   "cell_type": "code",
   "execution_count": 2,
   "metadata": {},
   "outputs": [],
   "source": [
    "# data:\n",
    "import numpy as np\n",
    "        # this was just copied from the worksheet\n",
    "ppm50 =  [-0.4, 0.34, 0.19, 0.05, -0.14]\n",
    "ppm100 = [0.01, -0.39, -0.08, -0.09, -0.31]\n",
    "ppm150 = [0.65, 0.53, 0.39, -0.15, 0.46]\n",
    "ppm200 = [0.24, 0.44, 0.13, 1.03, 0.05]"
   ]
  },
  {
   "cell_type": "markdown",
   "metadata": {},
   "source": [
    "A:\n",
    "    Null Hypothesis: there will be no relationship between the caffeine concentration in each feeder than the difference in consumption between the caffeinated feeders and the non caffeinated feeders. \n",
    "    \n",
    "    Alternate Hypothesis: There will be a correlation between the concentration in caffeine from each of the non control feeders and the the feeders.The difference in consumption between the two sets will change predictabley with the changing concentration in caffeine. "
   ]
  },
  {
   "cell_type": "code",
   "execution_count": 3,
   "metadata": {},
   "outputs": [
    {
     "name": "stdout",
     "output_type": "stream",
     "text": [
      "5\n",
      "5\n",
      "5\n",
      "5\n",
      "0.007999999999999997\n",
      "-0.17200000000000001\n",
      "0.37600000000000006\n",
      "0.378\n",
      "0.2582556872558667\n",
      "0.15157836257197133\n",
      "0.2766658634526493\n",
      "0.3513061343045407\n"
     ]
    }
   ],
   "source": [
    "# B:\n",
    "#cast to array\n",
    "ppm50 = np.array(ppm50) \n",
    "ppm100= np.array(ppm100) \n",
    "ppm150= np.array(ppm150) \n",
    "ppm200= np.array(ppm200) \n",
    "\n",
    "# sample size for each group\n",
    "print(len(ppm50))  \n",
    "print(len(ppm100))\n",
    "print(len(ppm150))\n",
    "print(len(ppm200))\n",
    "\n",
    "# sample means for each group:\n",
    "print(sum(ppm50)/len(ppm50))\n",
    "print(sum(ppm100)/len(ppm100))\n",
    "print(sum(ppm150)/len(ppm150))\n",
    "print(sum(ppm200)/len(ppm200))\n",
    "\n",
    "# Sample standard deviations for each group:\n",
    "print(ppm50.std())\n",
    "print(ppm100.std())\n",
    "print(ppm150.std())\n",
    "print(ppm200.std())"
   ]
  },
  {
   "cell_type": "code",
   "execution_count": 7,
   "metadata": {},
   "outputs": [
    {
     "name": "stdout",
     "output_type": "stream",
     "text": [
      "0.14750000000000002\n"
     ]
    },
    {
     "data": {
      "text/html": [
       "<div>\n",
       "<style scoped>\n",
       "    .dataframe tbody tr th:only-of-type {\n",
       "        vertical-align: middle;\n",
       "    }\n",
       "\n",
       "    .dataframe tbody tr th {\n",
       "        vertical-align: top;\n",
       "    }\n",
       "\n",
       "    .dataframe thead th {\n",
       "        text-align: right;\n",
       "    }\n",
       "</style>\n",
       "<table border=\"1\" class=\"dataframe\">\n",
       "  <thead>\n",
       "    <tr style=\"text-align: right;\">\n",
       "      <th></th>\n",
       "      <th>features</th>\n",
       "      <th>concentration</th>\n",
       "      <th>grandmean</th>\n",
       "    </tr>\n",
       "  </thead>\n",
       "  <tbody>\n",
       "    <tr>\n",
       "      <th>0</th>\n",
       "      <td>ppm50</td>\n",
       "      <td>-0.40</td>\n",
       "      <td>0.1475</td>\n",
       "    </tr>\n",
       "    <tr>\n",
       "      <th>1</th>\n",
       "      <td>ppm50</td>\n",
       "      <td>0.34</td>\n",
       "      <td>0.1475</td>\n",
       "    </tr>\n",
       "    <tr>\n",
       "      <th>2</th>\n",
       "      <td>ppm50</td>\n",
       "      <td>0.19</td>\n",
       "      <td>0.1475</td>\n",
       "    </tr>\n",
       "    <tr>\n",
       "      <th>3</th>\n",
       "      <td>ppm50</td>\n",
       "      <td>0.05</td>\n",
       "      <td>0.1475</td>\n",
       "    </tr>\n",
       "    <tr>\n",
       "      <th>4</th>\n",
       "      <td>ppm50</td>\n",
       "      <td>-0.14</td>\n",
       "      <td>0.1475</td>\n",
       "    </tr>\n",
       "    <tr>\n",
       "      <th>5</th>\n",
       "      <td>ppm100</td>\n",
       "      <td>0.01</td>\n",
       "      <td>0.1475</td>\n",
       "    </tr>\n",
       "    <tr>\n",
       "      <th>6</th>\n",
       "      <td>ppm100</td>\n",
       "      <td>-0.39</td>\n",
       "      <td>0.1475</td>\n",
       "    </tr>\n",
       "    <tr>\n",
       "      <th>7</th>\n",
       "      <td>ppm100</td>\n",
       "      <td>-0.08</td>\n",
       "      <td>0.1475</td>\n",
       "    </tr>\n",
       "    <tr>\n",
       "      <th>8</th>\n",
       "      <td>ppm100</td>\n",
       "      <td>-0.09</td>\n",
       "      <td>0.1475</td>\n",
       "    </tr>\n",
       "    <tr>\n",
       "      <th>9</th>\n",
       "      <td>ppm100</td>\n",
       "      <td>-0.31</td>\n",
       "      <td>0.1475</td>\n",
       "    </tr>\n",
       "    <tr>\n",
       "      <th>10</th>\n",
       "      <td>ppm150</td>\n",
       "      <td>0.65</td>\n",
       "      <td>0.1475</td>\n",
       "    </tr>\n",
       "    <tr>\n",
       "      <th>11</th>\n",
       "      <td>ppm150</td>\n",
       "      <td>0.53</td>\n",
       "      <td>0.1475</td>\n",
       "    </tr>\n",
       "    <tr>\n",
       "      <th>12</th>\n",
       "      <td>ppm150</td>\n",
       "      <td>0.39</td>\n",
       "      <td>0.1475</td>\n",
       "    </tr>\n",
       "    <tr>\n",
       "      <th>13</th>\n",
       "      <td>ppm150</td>\n",
       "      <td>-0.15</td>\n",
       "      <td>0.1475</td>\n",
       "    </tr>\n",
       "    <tr>\n",
       "      <th>14</th>\n",
       "      <td>ppm150</td>\n",
       "      <td>0.46</td>\n",
       "      <td>0.1475</td>\n",
       "    </tr>\n",
       "    <tr>\n",
       "      <th>15</th>\n",
       "      <td>ppm200</td>\n",
       "      <td>0.24</td>\n",
       "      <td>0.1475</td>\n",
       "    </tr>\n",
       "    <tr>\n",
       "      <th>16</th>\n",
       "      <td>ppm200</td>\n",
       "      <td>0.44</td>\n",
       "      <td>0.1475</td>\n",
       "    </tr>\n",
       "    <tr>\n",
       "      <th>17</th>\n",
       "      <td>ppm200</td>\n",
       "      <td>0.13</td>\n",
       "      <td>0.1475</td>\n",
       "    </tr>\n",
       "    <tr>\n",
       "      <th>18</th>\n",
       "      <td>ppm200</td>\n",
       "      <td>1.03</td>\n",
       "      <td>0.1475</td>\n",
       "    </tr>\n",
       "    <tr>\n",
       "      <th>19</th>\n",
       "      <td>ppm200</td>\n",
       "      <td>0.05</td>\n",
       "      <td>0.1475</td>\n",
       "    </tr>\n",
       "  </tbody>\n",
       "</table>\n",
       "</div>"
      ],
      "text/plain": [
       "   features  concentration  grandmean\n",
       "0     ppm50          -0.40     0.1475\n",
       "1     ppm50           0.34     0.1475\n",
       "2     ppm50           0.19     0.1475\n",
       "3     ppm50           0.05     0.1475\n",
       "4     ppm50          -0.14     0.1475\n",
       "5    ppm100           0.01     0.1475\n",
       "6    ppm100          -0.39     0.1475\n",
       "7    ppm100          -0.08     0.1475\n",
       "8    ppm100          -0.09     0.1475\n",
       "9    ppm100          -0.31     0.1475\n",
       "10   ppm150           0.65     0.1475\n",
       "11   ppm150           0.53     0.1475\n",
       "12   ppm150           0.39     0.1475\n",
       "13   ppm150          -0.15     0.1475\n",
       "14   ppm150           0.46     0.1475\n",
       "15   ppm200           0.24     0.1475\n",
       "16   ppm200           0.44     0.1475\n",
       "17   ppm200           0.13     0.1475\n",
       "18   ppm200           1.03     0.1475\n",
       "19   ppm200           0.05     0.1475"
      ]
     },
     "execution_count": 7,
     "metadata": {},
     "output_type": "execute_result"
    }
   ],
   "source": [
    "import pandas as pd\n",
    "# begin by concating arrays to simplify calculations:\n",
    "ppmtot = np.concatenate((ppm50, ppm100, ppm150, ppm200), axis=0)\n",
    "values = (['ppm50'] * len(ppm50)) + (['ppm100']*len(ppm100)) + (['ppm150'] * len(ppm150)) + (['ppm200']*len(ppm200))\n",
    "caffeine = pd.DataFrame({'features': values, 'concentration': ppmtot})\n",
    "grandmean = caffeine['concentration'].mean()\n",
    "caffeine['grandmean'] = grandmean\n",
    "print(grandmean)\n",
    "caffeine"
   ]
  },
  {
   "cell_type": "code",
   "execution_count": 16,
   "metadata": {},
   "outputs": [
    {
     "data": {
      "text/html": [
       "<div>\n",
       "<style scoped>\n",
       "    .dataframe tbody tr th:only-of-type {\n",
       "        vertical-align: middle;\n",
       "    }\n",
       "\n",
       "    .dataframe tbody tr th {\n",
       "        vertical-align: top;\n",
       "    }\n",
       "\n",
       "    .dataframe thead th {\n",
       "        text-align: right;\n",
       "    }\n",
       "</style>\n",
       "<table border=\"1\" class=\"dataframe\">\n",
       "  <thead>\n",
       "    <tr style=\"text-align: right;\">\n",
       "      <th></th>\n",
       "      <th>features</th>\n",
       "      <th>concentration</th>\n",
       "      <th>grandmean_x</th>\n",
       "      <th>groupmean</th>\n",
       "      <th>grandmean_y</th>\n",
       "    </tr>\n",
       "  </thead>\n",
       "  <tbody>\n",
       "    <tr>\n",
       "      <th>0</th>\n",
       "      <td>ppm50</td>\n",
       "      <td>-0.40</td>\n",
       "      <td>0.1475</td>\n",
       "      <td>0.008</td>\n",
       "      <td>0.1475</td>\n",
       "    </tr>\n",
       "    <tr>\n",
       "      <th>1</th>\n",
       "      <td>ppm50</td>\n",
       "      <td>0.34</td>\n",
       "      <td>0.1475</td>\n",
       "      <td>0.008</td>\n",
       "      <td>0.1475</td>\n",
       "    </tr>\n",
       "    <tr>\n",
       "      <th>2</th>\n",
       "      <td>ppm50</td>\n",
       "      <td>0.19</td>\n",
       "      <td>0.1475</td>\n",
       "      <td>0.008</td>\n",
       "      <td>0.1475</td>\n",
       "    </tr>\n",
       "    <tr>\n",
       "      <th>3</th>\n",
       "      <td>ppm50</td>\n",
       "      <td>0.05</td>\n",
       "      <td>0.1475</td>\n",
       "      <td>0.008</td>\n",
       "      <td>0.1475</td>\n",
       "    </tr>\n",
       "    <tr>\n",
       "      <th>4</th>\n",
       "      <td>ppm50</td>\n",
       "      <td>-0.14</td>\n",
       "      <td>0.1475</td>\n",
       "      <td>0.008</td>\n",
       "      <td>0.1475</td>\n",
       "    </tr>\n",
       "    <tr>\n",
       "      <th>5</th>\n",
       "      <td>ppm100</td>\n",
       "      <td>0.01</td>\n",
       "      <td>0.1475</td>\n",
       "      <td>-0.172</td>\n",
       "      <td>0.1475</td>\n",
       "    </tr>\n",
       "    <tr>\n",
       "      <th>6</th>\n",
       "      <td>ppm100</td>\n",
       "      <td>-0.39</td>\n",
       "      <td>0.1475</td>\n",
       "      <td>-0.172</td>\n",
       "      <td>0.1475</td>\n",
       "    </tr>\n",
       "    <tr>\n",
       "      <th>7</th>\n",
       "      <td>ppm100</td>\n",
       "      <td>-0.08</td>\n",
       "      <td>0.1475</td>\n",
       "      <td>-0.172</td>\n",
       "      <td>0.1475</td>\n",
       "    </tr>\n",
       "    <tr>\n",
       "      <th>8</th>\n",
       "      <td>ppm100</td>\n",
       "      <td>-0.09</td>\n",
       "      <td>0.1475</td>\n",
       "      <td>-0.172</td>\n",
       "      <td>0.1475</td>\n",
       "    </tr>\n",
       "    <tr>\n",
       "      <th>9</th>\n",
       "      <td>ppm100</td>\n",
       "      <td>-0.31</td>\n",
       "      <td>0.1475</td>\n",
       "      <td>-0.172</td>\n",
       "      <td>0.1475</td>\n",
       "    </tr>\n",
       "    <tr>\n",
       "      <th>10</th>\n",
       "      <td>ppm150</td>\n",
       "      <td>0.65</td>\n",
       "      <td>0.1475</td>\n",
       "      <td>0.376</td>\n",
       "      <td>0.1475</td>\n",
       "    </tr>\n",
       "    <tr>\n",
       "      <th>11</th>\n",
       "      <td>ppm150</td>\n",
       "      <td>0.53</td>\n",
       "      <td>0.1475</td>\n",
       "      <td>0.376</td>\n",
       "      <td>0.1475</td>\n",
       "    </tr>\n",
       "    <tr>\n",
       "      <th>12</th>\n",
       "      <td>ppm150</td>\n",
       "      <td>0.39</td>\n",
       "      <td>0.1475</td>\n",
       "      <td>0.376</td>\n",
       "      <td>0.1475</td>\n",
       "    </tr>\n",
       "    <tr>\n",
       "      <th>13</th>\n",
       "      <td>ppm150</td>\n",
       "      <td>-0.15</td>\n",
       "      <td>0.1475</td>\n",
       "      <td>0.376</td>\n",
       "      <td>0.1475</td>\n",
       "    </tr>\n",
       "    <tr>\n",
       "      <th>14</th>\n",
       "      <td>ppm150</td>\n",
       "      <td>0.46</td>\n",
       "      <td>0.1475</td>\n",
       "      <td>0.376</td>\n",
       "      <td>0.1475</td>\n",
       "    </tr>\n",
       "    <tr>\n",
       "      <th>15</th>\n",
       "      <td>ppm200</td>\n",
       "      <td>0.24</td>\n",
       "      <td>0.1475</td>\n",
       "      <td>0.378</td>\n",
       "      <td>0.1475</td>\n",
       "    </tr>\n",
       "    <tr>\n",
       "      <th>16</th>\n",
       "      <td>ppm200</td>\n",
       "      <td>0.44</td>\n",
       "      <td>0.1475</td>\n",
       "      <td>0.378</td>\n",
       "      <td>0.1475</td>\n",
       "    </tr>\n",
       "    <tr>\n",
       "      <th>17</th>\n",
       "      <td>ppm200</td>\n",
       "      <td>0.13</td>\n",
       "      <td>0.1475</td>\n",
       "      <td>0.378</td>\n",
       "      <td>0.1475</td>\n",
       "    </tr>\n",
       "    <tr>\n",
       "      <th>18</th>\n",
       "      <td>ppm200</td>\n",
       "      <td>1.03</td>\n",
       "      <td>0.1475</td>\n",
       "      <td>0.378</td>\n",
       "      <td>0.1475</td>\n",
       "    </tr>\n",
       "    <tr>\n",
       "      <th>19</th>\n",
       "      <td>ppm200</td>\n",
       "      <td>0.05</td>\n",
       "      <td>0.1475</td>\n",
       "      <td>0.378</td>\n",
       "      <td>0.1475</td>\n",
       "    </tr>\n",
       "  </tbody>\n",
       "</table>\n",
       "</div>"
      ],
      "text/plain": [
       "   features  concentration  grandmean_x  groupmean  grandmean_y\n",
       "0     ppm50          -0.40       0.1475      0.008       0.1475\n",
       "1     ppm50           0.34       0.1475      0.008       0.1475\n",
       "2     ppm50           0.19       0.1475      0.008       0.1475\n",
       "3     ppm50           0.05       0.1475      0.008       0.1475\n",
       "4     ppm50          -0.14       0.1475      0.008       0.1475\n",
       "5    ppm100           0.01       0.1475     -0.172       0.1475\n",
       "6    ppm100          -0.39       0.1475     -0.172       0.1475\n",
       "7    ppm100          -0.08       0.1475     -0.172       0.1475\n",
       "8    ppm100          -0.09       0.1475     -0.172       0.1475\n",
       "9    ppm100          -0.31       0.1475     -0.172       0.1475\n",
       "10   ppm150           0.65       0.1475      0.376       0.1475\n",
       "11   ppm150           0.53       0.1475      0.376       0.1475\n",
       "12   ppm150           0.39       0.1475      0.376       0.1475\n",
       "13   ppm150          -0.15       0.1475      0.376       0.1475\n",
       "14   ppm150           0.46       0.1475      0.376       0.1475\n",
       "15   ppm200           0.24       0.1475      0.378       0.1475\n",
       "16   ppm200           0.44       0.1475      0.378       0.1475\n",
       "17   ppm200           0.13       0.1475      0.378       0.1475\n",
       "18   ppm200           1.03       0.1475      0.378       0.1475\n",
       "19   ppm200           0.05       0.1475      0.378       0.1475"
      ]
     },
     "execution_count": 16,
     "metadata": {},
     "output_type": "execute_result"
    }
   ],
   "source": [
    "# compute the sum of squares error:\n",
    "sstotal = sum((caffeine['concentration'] -caffeine['grandmean'])**2)\n",
    "sstotal\n",
    "# now get the sum of squares error:\n",
    "groupmeans = caffeine.groupby('features').mean()\n",
    "groupmeans = groupmeans.rename(columns ={'concentration':'groupmean'})\n",
    "groupmeans\n",
    "\n",
    "# add data to original data frame\n",
    "\n",
    "\n",
    "# add group means and overall mean to the original data frame\n",
    "caffeine = caffeine.merge(groupmeans, left_on = 'features', right_index = True)\n",
    "caffeine\n"
   ]
  },
  {
   "cell_type": "code",
   "execution_count": 17,
   "metadata": {},
   "outputs": [
    {
     "name": "stdout",
     "output_type": "stream",
     "text": [
      "2.5825750000000003\n",
      "1.4481600000000001\n",
      "1.1344150000000002\n"
     ]
    }
   ],
   "source": [
    "caffeine\n",
    "sserror = sum((caffeine['concentration'] - caffeine['groupmean'])**2)\n",
    "print(sstotal)\n",
    "print(sserror)\n",
    "ssgroup = sstotal-sserror\n",
    "print(ssgroup)"
   ]
  },
  {
   "cell_type": "code",
   "execution_count": 18,
   "metadata": {},
   "outputs": [
    {
     "data": {
      "text/plain": [
       "0.07621894736842105"
      ]
     },
     "execution_count": 18,
     "metadata": {},
     "output_type": "execute_result"
    }
   ],
   "source": [
    "#C: \n",
    "#Error mean square:\n",
    "errorDF = 20-1\n",
    "k = 4\n",
    "errorMS = sserror/ errorDF\n",
    "errorMS  # gives the error mean square"
   ]
  },
  {
   "cell_type": "markdown",
   "metadata": {},
   "source": [
    "#D:\n",
    "The sample size is 20 in total, and the error degrees of freedom is the sample size N - 1, so 20 - 1 is 19 so the errorDF == 19. "
   ]
  },
  {
   "cell_type": "markdown",
   "metadata": {},
   "source": [
    "#E:\n",
    "The grand mean is the the sum of all the means form all the groups. The calculation for the grand mean is done 5 cells above, it is the mean of each grouped mean. for this data the grand mean calcualtedf from each individual record is the same as the grand mean calculated from each aggregated group mean. The grand mean value is 0.147 in difference between the caffenaited stations and the non caffeinated stations. "
   ]
  },
  {
   "cell_type": "markdown",
   "metadata": {},
   "source": [
    "#F:\n",
    "The group sum of squares is 1.1344, it is calculated 3 code cdells above. "
   ]
  },
  {
   "cell_type": "markdown",
   "metadata": {},
   "source": [
    "#G:\n",
    "The group degrees of freedom is the total number of responding groups which in this scenario is four groups. "
   ]
  },
  {
   "cell_type": "code",
   "execution_count": 19,
   "metadata": {},
   "outputs": [
    {
     "name": "stdout",
     "output_type": "stream",
     "text": [
      "group F stat = 4.961211698523185\n",
      "0.3781383333333334\n"
     ]
    }
   ],
   "source": [
    "#H:\n",
    "GroupMS = ssgroup / (k-1)\n",
    "Fstat = GroupMS / errorMS\n",
    "print(\"group F stat = \" +str(Fstat))\n",
    "print(GroupMS)"
   ]
  },
  {
   "cell_type": "markdown",
   "metadata": {},
   "source": [
    "#I:\n",
    "Using the table with the F statistic, the numerator at 4, and the denominator at 20, the calculated p value is significant at p < 0.02"
   ]
  },
  {
   "cell_type": "code",
   "execution_count": null,
   "metadata": {},
   "outputs": [],
   "source": [
    "# J\n",
    "#### recap: full ANOVA table:\n",
    "# Source:     \tSS  \tDF      \tMS      \tF                                            \n",
    "# group: \t SS  \tDF      \tMS      \tF\n",
    "        1.134415      4       0.3781383    3.720908773892388\n",
    "# Error: \t SS  \tDF      \tMS     \n",
    "        1.44816,    19   .07621894736842105\n",
    "# Total: \n",
    "  2.5825750000000003                 \n",
    "    \n",
    "    # completed ANOVA table"
   ]
  },
  {
   "cell_type": "markdown",
   "metadata": {},
   "source": [
    "Question 3:\n",
    "Question considering correlation in hyena age and giggle fequency in hertz. "
   ]
  },
  {
   "cell_type": "code",
   "execution_count": 88,
   "metadata": {},
   "outputs": [
    {
     "data": {
      "text/plain": [
       "<matplotlib.collections.PathCollection at 0x7f1637d13588>"
      ]
     },
     "execution_count": 88,
     "metadata": {},
     "output_type": "execute_result"
    },
    {
     "data": {
      "image/png": "[encoded data removed]",
      "text/plain": [
       "<Figure size 432x288 with 1 Axes>"
      ]
     },
     "metadata": {
      "needs_background": "light"
     },
     "output_type": "display_data"
    }
   ],
   "source": [
    "# Question 3\n",
    "\n",
    "age = [2,2,2,6,9,10,13,10,14,14,12,7,11,11,14,20]\n",
    "freqHrz = [840, 670, 580, 470, 540, 660, 510, 520, 500, 480, 400, 650, 460, 500, 580, 500]\n",
    "\n",
    "plt.scatter(age, freqHrz)\n",
    "# this suggests a negative association, that frequency decreases with age. "
   ]
  },
  {
   "cell_type": "code",
   "execution_count": 24,
   "metadata": {},
   "outputs": [
    {
     "data": {
      "text/plain": [
       "380.4375"
      ]
     },
     "execution_count": 24,
     "metadata": {},
     "output_type": "execute_result"
    }
   ],
   "source": [
    "#B:\n",
    "globalmeanage  =(sum(age)/len(age))\n",
    "globalmeanfreq =(sum(freqHrz)/len(freqHrz))\n",
    "hyenas = pd.DataFrame({'age': age, 'freqhrz': freqHrz, 'meanage':globalmeanage, 'meanhrz': globalmeanfreq})\n",
    "hyenas\n",
    "sshyenaAge = sum((hyenas['age']-hyenas['meanage'])**2)\n",
    "sshyenaAge"
   ]
  },
  {
   "cell_type": "code",
   "execution_count": 27,
   "metadata": {},
   "outputs": [
    {
     "data": {
      "text/plain": [
       "174175.0"
      ]
     },
     "execution_count": 27,
     "metadata": {},
     "output_type": "execute_result"
    }
   ],
   "source": [
    "#C:\n",
    "sshyenafrz = sum((hyenas['freqhrz']-hyenas['meanhrz'])**2)\n",
    "sshyenafrz"
   ]
  },
  {
   "cell_type": "code",
   "execution_count": 28,
   "metadata": {},
   "outputs": [
    {
     "data": {
      "text/plain": [
       "-4898.75"
      ]
     },
     "execution_count": 28,
     "metadata": {},
     "output_type": "execute_result"
    }
   ],
   "source": [
    "#D:\n",
    "hyenas\n",
    "sumprod = sum((hyenas['age']-(hyenas['meanage']))*(hyenas['freqhrz'] - (hyenas['meanhrz'])))\n",
    "sumprod"
   ]
  },
  {
   "cell_type": "code",
   "execution_count": 31,
   "metadata": {},
   "outputs": [
    {
     "data": {
      "text/plain": [
       "-0.60179795461996"
      ]
     },
     "execution_count": 31,
     "metadata": {},
     "output_type": "execute_result"
    }
   ],
   "source": [
    "#E:\n",
    "b = sumprod / sshyenaAge\n",
    "r = sumprod / ((sshyenaAge**(1/2))*(sshyenafrz**(1/2)))\n",
    "r\n",
    "# correlation coefficient is -0.60179795461996"
   ]
  },
  {
   "cell_type": "code",
   "execution_count": 46,
   "metadata": {},
   "outputs": [
    {
     "data": {
      "text/plain": [
       "-0.6959612353906193"
      ]
     },
     "execution_count": 46,
     "metadata": {},
     "output_type": "execute_result"
    }
   ],
   "source": [
    "#F\n",
    "# computed fischer's z transformation\n",
    "\n",
    "def ztransform(r):\n",
    "    z = (1/2)*(np.log(1+r)-np.log(1-r))\n",
    "    return z\n",
    "ztransform(r)"
   ]
  },
  {
   "cell_type": "code",
   "execution_count": 71,
   "metadata": {},
   "outputs": [
    {
     "data": {
      "text/plain": [
       "(100+1.713913650100261j)"
      ]
     },
     "execution_count": 71,
     "metadata": {},
     "output_type": "execute_result"
    }
   ],
   "source": [
    "# G:\n",
    "# computing the standard error\n",
    "((1-(z*z)/(16-2))**(1/2))\n",
    "# coputing the standard error of sampling distribution:\n",
    "sigma = ((1/16-3)**(1/2))\n",
    "sigma+100"
   ]
  },
  {
   "cell_type": "code",
   "execution_count": null,
   "metadata": {},
   "outputs": [],
   "source": [
    "# H:\n",
    "Zcrit = -1.645\n",
    "# at alpha = .05, the Z critical vlaue is -1.645. "
   ]
  },
  {
   "cell_type": "code",
   "execution_count": 78,
   "metadata": {},
   "outputs": [
    {
     "name": "stdout",
     "output_type": "stream",
     "text": [
      "(-0.6959612353906195-3.3592707541965114j)\n",
      "(-0.695961235390619+3.3592707541965114j)\n",
      "(-0.6959612353906195-3.3592707541965114j)<Z<(-0.695961235390619+3.3592707541965114j)\n"
     ]
    }
   ],
   "source": [
    "# I:\n",
    "r_ = (1+r)/1.6017979546199599\n",
    "z2=0.5*np.log(r_)#\n",
    "z2\n",
    "\n",
    "low = z2-(1.96*(sigma))\n",
    "high = z2+(1.96*(sigma))\n",
    "\n",
    "print(low)\n",
    "print(high)\n",
    "\n",
    "print(str(low)+\"<Z<\"+str(high))"
   ]
  },
  {
   "cell_type": "code",
   "execution_count": null,
   "metadata": {},
   "outputs": [],
   "source": [
    "# J:\n"
   ]
  },
  {
   "cell_type": "code",
   "execution_count": 94,
   "metadata": {},
   "outputs": [
    {
     "name": "stdout",
     "output_type": "stream",
     "text": [
      "Year ['Sat', 'Sun', 'Mon', 'Tue', 'Wed', 'Thur', 'Fri']\n",
      "II1971 [0.83, 3.14, 4.2, 1.28, 1.16, 4.25, 2.08]\n",
      "I1972 [4.66, 4.15, 3.4, 1.74, 3.91, 5.15, 5.06]\n",
      "II1972 [3.03, 5.8, 2.29, 3.17, 3.5, 3.4, 3.04]\n",
      "I1973 [3.69, 3.72, 4.29, 2.06, 3.04, 2.3, 4.26]\n",
      "II1973 [2.35, 3.62, 3.56, 2.27, 4.46, 2.52, 3.36]\n",
      "I1974 [3.18, 3.28, 1.82, 3.75, 2.07, 3.54, 2.27]\n"
     ]
    }
   ],
   "source": [
    "# question #4:\n",
    "\n",
    "precipitationBoston = {\n",
    "\"Year\": [\"Sat\",\"Sun\", \"Mon\", \"Tue\", \"Wed\", \"Thur\", \"Fri\"],\n",
    "\"II1971\": [0.83, 3.14, 4.20, 1.28, 1.16, 4.25, 2.08],\n",
    "\"I1972\": [4.66, 4.15, 3.40, 1.74, 3.91, 5.15, 5.06],\n",
    "\"II1972\":  [3.03, 5.80, 2.29, 3.17, 3.50, 3.40, 3.04],\n",
    "\"I1973\":  [3.69, 3.72, 4.29, 2.06, 3.04, 2.30, 4.26],\n",
    "\"II1973\":  [2.35, 3.62, 3.56, 2.27, 4.46, 2.52, 3.36],\n",
    "\"I1974\":  [3.18, 3.28, 1.82, 3.75, 2.07, 3.54, 2.27],\n",
    "    \n",
    "    }\n",
    "#precipitationBoston.values[0]\n",
    "\n",
    "for key, value in precipitationBoston.items():\n",
    "    print(key, value)\n",
    "    \n",
    "df = pd.DataFrame(precipitationBoston, columns = ['Year',\"II1971\", \"I1972\",\"II1972\", \"I1973\", \"II1973\", \"I1974\"])"
   ]
  },
  {
   "cell_type": "code",
   "execution_count": 111,
   "metadata": {},
   "outputs": [
    {
     "name": "stdout",
     "output_type": "stream",
     "text": [
      "0    2.956667\n",
      "1    3.951667\n",
      "2    3.260000\n",
      "3    2.378333\n",
      "4    3.023333\n",
      "5    3.526667\n",
      "6    3.345000\n",
      "dtype: float64\n",
      "0    1.295001\n",
      "1    0.972552\n",
      "2    1.006837\n",
      "3    0.920335\n",
      "4    1.221354\n",
      "5    1.067027\n",
      "6    1.151308\n",
      "dtype: float64\n"
     ]
    }
   ],
   "source": [
    "df.set_index('Year')\n",
    "# compute the mean for each weekday\n",
    "print(df.mean(axis=1))\n",
    "# compute the std for each weekday\n",
    "print(df.std(axis=1))"
   ]
  },
  {
   "cell_type": "code",
   "execution_count": 116,
   "metadata": {},
   "outputs": [],
   "source": [
    "# ANOVA\n",
    "grandmean = df.mean()\n",
    "# Source:     \tSS  \tDF      \tMS      \tF\n",
    "# group: \tSST \tk−1 \tSST/(k−1) \tMST/MSE\n",
    "# Error:\tSSE \tN−k \tSSE/(N−k)\n",
    "# Total: SST + SSE, "
   ]
  },
  {
   "cell_type": "code",
   "execution_count": 99,
   "metadata": {},
   "outputs": [],
   "source": [
    "precipitationPittsburg = {\n",
    "\"Year\": [\"Sat\",\"Sun\", \"Mon\", \"Tue\", \"Wed\", \"Thur\", \"Fri\"],\n",
    "\"II1971\": [1.64,5.55,3.19,2.45,1.44,1.07,1.66],\n",
    "\"I1972\": [2.20,3.37,0.78,2.63,2.32,5.57,2.80],\n",
    "\"II1972\":  [2.75, 1.72,2.34,3.40,3.68,3.48,2.50],\n",
    "\"I1973\":  [2.23,4.31,2.02,1.83,4.35,4.07,2.66],\n",
    "\"II1973\":  [3.65,2.66,3.95,2.31,1.85,2.63,1.11],\n",
    "\"I1974\":  [4.96,3.00, 2.61,1.75,2.70,2.45,4.06], \n",
    "    }\n",
    "\n",
    "df2 = pd.DataFrame(precipitationPittsburg, columns = ['Year',\"II1971\", \"I1972\",\"II1972\", \"I1973\", \"II1973\", \"I1974\"])"
   ]
  },
  {
   "cell_type": "code",
   "execution_count": 112,
   "metadata": {},
   "outputs": [
    {
     "name": "stdout",
     "output_type": "stream",
     "text": [
      "0    2.905000\n",
      "1    3.435000\n",
      "2    2.481667\n",
      "3    2.395000\n",
      "4    2.723333\n",
      "5    3.211667\n",
      "6    2.465000\n",
      "dtype: float64\n",
      "0    1.212844\n",
      "1    1.339713\n",
      "2    1.077319\n",
      "3    0.601789\n",
      "4    1.107622\n",
      "5    1.541148\n",
      "6    1.017797\n",
      "dtype: float64\n"
     ]
    }
   ],
   "source": [
    "df2.set_index('Year')\n",
    "# compute the mean for each weekday\n",
    "print(df2.mean(axis=1))\n",
    "# compute the std for each weekday\n",
    "print(df2.std(axis=1))"
   ]
  },
  {
   "cell_type": "code",
   "execution_count": 115,
   "metadata": {},
   "outputs": [],
   "source": [
    "# ANOVA:\n",
    "grandmean = df2.mean()\n",
    "# Source:     \tSS  \tDF      \tMS      \tF\n",
    "# group: \tSST \tk−1 \tSST/(k−1) \tMST/MSE\n",
    "# Error:\tSSE \tN−k \tSSE/(N−k)\n",
    "# Total: SST + SSE, "
   ]
  },
  {
   "cell_type": "code",
   "execution_count": 82,
   "metadata": {},
   "outputs": [
    {
     "data": {
      "text/plain": [
       "<matplotlib.collections.PathCollection at 0x7f1638b1fb70>"
      ]
     },
     "execution_count": 82,
     "metadata": {},
     "output_type": "execute_result"
    },
    {
     "data": {
      "image/png": "[encoded data removed]",
      "text/plain": [
       "<Figure size 432x288 with 1 Axes>"
      ]
     },
     "metadata": {
      "needs_background": "light"
     },
     "output_type": "display_data"
    }
   ],
   "source": [
    "# Question #5:\n",
    "\n",
    "facedim = [1.59, 1.67, 1.65, 1.72, 1.79, 1.77, 1.74, 1.74, 1.77, 1.78, 1.76, 1.81, 1.83, 1.83, 1.84, 1.87, 1.92, 1.95, 1.98, 1.99, 2.07]\n",
    "penaltyMin = [.44, 1.43, 1.57, .14, .27, .35, .85, 1.13, 1.47, 1.51, 1.99, 1.06, 1.20, 1.23, .8, 2.53, 1.23, 1.1, 1.61, 1.95, 2.95]\n",
    "#len(penaltyMin)\n",
    "plt.scatter(facedim, penaltyMin)"
   ]
  },
  {
   "cell_type": "markdown",
   "metadata": {},
   "source": [
    "#B:\n",
    "   The scater plot seems to yield some correlation between the face dimensions and the penalty minutes per game, the events seem positivly correlated where athlete with a bigger face seem to incur more penalty minutes per game.  "
   ]
  },
  {
   "cell_type": "code",
   "execution_count": 83,
   "metadata": {},
   "outputs": [
    {
     "name": "stdout",
     "output_type": "stream",
     "text": [
      "1.812857142857143\n",
      "1.2766666666666666\n"
     ]
    }
   ],
   "source": [
    "#C:\n",
    "facedim = np.array(facedim)\n",
    "penaltyMin = np.array(penaltyMin)\n",
    "\n",
    "# show varibale means\n",
    "print(facedim.mean())\n",
    "print(penaltyMin.mean())"
   ]
  },
  {
   "cell_type": "code",
   "execution_count": 87,
   "metadata": {},
   "outputs": [
    {
     "name": "stdout",
     "output_type": "stream",
     "text": [
      "[[3.18898271]]\n",
      "[-4.50450342]\n"
     ]
    }
   ],
   "source": [
    "#D && E:\n",
    "facedim = facedim.reshape(-1, 1)\n",
    "penaltyMin = penaltyMin.reshape(-1, 1)\n",
    "\n",
    "# calculating the estimate of the regression slope and the estimate of the intercept \n",
    "lin = LinearRegression()\n",
    "lin.fit(facedim, penaltyMin)\n",
    "\n",
    "print(lin.coef_)      # A parameter\n",
    "print(lin.intercept_) # B parameter\n",
    "\n",
    "#yes an increase of 3 minute penalty time makes sense for the increase of 1 unit face size. \n",
    "A =lin.coef_\n",
    "B = lin.intercept_"
   ]
  },
  {
   "cell_type": "code",
   "execution_count": 90,
   "metadata": {},
   "outputs": [],
   "source": [
    "def yAxBline(A, B):\n",
    "    '''draws a line over the scatterplot that takes\n",
    "    the line's slope and intercept as arguments'''\n",
    "    getaxis = plt.gca()\n",
    "    x = np.array(getaxis.get_xlim())\n",
    "    y = B + A * x\n",
    "    plt.plot(x, y, '--')"
   ]
  },
  {
   "cell_type": "code",
   "execution_count": 92,
   "metadata": {},
   "outputs": [
    {
     "data": {
      "image/png": "[encoded data removed]",
      "text/plain": [
       "<Figure size 432x288 with 1 Axes>"
      ]
     },
     "metadata": {
      "needs_background": "light"
     },
     "output_type": "display_data"
    }
   ],
   "source": [
    "plt.scatter(facedim, penaltyMin)\n",
    "yAxBline(3.18898271, -4.50450342)"
   ]
  },
  {
   "cell_type": "code",
   "execution_count": 113,
   "metadata": {},
   "outputs": [],
   "source": [
    "from matplotlib import pyplot as plt\n",
    "from sklearn.linear_model import LinearRegression\n",
    "from statsmodels.formula.api import ols"
   ]
  }
 ],
 "metadata": {
  "kernelspec": {
   "display_name": "Python 3",
   "language": "python",
   "name": "python3"
  },
  "language_info": {
   "codemirror_mode": {
    "name": "ipython",
    "version": 3
   },
   "file_extension": ".py",
   "mimetype": "text/x-python",
   "name": "python",
   "nbconvert_exporter": "python",
   "pygments_lexer": "ipython3",
   "version": "3.6.9"
  }
 },
 "nbformat": 4,
 "nbformat_minor": 2
}
